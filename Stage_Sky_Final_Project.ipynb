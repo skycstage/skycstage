{
  "cells": [
    {
      "cell_type": "markdown",
      "metadata": {
        "id": "view-in-github",
        "colab_type": "text"
      },
      "source": [
        "<a href=\"https://colab.research.google.com/github/skycstage/skycstage/blob/main/Stage_Sky_Final_Project.ipynb\" target=\"_parent\"><img src=\"https://colab.research.google.com/assets/colab-badge.svg\" alt=\"Open In Colab\"/></a>"
      ]
    },
    {
      "cell_type": "markdown",
      "metadata": {
        "id": "WwA3eieh11H6"
      },
      "source": [
        "<h5><div><font face=\"Playfair\" color=\"#33302e\">\n",
        "Sky C. Stage<br><br>\n",
        "\n",
        "---\n",
        "<h2><b><div><font face=\"Playfair\" color=\"#33302e\">\n",
        "Introduction\n",
        "</font></div></b>\n",
        "<h3><font face=\"Playfair\" color=\"#33302e\">\n",
        "The dataset analyzed in this project was scraped from Instacart, contained six separate tables and the corresponding fields (note: the sixth table, order_products_train was excluded as predictive analytics was not required for this project):\n",
        "<li>orders: \n",
        "  <code>order_id, user_id, eval_set, order_number, order_dow, order_hour_of_day, days_since_prior_order</code>\n",
        "<li>order_products_prior:\n",
        "  <code>order_id, product_id, add_to_cart_order,\n",
        "reordered</code>\n",
        "<li>products:\n",
        "  <code>product_id, product_name, aisle_id, department_id</code>\n",
        "<li>aisles:\n",
        "  <code>aisle_id, aisle</code>\n",
        "<li>departments:\n",
        "  <code>department_id, department</code>\n",
        "<h3>From this dataset, analysis was completed in Python and Pandas to answer the research questions outlined in section four.\n",
        "</font><br><br>\n",
        "<h2><b><div><font face=\"Playfair\" color=\"#33302e\">\n",
        "Process and Analysis\n",
        "</font></div></b>\n",
        "<h3><font face=\"Playfair\" color=\"#33302e\">\n",
        "With dataset divided in separate tables, a join had to be conducted to answer most research questions. The below diagram shows how each table was joined throughout this project.<br><br>\n",
        "<img src=\"https://live.staticflickr.com/65535/51374483411_79a814b2fc_k.jpg\" width=\"1000\" alt=\"Diagram\">\n",
        "<br>\n",
        "<h3>\n",
        "Within this summary, the research questions and supporting visualizations are shown. Below, each section can be expanded to view the code used to create the queries and charts.\n",
        "<br><br>\n",
        "Each section can be run by clicking the play arrow next to the hidden cells after running the two cells below. The code in each section begins by importing the necessary DataFrames and libraries to answer the research question and ends with a manual runtime reset to save on RAM. This will allow us to complete all the necessary joins, groupings, and filters to create the visualizations and answers to the research questions without the session crashing completely. If the session does happen to crash completely, just run the two cells below again before running a new section. \n",
        "</font><br><br>\n",
        "<h2><b><div><font face=\"Playfair\" color=\"#33302e\">\n",
        "Connect to Kaggle and Import Libaries\n",
        "<h3><font face=\"Playfair\" color=\"#33302e\">\n",
        "First, run the following two cells to connect to Kaggle to pull the Instacart dataset zip folder and mount the Google drive to save and pull CSV files to and from later."
      ]
    },
    {
      "cell_type": "code",
      "execution_count": null,
      "metadata": {
        "colab": {
          "base_uri": "https://localhost:8080/"
        },
        "id": "JYEsJTotWbNQ",
        "outputId": "a6132eb1-26c1-4ae9-d066-a6fd8184a475"
      },
      "outputs": [
        {
          "name": "stdout",
          "output_type": "stream",
          "text": [
            "Requirement already satisfied: kaggle in /usr/local/lib/python3.7/dist-packages (1.5.12)\n",
            "Requirement already satisfied: six>=1.10 in /usr/local/lib/python3.7/dist-packages (from kaggle) (1.15.0)\n",
            "Requirement already satisfied: python-slugify in /usr/local/lib/python3.7/dist-packages (from kaggle) (5.0.2)\n",
            "Requirement already satisfied: tqdm in /usr/local/lib/python3.7/dist-packages (from kaggle) (4.62.3)\n",
            "Requirement already satisfied: python-dateutil in /usr/local/lib/python3.7/dist-packages (from kaggle) (2.8.2)\n",
            "Requirement already satisfied: requests in /usr/local/lib/python3.7/dist-packages (from kaggle) (2.23.0)\n",
            "Requirement already satisfied: certifi in /usr/local/lib/python3.7/dist-packages (from kaggle) (2021.10.8)\n",
            "Requirement already satisfied: urllib3 in /usr/local/lib/python3.7/dist-packages (from kaggle) (1.24.3)\n",
            "Requirement already satisfied: text-unidecode>=1.3 in /usr/local/lib/python3.7/dist-packages (from python-slugify->kaggle) (1.3)\n",
            "Requirement already satisfied: idna<3,>=2.5 in /usr/local/lib/python3.7/dist-packages (from requests->kaggle) (2.10)\n",
            "Requirement already satisfied: chardet<4,>=3.0.2 in /usr/local/lib/python3.7/dist-packages (from requests->kaggle) (3.0.4)\n",
            "Warning: Your Kaggle API key is readable by other users on this system! To fix this, you can run 'chmod 600 /root/.kaggle/kaggle.json'\n",
            "- path is now set to: {/root}\n",
            "Warning: Your Kaggle API key is readable by other users on this system! To fix this, you can run 'chmod 600 /root/.kaggle/kaggle.json'\n",
            "Warning: Looks like you're using an outdated API Version, please consider updating (server 1.5.12 / client 1.5.4)\n",
            "ref                                          title                              size  lastUpdated          downloadCount  \n",
            "-------------------------------------------  --------------------------------  -----  -------------------  -------------  \n",
            "psparks/instacart-market-basket-analysis     Instacart Market Basket Analysis  197MB  2017-11-20 03:08:26           8038  \n",
            "viswajithkn/instacart-predict-shopping-time  Instacart Predict Shopping Time    12MB  2018-10-29 17:24:48            460  \n",
            "samwhitehill/instacart-training-sample       InstaCart training sample           1MB  2017-07-01 20:24:11            175  \n",
            "samwhitehill/instacart-sample-labels         Instacart sample labels             9KB  2017-07-01 20:26:16             29  \n",
            "streptkinase/instacart-data-cache            Instacart_data_cache              409MB  2020-07-31 05:35:52              9  \n",
            "emmettdoolan/instacart-mba                   Instacart_MBA                     198MB  2020-04-08 13:46:01             60  \n",
            "streptkinase/user-features-instacart         user_features_instacart             4MB  2020-08-06 05:56:24              8  \n",
            "despoinapatsavoudi/instacat2assignment1      instacat-2-assignment.1             4KB  2021-11-21 03:26:28              0  \n",
            "Warning: Your Kaggle API key is readable by other users on this system! To fix this, you can run 'chmod 600 /root/.kaggle/kaggle.json'\n",
            "Downloading instacart-market-basket-analysis.zip to /content\n",
            " 98% 193M/197M [00:05<00:00, 27.6MB/s]\n",
            "100% 197M/197M [00:05<00:00, 38.7MB/s]\n",
            "Archive:  instacart-market-basket-analysis.zip\n",
            "  inflating: aisles.csv              \n",
            "  inflating: departments.csv         \n",
            "  inflating: order_products__prior.csv  \n",
            "  inflating: order_products__train.csv  \n",
            "  inflating: orders.csv              \n",
            "  inflating: products.csv            \n"
          ]
        }
      ],
      "source": [
        "#1. Import libraries\n",
        "!pip install kaggle \n",
        "import json\n",
        "import pandas as pd\n",
        "import numpy as np\n",
        "\n",
        "#2. Add Kaggle API token\n",
        "token={\"username\":\"--\",\"key\":\"--\"}\n",
        "\n",
        "#3. Open Kaggle dataset\n",
        "!mkdir ~/.kaggle\n",
        "with open('/root/.kaggle/kaggle.json','w') as file:\n",
        "  json.dump(token, file)\n",
        "!kaggle config set -n path -v{/root}\n",
        "!kaggle datasets list -s instacart\n",
        "!kaggle datasets download -d psparks/instacart-market-basket-analysis -p /content\n",
        "!unzip \\*.zip"
      ]
    },
    {
      "cell_type": "markdown",
      "metadata": {
        "id": "bEQMiEE8H0MT"
      },
      "source": [
        "<h2><b><div><font face=\"Playfair\" color=\"#33302e\">\n",
        "Mount the Drive\n",
        "<h3><font face=\"Playfair\" color=\"#33302e\">\n",
        "When the cell below is run, it will prompt an authorization input which you will have to login to to acquire the code to paste in the box."
      ]
    },
    {
      "cell_type": "code",
      "execution_count": null,
      "metadata": {
        "colab": {
          "base_uri": "https://localhost:8080/"
        },
        "id": "lbvPZUj8YotW",
        "outputId": "a5f6db8e-c176-4f59-c647-3fcbf1ecc9be"
      },
      "outputs": [
        {
          "name": "stdout",
          "output_type": "stream",
          "text": [
            "Mounted at /content/drive\n"
          ]
        }
      ],
      "source": [
        "#5. Mount the drive\n",
        "from google.colab import drive\n",
        "drive.mount('/content/drive')"
      ]
    },
    {
      "cell_type": "markdown",
      "metadata": {
        "id": "nhgLFWaJ3VbJ"
      },
      "source": [
        "# <h2><b><div><font face=\"Playfair\" color=\"#33302e\">Initial Exploration\n",
        "<h3><font face=\"Playfair\" color=\"#33302e\">\n",
        "This section outlines the initial exploratory analysis. The cell below imports the CSV files from the Kaggle zip folder above into pandas DataFrames."
      ]
    },
    {
      "cell_type": "code",
      "execution_count": null,
      "metadata": {
        "id": "1Hcpn6RHaIm7"
      },
      "outputs": [],
      "source": [
        "#1. Import CSV files as dataframes\n",
        "import pandas as pd\n",
        "aisles = pd.read_csv('aisles.csv')\n",
        "departments = pd.read_csv('departments.csv')\n",
        "orders = pd.read_csv('orders.csv' )\n",
        "order_products_train = pd.read_csv('order_products__train.csv')\n",
        "order_products_prior = pd.read_csv('order_products__prior.csv')\n",
        "products = pd.read_csv('products.csv')"
      ]
    },
    {
      "cell_type": "markdown",
      "metadata": {
        "id": "d3EhctGCIggE"
      },
      "source": [
        "## <h2><b><div><font face=\"Playfair\" color=\"#33302e\">View the Contents of Each DataFrame Table\n",
        "<h3><font face=\"Playfair\" color=\"#33302e\">\n",
        "To see what each DataFrame table contains, just type the name of the DataFrame in a code cell and run it."
      ]
    },
    {
      "cell_type": "code",
      "execution_count": null,
      "metadata": {
        "colab": {
          "base_uri": "https://localhost:8080/",
          "height": 419
        },
        "id": "32pU9nOYag4A",
        "outputId": "08ef11e0-80ad-471d-c5ac-71728e6e54f9"
      },
      "outputs": [
        {
          "data": {
            "text/html": [
              "<div>\n",
              "<style scoped>\n",
              "    .dataframe tbody tr th:only-of-type {\n",
              "        vertical-align: middle;\n",
              "    }\n",
              "\n",
              "    .dataframe tbody tr th {\n",
              "        vertical-align: top;\n",
              "    }\n",
              "\n",
              "    .dataframe thead th {\n",
              "        text-align: right;\n",
              "    }\n",
              "</style>\n",
              "<table border=\"1\" class=\"dataframe\">\n",
              "  <thead>\n",
              "    <tr style=\"text-align: right;\">\n",
              "      <th></th>\n",
              "      <th>aisle_id</th>\n",
              "      <th>aisle</th>\n",
              "    </tr>\n",
              "  </thead>\n",
              "  <tbody>\n",
              "    <tr>\n",
              "      <th>0</th>\n",
              "      <td>1</td>\n",
              "      <td>prepared soups salads</td>\n",
              "    </tr>\n",
              "    <tr>\n",
              "      <th>1</th>\n",
              "      <td>2</td>\n",
              "      <td>specialty cheeses</td>\n",
              "    </tr>\n",
              "    <tr>\n",
              "      <th>2</th>\n",
              "      <td>3</td>\n",
              "      <td>energy granola bars</td>\n",
              "    </tr>\n",
              "    <tr>\n",
              "      <th>3</th>\n",
              "      <td>4</td>\n",
              "      <td>instant foods</td>\n",
              "    </tr>\n",
              "    <tr>\n",
              "      <th>4</th>\n",
              "      <td>5</td>\n",
              "      <td>marinades meat preparation</td>\n",
              "    </tr>\n",
              "    <tr>\n",
              "      <th>...</th>\n",
              "      <td>...</td>\n",
              "      <td>...</td>\n",
              "    </tr>\n",
              "    <tr>\n",
              "      <th>129</th>\n",
              "      <td>130</td>\n",
              "      <td>hot cereal pancake mixes</td>\n",
              "    </tr>\n",
              "    <tr>\n",
              "      <th>130</th>\n",
              "      <td>131</td>\n",
              "      <td>dry pasta</td>\n",
              "    </tr>\n",
              "    <tr>\n",
              "      <th>131</th>\n",
              "      <td>132</td>\n",
              "      <td>beauty</td>\n",
              "    </tr>\n",
              "    <tr>\n",
              "      <th>132</th>\n",
              "      <td>133</td>\n",
              "      <td>muscles joints pain relief</td>\n",
              "    </tr>\n",
              "    <tr>\n",
              "      <th>133</th>\n",
              "      <td>134</td>\n",
              "      <td>specialty wines champagnes</td>\n",
              "    </tr>\n",
              "  </tbody>\n",
              "</table>\n",
              "<p>134 rows × 2 columns</p>\n",
              "</div>"
            ],
            "text/plain": [
              "     aisle_id                       aisle\n",
              "0           1       prepared soups salads\n",
              "1           2           specialty cheeses\n",
              "2           3         energy granola bars\n",
              "3           4               instant foods\n",
              "4           5  marinades meat preparation\n",
              "..        ...                         ...\n",
              "129       130    hot cereal pancake mixes\n",
              "130       131                   dry pasta\n",
              "131       132                      beauty\n",
              "132       133  muscles joints pain relief\n",
              "133       134  specialty wines champagnes\n",
              "\n",
              "[134 rows x 2 columns]"
            ]
          },
          "execution_count": 5,
          "metadata": {},
          "output_type": "execute_result"
        }
      ],
      "source": [
        "#2. Show the contents of each dataframe\n",
        "aisles"
      ]
    },
    {
      "cell_type": "code",
      "execution_count": null,
      "metadata": {
        "colab": {
          "base_uri": "https://localhost:8080/",
          "height": 700
        },
        "id": "KAXBVmVpawpl",
        "outputId": "eef511da-fbb4-4144-f3bc-e809a99884c3"
      },
      "outputs": [
        {
          "data": {
            "text/html": [
              "<div>\n",
              "<style scoped>\n",
              "    .dataframe tbody tr th:only-of-type {\n",
              "        vertical-align: middle;\n",
              "    }\n",
              "\n",
              "    .dataframe tbody tr th {\n",
              "        vertical-align: top;\n",
              "    }\n",
              "\n",
              "    .dataframe thead th {\n",
              "        text-align: right;\n",
              "    }\n",
              "</style>\n",
              "<table border=\"1\" class=\"dataframe\">\n",
              "  <thead>\n",
              "    <tr style=\"text-align: right;\">\n",
              "      <th></th>\n",
              "      <th>department_id</th>\n",
              "      <th>department</th>\n",
              "    </tr>\n",
              "  </thead>\n",
              "  <tbody>\n",
              "    <tr>\n",
              "      <th>0</th>\n",
              "      <td>1</td>\n",
              "      <td>frozen</td>\n",
              "    </tr>\n",
              "    <tr>\n",
              "      <th>1</th>\n",
              "      <td>2</td>\n",
              "      <td>other</td>\n",
              "    </tr>\n",
              "    <tr>\n",
              "      <th>2</th>\n",
              "      <td>3</td>\n",
              "      <td>bakery</td>\n",
              "    </tr>\n",
              "    <tr>\n",
              "      <th>3</th>\n",
              "      <td>4</td>\n",
              "      <td>produce</td>\n",
              "    </tr>\n",
              "    <tr>\n",
              "      <th>4</th>\n",
              "      <td>5</td>\n",
              "      <td>alcohol</td>\n",
              "    </tr>\n",
              "    <tr>\n",
              "      <th>5</th>\n",
              "      <td>6</td>\n",
              "      <td>international</td>\n",
              "    </tr>\n",
              "    <tr>\n",
              "      <th>6</th>\n",
              "      <td>7</td>\n",
              "      <td>beverages</td>\n",
              "    </tr>\n",
              "    <tr>\n",
              "      <th>7</th>\n",
              "      <td>8</td>\n",
              "      <td>pets</td>\n",
              "    </tr>\n",
              "    <tr>\n",
              "      <th>8</th>\n",
              "      <td>9</td>\n",
              "      <td>dry goods pasta</td>\n",
              "    </tr>\n",
              "    <tr>\n",
              "      <th>9</th>\n",
              "      <td>10</td>\n",
              "      <td>bulk</td>\n",
              "    </tr>\n",
              "    <tr>\n",
              "      <th>10</th>\n",
              "      <td>11</td>\n",
              "      <td>personal care</td>\n",
              "    </tr>\n",
              "    <tr>\n",
              "      <th>11</th>\n",
              "      <td>12</td>\n",
              "      <td>meat seafood</td>\n",
              "    </tr>\n",
              "    <tr>\n",
              "      <th>12</th>\n",
              "      <td>13</td>\n",
              "      <td>pantry</td>\n",
              "    </tr>\n",
              "    <tr>\n",
              "      <th>13</th>\n",
              "      <td>14</td>\n",
              "      <td>breakfast</td>\n",
              "    </tr>\n",
              "    <tr>\n",
              "      <th>14</th>\n",
              "      <td>15</td>\n",
              "      <td>canned goods</td>\n",
              "    </tr>\n",
              "    <tr>\n",
              "      <th>15</th>\n",
              "      <td>16</td>\n",
              "      <td>dairy eggs</td>\n",
              "    </tr>\n",
              "    <tr>\n",
              "      <th>16</th>\n",
              "      <td>17</td>\n",
              "      <td>household</td>\n",
              "    </tr>\n",
              "    <tr>\n",
              "      <th>17</th>\n",
              "      <td>18</td>\n",
              "      <td>babies</td>\n",
              "    </tr>\n",
              "    <tr>\n",
              "      <th>18</th>\n",
              "      <td>19</td>\n",
              "      <td>snacks</td>\n",
              "    </tr>\n",
              "    <tr>\n",
              "      <th>19</th>\n",
              "      <td>20</td>\n",
              "      <td>deli</td>\n",
              "    </tr>\n",
              "    <tr>\n",
              "      <th>20</th>\n",
              "      <td>21</td>\n",
              "      <td>missing</td>\n",
              "    </tr>\n",
              "  </tbody>\n",
              "</table>\n",
              "</div>"
            ],
            "text/plain": [
              "    department_id       department\n",
              "0               1           frozen\n",
              "1               2            other\n",
              "2               3           bakery\n",
              "3               4          produce\n",
              "4               5          alcohol\n",
              "5               6    international\n",
              "6               7        beverages\n",
              "7               8             pets\n",
              "8               9  dry goods pasta\n",
              "9              10             bulk\n",
              "10             11    personal care\n",
              "11             12     meat seafood\n",
              "12             13           pantry\n",
              "13             14        breakfast\n",
              "14             15     canned goods\n",
              "15             16       dairy eggs\n",
              "16             17        household\n",
              "17             18           babies\n",
              "18             19           snacks\n",
              "19             20             deli\n",
              "20             21          missing"
            ]
          },
          "execution_count": 6,
          "metadata": {},
          "output_type": "execute_result"
        }
      ],
      "source": [
        "departments"
      ]
    },
    {
      "cell_type": "code",
      "execution_count": null,
      "metadata": {
        "colab": {
          "base_uri": "https://localhost:8080/",
          "height": 419
        },
        "id": "5T_S7WicNpsP",
        "outputId": "f356961f-4c8e-4191-b2e4-e9361dda5624"
      },
      "outputs": [
        {
          "data": {
            "text/html": [
              "<div>\n",
              "<style scoped>\n",
              "    .dataframe tbody tr th:only-of-type {\n",
              "        vertical-align: middle;\n",
              "    }\n",
              "\n",
              "    .dataframe tbody tr th {\n",
              "        vertical-align: top;\n",
              "    }\n",
              "\n",
              "    .dataframe thead th {\n",
              "        text-align: right;\n",
              "    }\n",
              "</style>\n",
              "<table border=\"1\" class=\"dataframe\">\n",
              "  <thead>\n",
              "    <tr style=\"text-align: right;\">\n",
              "      <th></th>\n",
              "      <th>order_id</th>\n",
              "      <th>user_id</th>\n",
              "      <th>eval_set</th>\n",
              "      <th>order_number</th>\n",
              "      <th>order_dow</th>\n",
              "      <th>order_hour_of_day</th>\n",
              "      <th>days_since_prior_order</th>\n",
              "    </tr>\n",
              "  </thead>\n",
              "  <tbody>\n",
              "    <tr>\n",
              "      <th>0</th>\n",
              "      <td>2539329</td>\n",
              "      <td>1</td>\n",
              "      <td>prior</td>\n",
              "      <td>1</td>\n",
              "      <td>2</td>\n",
              "      <td>8</td>\n",
              "      <td>NaN</td>\n",
              "    </tr>\n",
              "    <tr>\n",
              "      <th>1</th>\n",
              "      <td>2398795</td>\n",
              "      <td>1</td>\n",
              "      <td>prior</td>\n",
              "      <td>2</td>\n",
              "      <td>3</td>\n",
              "      <td>7</td>\n",
              "      <td>15.0</td>\n",
              "    </tr>\n",
              "    <tr>\n",
              "      <th>2</th>\n",
              "      <td>473747</td>\n",
              "      <td>1</td>\n",
              "      <td>prior</td>\n",
              "      <td>3</td>\n",
              "      <td>3</td>\n",
              "      <td>12</td>\n",
              "      <td>21.0</td>\n",
              "    </tr>\n",
              "    <tr>\n",
              "      <th>3</th>\n",
              "      <td>2254736</td>\n",
              "      <td>1</td>\n",
              "      <td>prior</td>\n",
              "      <td>4</td>\n",
              "      <td>4</td>\n",
              "      <td>7</td>\n",
              "      <td>29.0</td>\n",
              "    </tr>\n",
              "    <tr>\n",
              "      <th>4</th>\n",
              "      <td>431534</td>\n",
              "      <td>1</td>\n",
              "      <td>prior</td>\n",
              "      <td>5</td>\n",
              "      <td>4</td>\n",
              "      <td>15</td>\n",
              "      <td>28.0</td>\n",
              "    </tr>\n",
              "    <tr>\n",
              "      <th>...</th>\n",
              "      <td>...</td>\n",
              "      <td>...</td>\n",
              "      <td>...</td>\n",
              "      <td>...</td>\n",
              "      <td>...</td>\n",
              "      <td>...</td>\n",
              "      <td>...</td>\n",
              "    </tr>\n",
              "    <tr>\n",
              "      <th>3421078</th>\n",
              "      <td>2266710</td>\n",
              "      <td>206209</td>\n",
              "      <td>prior</td>\n",
              "      <td>10</td>\n",
              "      <td>5</td>\n",
              "      <td>18</td>\n",
              "      <td>29.0</td>\n",
              "    </tr>\n",
              "    <tr>\n",
              "      <th>3421079</th>\n",
              "      <td>1854736</td>\n",
              "      <td>206209</td>\n",
              "      <td>prior</td>\n",
              "      <td>11</td>\n",
              "      <td>4</td>\n",
              "      <td>10</td>\n",
              "      <td>30.0</td>\n",
              "    </tr>\n",
              "    <tr>\n",
              "      <th>3421080</th>\n",
              "      <td>626363</td>\n",
              "      <td>206209</td>\n",
              "      <td>prior</td>\n",
              "      <td>12</td>\n",
              "      <td>1</td>\n",
              "      <td>12</td>\n",
              "      <td>18.0</td>\n",
              "    </tr>\n",
              "    <tr>\n",
              "      <th>3421081</th>\n",
              "      <td>2977660</td>\n",
              "      <td>206209</td>\n",
              "      <td>prior</td>\n",
              "      <td>13</td>\n",
              "      <td>1</td>\n",
              "      <td>12</td>\n",
              "      <td>7.0</td>\n",
              "    </tr>\n",
              "    <tr>\n",
              "      <th>3421082</th>\n",
              "      <td>272231</td>\n",
              "      <td>206209</td>\n",
              "      <td>train</td>\n",
              "      <td>14</td>\n",
              "      <td>6</td>\n",
              "      <td>14</td>\n",
              "      <td>30.0</td>\n",
              "    </tr>\n",
              "  </tbody>\n",
              "</table>\n",
              "<p>3421083 rows × 7 columns</p>\n",
              "</div>"
            ],
            "text/plain": [
              "         order_id  user_id  ... order_hour_of_day  days_since_prior_order\n",
              "0         2539329        1  ...                 8                     NaN\n",
              "1         2398795        1  ...                 7                    15.0\n",
              "2          473747        1  ...                12                    21.0\n",
              "3         2254736        1  ...                 7                    29.0\n",
              "4          431534        1  ...                15                    28.0\n",
              "...           ...      ...  ...               ...                     ...\n",
              "3421078   2266710   206209  ...                18                    29.0\n",
              "3421079   1854736   206209  ...                10                    30.0\n",
              "3421080    626363   206209  ...                12                    18.0\n",
              "3421081   2977660   206209  ...                12                     7.0\n",
              "3421082    272231   206209  ...                14                    30.0\n",
              "\n",
              "[3421083 rows x 7 columns]"
            ]
          },
          "execution_count": 7,
          "metadata": {},
          "output_type": "execute_result"
        }
      ],
      "source": [
        "orders"
      ]
    },
    {
      "cell_type": "code",
      "execution_count": null,
      "metadata": {
        "colab": {
          "base_uri": "https://localhost:8080/",
          "height": 419
        },
        "id": "uz7X_WGJNsVL",
        "outputId": "ba04bfb0-7003-4680-8dd4-1c6ba1311e1e"
      },
      "outputs": [
        {
          "data": {
            "text/html": [
              "<div>\n",
              "<style scoped>\n",
              "    .dataframe tbody tr th:only-of-type {\n",
              "        vertical-align: middle;\n",
              "    }\n",
              "\n",
              "    .dataframe tbody tr th {\n",
              "        vertical-align: top;\n",
              "    }\n",
              "\n",
              "    .dataframe thead th {\n",
              "        text-align: right;\n",
              "    }\n",
              "</style>\n",
              "<table border=\"1\" class=\"dataframe\">\n",
              "  <thead>\n",
              "    <tr style=\"text-align: right;\">\n",
              "      <th></th>\n",
              "      <th>order_id</th>\n",
              "      <th>product_id</th>\n",
              "      <th>add_to_cart_order</th>\n",
              "      <th>reordered</th>\n",
              "    </tr>\n",
              "  </thead>\n",
              "  <tbody>\n",
              "    <tr>\n",
              "      <th>0</th>\n",
              "      <td>1</td>\n",
              "      <td>49302</td>\n",
              "      <td>1</td>\n",
              "      <td>1</td>\n",
              "    </tr>\n",
              "    <tr>\n",
              "      <th>1</th>\n",
              "      <td>1</td>\n",
              "      <td>11109</td>\n",
              "      <td>2</td>\n",
              "      <td>1</td>\n",
              "    </tr>\n",
              "    <tr>\n",
              "      <th>2</th>\n",
              "      <td>1</td>\n",
              "      <td>10246</td>\n",
              "      <td>3</td>\n",
              "      <td>0</td>\n",
              "    </tr>\n",
              "    <tr>\n",
              "      <th>3</th>\n",
              "      <td>1</td>\n",
              "      <td>49683</td>\n",
              "      <td>4</td>\n",
              "      <td>0</td>\n",
              "    </tr>\n",
              "    <tr>\n",
              "      <th>4</th>\n",
              "      <td>1</td>\n",
              "      <td>43633</td>\n",
              "      <td>5</td>\n",
              "      <td>1</td>\n",
              "    </tr>\n",
              "    <tr>\n",
              "      <th>...</th>\n",
              "      <td>...</td>\n",
              "      <td>...</td>\n",
              "      <td>...</td>\n",
              "      <td>...</td>\n",
              "    </tr>\n",
              "    <tr>\n",
              "      <th>1384612</th>\n",
              "      <td>3421063</td>\n",
              "      <td>14233</td>\n",
              "      <td>3</td>\n",
              "      <td>1</td>\n",
              "    </tr>\n",
              "    <tr>\n",
              "      <th>1384613</th>\n",
              "      <td>3421063</td>\n",
              "      <td>35548</td>\n",
              "      <td>4</td>\n",
              "      <td>1</td>\n",
              "    </tr>\n",
              "    <tr>\n",
              "      <th>1384614</th>\n",
              "      <td>3421070</td>\n",
              "      <td>35951</td>\n",
              "      <td>1</td>\n",
              "      <td>1</td>\n",
              "    </tr>\n",
              "    <tr>\n",
              "      <th>1384615</th>\n",
              "      <td>3421070</td>\n",
              "      <td>16953</td>\n",
              "      <td>2</td>\n",
              "      <td>1</td>\n",
              "    </tr>\n",
              "    <tr>\n",
              "      <th>1384616</th>\n",
              "      <td>3421070</td>\n",
              "      <td>4724</td>\n",
              "      <td>3</td>\n",
              "      <td>1</td>\n",
              "    </tr>\n",
              "  </tbody>\n",
              "</table>\n",
              "<p>1384617 rows × 4 columns</p>\n",
              "</div>"
            ],
            "text/plain": [
              "         order_id  product_id  add_to_cart_order  reordered\n",
              "0               1       49302                  1          1\n",
              "1               1       11109                  2          1\n",
              "2               1       10246                  3          0\n",
              "3               1       49683                  4          0\n",
              "4               1       43633                  5          1\n",
              "...           ...         ...                ...        ...\n",
              "1384612   3421063       14233                  3          1\n",
              "1384613   3421063       35548                  4          1\n",
              "1384614   3421070       35951                  1          1\n",
              "1384615   3421070       16953                  2          1\n",
              "1384616   3421070        4724                  3          1\n",
              "\n",
              "[1384617 rows x 4 columns]"
            ]
          },
          "execution_count": 8,
          "metadata": {},
          "output_type": "execute_result"
        }
      ],
      "source": [
        "order_products_train"
      ]
    },
    {
      "cell_type": "code",
      "execution_count": null,
      "metadata": {
        "colab": {
          "base_uri": "https://localhost:8080/",
          "height": 419
        },
        "id": "EtGbm6ukNwdk",
        "outputId": "49362847-a0a1-41b3-c864-3ec94874ef5d"
      },
      "outputs": [
        {
          "data": {
            "text/html": [
              "<div>\n",
              "<style scoped>\n",
              "    .dataframe tbody tr th:only-of-type {\n",
              "        vertical-align: middle;\n",
              "    }\n",
              "\n",
              "    .dataframe tbody tr th {\n",
              "        vertical-align: top;\n",
              "    }\n",
              "\n",
              "    .dataframe thead th {\n",
              "        text-align: right;\n",
              "    }\n",
              "</style>\n",
              "<table border=\"1\" class=\"dataframe\">\n",
              "  <thead>\n",
              "    <tr style=\"text-align: right;\">\n",
              "      <th></th>\n",
              "      <th>order_id</th>\n",
              "      <th>product_id</th>\n",
              "      <th>add_to_cart_order</th>\n",
              "      <th>reordered</th>\n",
              "    </tr>\n",
              "  </thead>\n",
              "  <tbody>\n",
              "    <tr>\n",
              "      <th>0</th>\n",
              "      <td>2</td>\n",
              "      <td>33120</td>\n",
              "      <td>1</td>\n",
              "      <td>1</td>\n",
              "    </tr>\n",
              "    <tr>\n",
              "      <th>1</th>\n",
              "      <td>2</td>\n",
              "      <td>28985</td>\n",
              "      <td>2</td>\n",
              "      <td>1</td>\n",
              "    </tr>\n",
              "    <tr>\n",
              "      <th>2</th>\n",
              "      <td>2</td>\n",
              "      <td>9327</td>\n",
              "      <td>3</td>\n",
              "      <td>0</td>\n",
              "    </tr>\n",
              "    <tr>\n",
              "      <th>3</th>\n",
              "      <td>2</td>\n",
              "      <td>45918</td>\n",
              "      <td>4</td>\n",
              "      <td>1</td>\n",
              "    </tr>\n",
              "    <tr>\n",
              "      <th>4</th>\n",
              "      <td>2</td>\n",
              "      <td>30035</td>\n",
              "      <td>5</td>\n",
              "      <td>0</td>\n",
              "    </tr>\n",
              "    <tr>\n",
              "      <th>...</th>\n",
              "      <td>...</td>\n",
              "      <td>...</td>\n",
              "      <td>...</td>\n",
              "      <td>...</td>\n",
              "    </tr>\n",
              "    <tr>\n",
              "      <th>32434484</th>\n",
              "      <td>3421083</td>\n",
              "      <td>39678</td>\n",
              "      <td>6</td>\n",
              "      <td>1</td>\n",
              "    </tr>\n",
              "    <tr>\n",
              "      <th>32434485</th>\n",
              "      <td>3421083</td>\n",
              "      <td>11352</td>\n",
              "      <td>7</td>\n",
              "      <td>0</td>\n",
              "    </tr>\n",
              "    <tr>\n",
              "      <th>32434486</th>\n",
              "      <td>3421083</td>\n",
              "      <td>4600</td>\n",
              "      <td>8</td>\n",
              "      <td>0</td>\n",
              "    </tr>\n",
              "    <tr>\n",
              "      <th>32434487</th>\n",
              "      <td>3421083</td>\n",
              "      <td>24852</td>\n",
              "      <td>9</td>\n",
              "      <td>1</td>\n",
              "    </tr>\n",
              "    <tr>\n",
              "      <th>32434488</th>\n",
              "      <td>3421083</td>\n",
              "      <td>5020</td>\n",
              "      <td>10</td>\n",
              "      <td>1</td>\n",
              "    </tr>\n",
              "  </tbody>\n",
              "</table>\n",
              "<p>32434489 rows × 4 columns</p>\n",
              "</div>"
            ],
            "text/plain": [
              "          order_id  product_id  add_to_cart_order  reordered\n",
              "0                2       33120                  1          1\n",
              "1                2       28985                  2          1\n",
              "2                2        9327                  3          0\n",
              "3                2       45918                  4          1\n",
              "4                2       30035                  5          0\n",
              "...            ...         ...                ...        ...\n",
              "32434484   3421083       39678                  6          1\n",
              "32434485   3421083       11352                  7          0\n",
              "32434486   3421083        4600                  8          0\n",
              "32434487   3421083       24852                  9          1\n",
              "32434488   3421083        5020                 10          1\n",
              "\n",
              "[32434489 rows x 4 columns]"
            ]
          },
          "execution_count": 9,
          "metadata": {},
          "output_type": "execute_result"
        }
      ],
      "source": [
        "order_products_prior"
      ]
    },
    {
      "cell_type": "code",
      "execution_count": null,
      "metadata": {
        "colab": {
          "base_uri": "https://localhost:8080/",
          "height": 419
        },
        "id": "yom2caJ6Nxfp",
        "outputId": "48e3ac52-e80f-4fa5-94a1-1238ad22c1fb"
      },
      "outputs": [
        {
          "data": {
            "text/html": [
              "<div>\n",
              "<style scoped>\n",
              "    .dataframe tbody tr th:only-of-type {\n",
              "        vertical-align: middle;\n",
              "    }\n",
              "\n",
              "    .dataframe tbody tr th {\n",
              "        vertical-align: top;\n",
              "    }\n",
              "\n",
              "    .dataframe thead th {\n",
              "        text-align: right;\n",
              "    }\n",
              "</style>\n",
              "<table border=\"1\" class=\"dataframe\">\n",
              "  <thead>\n",
              "    <tr style=\"text-align: right;\">\n",
              "      <th></th>\n",
              "      <th>product_id</th>\n",
              "      <th>product_name</th>\n",
              "      <th>aisle_id</th>\n",
              "      <th>department_id</th>\n",
              "    </tr>\n",
              "  </thead>\n",
              "  <tbody>\n",
              "    <tr>\n",
              "      <th>0</th>\n",
              "      <td>1</td>\n",
              "      <td>Chocolate Sandwich Cookies</td>\n",
              "      <td>61</td>\n",
              "      <td>19</td>\n",
              "    </tr>\n",
              "    <tr>\n",
              "      <th>1</th>\n",
              "      <td>2</td>\n",
              "      <td>All-Seasons Salt</td>\n",
              "      <td>104</td>\n",
              "      <td>13</td>\n",
              "    </tr>\n",
              "    <tr>\n",
              "      <th>2</th>\n",
              "      <td>3</td>\n",
              "      <td>Robust Golden Unsweetened Oolong Tea</td>\n",
              "      <td>94</td>\n",
              "      <td>7</td>\n",
              "    </tr>\n",
              "    <tr>\n",
              "      <th>3</th>\n",
              "      <td>4</td>\n",
              "      <td>Smart Ones Classic Favorites Mini Rigatoni Wit...</td>\n",
              "      <td>38</td>\n",
              "      <td>1</td>\n",
              "    </tr>\n",
              "    <tr>\n",
              "      <th>4</th>\n",
              "      <td>5</td>\n",
              "      <td>Green Chile Anytime Sauce</td>\n",
              "      <td>5</td>\n",
              "      <td>13</td>\n",
              "    </tr>\n",
              "    <tr>\n",
              "      <th>...</th>\n",
              "      <td>...</td>\n",
              "      <td>...</td>\n",
              "      <td>...</td>\n",
              "      <td>...</td>\n",
              "    </tr>\n",
              "    <tr>\n",
              "      <th>49683</th>\n",
              "      <td>49684</td>\n",
              "      <td>Vodka, Triple Distilled, Twist of Vanilla</td>\n",
              "      <td>124</td>\n",
              "      <td>5</td>\n",
              "    </tr>\n",
              "    <tr>\n",
              "      <th>49684</th>\n",
              "      <td>49685</td>\n",
              "      <td>En Croute Roast Hazelnut Cranberry</td>\n",
              "      <td>42</td>\n",
              "      <td>1</td>\n",
              "    </tr>\n",
              "    <tr>\n",
              "      <th>49685</th>\n",
              "      <td>49686</td>\n",
              "      <td>Artisan Baguette</td>\n",
              "      <td>112</td>\n",
              "      <td>3</td>\n",
              "    </tr>\n",
              "    <tr>\n",
              "      <th>49686</th>\n",
              "      <td>49687</td>\n",
              "      <td>Smartblend Healthy Metabolism Dry Cat Food</td>\n",
              "      <td>41</td>\n",
              "      <td>8</td>\n",
              "    </tr>\n",
              "    <tr>\n",
              "      <th>49687</th>\n",
              "      <td>49688</td>\n",
              "      <td>Fresh Foaming Cleanser</td>\n",
              "      <td>73</td>\n",
              "      <td>11</td>\n",
              "    </tr>\n",
              "  </tbody>\n",
              "</table>\n",
              "<p>49688 rows × 4 columns</p>\n",
              "</div>"
            ],
            "text/plain": [
              "       product_id  ... department_id\n",
              "0               1  ...            19\n",
              "1               2  ...            13\n",
              "2               3  ...             7\n",
              "3               4  ...             1\n",
              "4               5  ...            13\n",
              "...           ...  ...           ...\n",
              "49683       49684  ...             5\n",
              "49684       49685  ...             1\n",
              "49685       49686  ...             3\n",
              "49686       49687  ...             8\n",
              "49687       49688  ...            11\n",
              "\n",
              "[49688 rows x 4 columns]"
            ]
          },
          "execution_count": 10,
          "metadata": {},
          "output_type": "execute_result"
        }
      ],
      "source": [
        "products"
      ]
    },
    {
      "cell_type": "markdown",
      "metadata": {
        "id": "cPJB-nscI4cO"
      },
      "source": [
        "## <h2><b><div><font face=\"Playfair\" color=\"#33302e\">Look at the Columns Within Each Table\n",
        "<h3><font face=\"Playfair\" color=\"#33302e\">\n",
        "Let's look at a more simpler way to view all columns in a table -- this will come in handy later when we are conducting the joins between DataFrame tables."
      ]
    },
    {
      "cell_type": "code",
      "execution_count": null,
      "metadata": {
        "colab": {
          "base_uri": "https://localhost:8080/"
        },
        "id": "ntYNOVjmbOjc",
        "outputId": "0049845b-aaab-4d72-e7a3-7307f2e152e3"
      },
      "outputs": [
        {
          "data": {
            "text/plain": [
              "['aisle_id', 'aisle']"
            ]
          },
          "execution_count": 11,
          "metadata": {},
          "output_type": "execute_result"
        }
      ],
      "source": [
        "#3. Look at the columns/fields within each dataframe\n",
        "list(aisles.columns)"
      ]
    },
    {
      "cell_type": "code",
      "execution_count": null,
      "metadata": {
        "colab": {
          "base_uri": "https://localhost:8080/"
        },
        "id": "bB9cbPR1N7bd",
        "outputId": "b9759815-791b-4bc7-a168-2f76a602d917"
      },
      "outputs": [
        {
          "data": {
            "text/plain": [
              "['department_id', 'department']"
            ]
          },
          "execution_count": 12,
          "metadata": {},
          "output_type": "execute_result"
        }
      ],
      "source": [
        "list(departments.columns)"
      ]
    },
    {
      "cell_type": "code",
      "execution_count": null,
      "metadata": {
        "colab": {
          "base_uri": "https://localhost:8080/"
        },
        "id": "7-u3an2pPz8b",
        "outputId": "958ab5ff-701f-4782-9754-b6463694aac2"
      },
      "outputs": [
        {
          "data": {
            "text/plain": [
              "['product_id', 'product_name', 'aisle_id', 'department_id']"
            ]
          },
          "execution_count": 13,
          "metadata": {},
          "output_type": "execute_result"
        }
      ],
      "source": [
        "list(products.columns)"
      ]
    },
    {
      "cell_type": "code",
      "execution_count": null,
      "metadata": {
        "colab": {
          "base_uri": "https://localhost:8080/"
        },
        "id": "XjYAG6IsPEPL",
        "outputId": "fad6fbb8-25c1-4e02-b01e-2305952b6fae"
      },
      "outputs": [
        {
          "data": {
            "text/plain": [
              "['order_id',\n",
              " 'user_id',\n",
              " 'eval_set',\n",
              " 'order_number',\n",
              " 'order_dow',\n",
              " 'order_hour_of_day',\n",
              " 'days_since_prior_order']"
            ]
          },
          "execution_count": 14,
          "metadata": {},
          "output_type": "execute_result"
        }
      ],
      "source": [
        "list(orders.columns)"
      ]
    },
    {
      "cell_type": "markdown",
      "metadata": {
        "id": "xXnj-pn3JIM0"
      },
      "source": [
        "## <h2><b><div><font face=\"Playfair\" color=\"#33302e\">Describe the Tables\n",
        "<h3><font face=\"Playfair\" color=\"#33302e\">\n",
        "Now that we know what each DataFrame table contains, we can create feature and table meanings for each of the tables to help us remember what we learned in our initial exploratory analysis."
      ]
    },
    {
      "cell_type": "code",
      "execution_count": null,
      "metadata": {
        "id": "ZI7E_qS3bV4L"
      },
      "outputs": [],
      "source": [
        "#4. Create feature meanings for each dataframe\n",
        "feature_meaning={'aisle_id':\"ID of the aisle for food groups\", 'aisle':\"food groups\"}"
      ]
    },
    {
      "cell_type": "code",
      "execution_count": null,
      "metadata": {
        "id": "iDfDrpqqOAOB"
      },
      "outputs": [],
      "source": [
        "feature_meaning={'department_id':\"ID of the department\", 'department':\"name of the department\"}"
      ]
    },
    {
      "cell_type": "code",
      "execution_count": null,
      "metadata": {
        "id": "W5CxjsRyPIq7"
      },
      "outputs": [],
      "source": [
        "feature_meaning={'order_id':\"order identifier\", 'user_id':\"customer identifier\", 'eval_set':\"which evaluation set this order belongs in\", 'order_number':\"the order sequence number for this user\", 'order_dow':\"the day of the week the order was placed on\", 'order_hour_of_day':\"the hour of the day the order was placed on\", 'days_since_prior_order':\"days since the last order\"}"
      ]
    },
    {
      "cell_type": "code",
      "execution_count": null,
      "metadata": {
        "id": "tlu2Aa96P4ud"
      },
      "outputs": [],
      "source": [
        "feature_meaning={'product_id':\"ID of the product\", 'product_name':\"name of the product\", 'aisle_id':\"foreign key\", 'department_id':\"foreign key\"}"
      ]
    },
    {
      "cell_type": "code",
      "execution_count": null,
      "metadata": {
        "id": "HbDpUaEkcFbO"
      },
      "outputs": [],
      "source": [
        "#5. Create table meanings for each dataframe\n",
        "table_meaning={'aisles.csv':\"This table has the food groups and their aisle id\"}"
      ]
    },
    {
      "cell_type": "code",
      "execution_count": null,
      "metadata": {
        "id": "WBq10x44O9gY"
      },
      "outputs": [],
      "source": [
        "table_meaning={'department.csv':\"This table has the department names and IDs\"}"
      ]
    },
    {
      "cell_type": "code",
      "execution_count": null,
      "metadata": {
        "id": "vkyxsqO6PtpY"
      },
      "outputs": [],
      "source": [
        "table_meaning={'orders.csv':\"This table has information about orders\"}"
      ]
    },
    {
      "cell_type": "code",
      "execution_count": null,
      "metadata": {
        "id": "FkPyZwmfQNAj"
      },
      "outputs": [],
      "source": [
        "table_meaning={'products.csv':\"This table has information about products\"}"
      ]
    },
    {
      "cell_type": "markdown",
      "metadata": {
        "id": "yKjEwOvzKXC0"
      },
      "source": [
        "## <h2><b><div><font face=\"Playfair\" color=\"#33302e\">See What the Data Types Are\n",
        "<h3><font face=\"Playfair\" color=\"#33302e\">\n",
        "Now let's see what the datatypes are for each of the columns in the DataFrame tables. "
      ]
    },
    {
      "cell_type": "code",
      "execution_count": null,
      "metadata": {
        "colab": {
          "base_uri": "https://localhost:8080/"
        },
        "id": "8WBNu2LscZWU",
        "outputId": "8211ec59-89be-4ec3-b9e9-1bdbcf80c27e"
      },
      "outputs": [
        {
          "name": "stdout",
          "output_type": "stream",
          "text": [
            "<class 'pandas.core.frame.DataFrame'>\n",
            "RangeIndex: 134 entries, 0 to 133\n",
            "Data columns (total 2 columns):\n",
            " #   Column    Non-Null Count  Dtype \n",
            "---  ------    --------------  ----- \n",
            " 0   aisle_id  134 non-null    int64 \n",
            " 1   aisle     134 non-null    object\n",
            "dtypes: int64(1), object(1)\n",
            "memory usage: 2.2+ KB\n"
          ]
        }
      ],
      "source": [
        "#6. Data types\n",
        "aisles.info() "
      ]
    },
    {
      "cell_type": "code",
      "execution_count": null,
      "metadata": {
        "colab": {
          "base_uri": "https://localhost:8080/"
        },
        "id": "0fs30IpVQgdP",
        "outputId": "360026ef-b4fe-43f4-abbf-2902bb85d130"
      },
      "outputs": [
        {
          "name": "stdout",
          "output_type": "stream",
          "text": [
            "<class 'pandas.core.frame.DataFrame'>\n",
            "RangeIndex: 3421083 entries, 0 to 3421082\n",
            "Data columns (total 7 columns):\n",
            " #   Column                  Dtype  \n",
            "---  ------                  -----  \n",
            " 0   order_id                int64  \n",
            " 1   user_id                 int64  \n",
            " 2   eval_set                object \n",
            " 3   order_number            int64  \n",
            " 4   order_dow               int64  \n",
            " 5   order_hour_of_day       int64  \n",
            " 6   days_since_prior_order  float64\n",
            "dtypes: float64(1), int64(5), object(1)\n",
            "memory usage: 182.7+ MB\n"
          ]
        }
      ],
      "source": [
        "orders.info() "
      ]
    },
    {
      "cell_type": "code",
      "execution_count": null,
      "metadata": {
        "colab": {
          "base_uri": "https://localhost:8080/"
        },
        "id": "roDGduagQmY_",
        "outputId": "642c88c8-7cbd-4115-bdbf-6b52cbf776b0"
      },
      "outputs": [
        {
          "name": "stdout",
          "output_type": "stream",
          "text": [
            "<class 'pandas.core.frame.DataFrame'>\n",
            "RangeIndex: 49688 entries, 0 to 49687\n",
            "Data columns (total 4 columns):\n",
            " #   Column         Non-Null Count  Dtype \n",
            "---  ------         --------------  ----- \n",
            " 0   product_id     49688 non-null  int64 \n",
            " 1   product_name   49688 non-null  object\n",
            " 2   aisle_id       49688 non-null  int64 \n",
            " 3   department_id  49688 non-null  int64 \n",
            "dtypes: int64(3), object(1)\n",
            "memory usage: 1.5+ MB\n"
          ]
        }
      ],
      "source": [
        "products.info() "
      ]
    },
    {
      "cell_type": "code",
      "execution_count": null,
      "metadata": {
        "colab": {
          "base_uri": "https://localhost:8080/"
        },
        "id": "MH5D5qtqQujx",
        "outputId": "9d7283c1-0d42-4592-bb71-1f366c3df090"
      },
      "outputs": [
        {
          "name": "stdout",
          "output_type": "stream",
          "text": [
            "<class 'pandas.core.frame.DataFrame'>\n",
            "RangeIndex: 21 entries, 0 to 20\n",
            "Data columns (total 2 columns):\n",
            " #   Column         Non-Null Count  Dtype \n",
            "---  ------         --------------  ----- \n",
            " 0   department_id  21 non-null     int64 \n",
            " 1   department     21 non-null     object\n",
            "dtypes: int64(1), object(1)\n",
            "memory usage: 464.0+ bytes\n"
          ]
        }
      ],
      "source": [
        "departments.info() "
      ]
    },
    {
      "cell_type": "markdown",
      "metadata": {
        "id": "X4Gdsx_EKmSf"
      },
      "source": [
        "## <h2><b><div><font face=\"Playfair\" color=\"#33302e\">How Many Unique Rows Do We Have?\n",
        "<h3><font face=\"Playfair\" color=\"#33302e\">\n",
        "Let's see what the aisles, departments, and products are in Instacart by looking at the unique rows in each column of the DataFrame tables."
      ]
    },
    {
      "cell_type": "code",
      "execution_count": null,
      "metadata": {
        "colab": {
          "base_uri": "https://localhost:8080/"
        },
        "id": "gIuU2QQCx0RF",
        "outputId": "14cc29d4-5116-4267-d573-6826341e804e"
      },
      "outputs": [
        {
          "name": "stdout",
          "output_type": "stream",
          "text": [
            "[  1   2   3   4   5   6   7   8   9  10  11  12  13  14  15  16  17  18\n",
            "  19  20  21  22  23  24  25  26  27  28  29  30  31  32  33  34  35  36\n",
            "  37  38  39  40  41  42  43  44  45  46  47  48  49  50  51  52  53  54\n",
            "  55  56  57  58  59  60  61  62  63  64  65  66  67  68  69  70  71  72\n",
            "  73  74  75  76  77  78  79  80  81  82  83  84  85  86  87  88  89  90\n",
            "  91  92  93  94  95  96  97  98  99 100 101 102 103 104 105 106 107 108\n",
            " 109 110 111 112 113 114 115 116 117 118 119 120 121 122 123 124 125 126\n",
            " 127 128 129 130 131 132 133 134]\n",
            "['prepared soups salads' 'specialty cheeses' 'energy granola bars'\n",
            " 'instant foods' 'marinades meat preparation' 'other' 'packaged meat'\n",
            " 'bakery desserts' 'pasta sauce' 'kitchen supplies' 'cold flu allergy'\n",
            " 'fresh pasta' 'prepared meals' 'tofu meat alternatives'\n",
            " 'packaged seafood' 'fresh herbs' 'baking ingredients'\n",
            " 'bulk dried fruits vegetables' 'oils vinegars' 'oral hygiene'\n",
            " 'packaged cheese' 'hair care' 'popcorn jerky' 'fresh fruits' 'soap'\n",
            " 'coffee' 'beers coolers' 'red wines' 'honeys syrups nectars'\n",
            " 'latino foods' 'refrigerated' 'packaged produce' 'kosher foods'\n",
            " 'frozen meat seafood' 'poultry counter' 'butter' 'ice cream ice'\n",
            " 'frozen meals' 'seafood counter' 'dog food care' 'cat food care'\n",
            " 'frozen vegan vegetarian' 'buns rolls' 'eye ear care' 'candy chocolate'\n",
            " 'mint gum' 'vitamins supplements' 'breakfast bars pastries'\n",
            " 'packaged poultry' 'fruit vegetable snacks' 'preserved dips spreads'\n",
            " 'frozen breakfast' 'cream' 'paper goods' 'shave needs' 'diapers wipes'\n",
            " 'granola' 'frozen breads doughs' 'canned meals beans' 'trash bags liners'\n",
            " 'cookies cakes' 'white wines' 'grains rice dried goods'\n",
            " 'energy sports drinks' 'protein meal replacements' 'asian foods'\n",
            " 'fresh dips tapenades' 'bulk grains rice dried goods'\n",
            " 'soup broth bouillon' 'digestion' 'refrigerated pudding desserts'\n",
            " 'condiments' 'facial care' 'dish detergents' 'laundry' 'indian foods'\n",
            " 'soft drinks' 'crackers' 'frozen pizza' 'deodorants'\n",
            " 'canned jarred vegetables' 'baby accessories' 'fresh vegetables' 'milk'\n",
            " 'food storage' 'eggs' 'more household' 'spreads'\n",
            " 'salad dressing toppings' 'cocoa drink mixes' 'soy lactosefree'\n",
            " 'baby food formula' 'breakfast bakery' 'tea' 'canned meat seafood'\n",
            " 'lunch meat' 'baking supplies decor' 'juice nectars'\n",
            " 'canned fruit applesauce' 'missing' 'air fresheners candles'\n",
            " 'baby bath body care' 'ice cream toppings' 'spices seasonings'\n",
            " 'doughs gelatins bake mixes' 'hot dogs bacon sausage' 'chips pretzels'\n",
            " 'other creams cheeses' 'skin care' 'pickled goods olives'\n",
            " 'plates bowls cups flatware' 'bread' 'frozen juice' 'cleaning products'\n",
            " 'water seltzer sparkling water' 'frozen produce' 'nuts seeds dried fruit'\n",
            " 'first aid' 'frozen dessert' 'yogurt' 'cereal' 'meat counter'\n",
            " 'packaged vegetables fruits' 'spirits' 'trail mix snack mix'\n",
            " 'feminine care' 'body lotions soap' 'tortillas flat bread'\n",
            " 'frozen appetizers sides' 'hot cereal pancake mixes' 'dry pasta' 'beauty'\n",
            " 'muscles joints pain relief' 'specialty wines champagnes']\n"
          ]
        }
      ],
      "source": [
        "#7. Unique items\n",
        "for col in aisles:\n",
        "  print(aisles[col].unique())"
      ]
    },
    {
      "cell_type": "code",
      "execution_count": null,
      "metadata": {
        "colab": {
          "base_uri": "https://localhost:8080/"
        },
        "id": "6E_BM9n6Q0ps",
        "outputId": "16b47cff-2a21-4199-a856-c103d2d572a6"
      },
      "outputs": [
        {
          "name": "stdout",
          "output_type": "stream",
          "text": [
            "[ 1  2  3  4  5  6  7  8  9 10 11 12 13 14 15 16 17 18 19 20 21]\n",
            "['frozen' 'other' 'bakery' 'produce' 'alcohol' 'international' 'beverages'\n",
            " 'pets' 'dry goods pasta' 'bulk' 'personal care' 'meat seafood' 'pantry'\n",
            " 'breakfast' 'canned goods' 'dairy eggs' 'household' 'babies' 'snacks'\n",
            " 'deli' 'missing']\n"
          ]
        }
      ],
      "source": [
        "for col in departments:\n",
        "  print(departments[col].unique())"
      ]
    },
    {
      "cell_type": "code",
      "execution_count": null,
      "metadata": {
        "colab": {
          "base_uri": "https://localhost:8080/"
        },
        "id": "LVrMCq_XQ4Hd",
        "outputId": "23f3dc3f-8c83-48cc-be79-6327bf474953"
      },
      "outputs": [
        {
          "name": "stdout",
          "output_type": "stream",
          "text": [
            "[2539329 2398795  473747 ...  626363 2977660  272231]\n",
            "[     1      2      3 ... 206207 206208 206209]\n",
            "['prior' 'train' 'test']\n",
            "[  1   2   3   4   5   6   7   8   9  10  11  12  13  14  15  16  17  18\n",
            "  19  20  21  22  23  24  25  26  27  28  29  30  31  32  33  34  35  36\n",
            "  37  38  39  40  41  42  43  44  45  46  47  48  49  50  51  52  53  54\n",
            "  55  56  57  58  59  60  61  62  63  64  65  66  67  68  69  70  71  72\n",
            "  73  74  75  76  77  78  79  80  81  82  83  84  85  86  87  88  89  90\n",
            "  91  92  93  94  95  96  97  98  99 100]\n",
            "[2 3 4 1 5 0 6]\n",
            "[ 8  7 12 15  9 14 16 11 10 19 18 17 13 20  0 21 22  5 23  4  6  1  2  3]\n",
            "[nan 15. 21. 29. 28. 19. 20. 14.  0. 30. 10.  3.  8. 13. 27.  6.  9. 12.\n",
            "  7. 17. 11. 22.  4.  5.  2. 23. 26. 25. 16.  1. 18. 24.]\n"
          ]
        }
      ],
      "source": [
        "for col in orders:\n",
        "  print(orders[col].unique())"
      ]
    },
    {
      "cell_type": "code",
      "execution_count": null,
      "metadata": {
        "colab": {
          "base_uri": "https://localhost:8080/"
        },
        "id": "GEy0RmzqQ7Ie",
        "outputId": "5ba6ed07-a7ed-460b-a19b-d83565050599"
      },
      "outputs": [
        {
          "name": "stdout",
          "output_type": "stream",
          "text": [
            "[    1     2     3 ... 49686 49687 49688]\n",
            "['Chocolate Sandwich Cookies' 'All-Seasons Salt'\n",
            " 'Robust Golden Unsweetened Oolong Tea' ... 'Artisan Baguette'\n",
            " 'Smartblend Healthy Metabolism Dry Cat Food' 'Fresh Foaming Cleanser']\n",
            "[ 61 104  94  38   5  11  98 116 120 115  31 119  74  56 103  35  79  63\n",
            "  40  20  49  47   3  41 127 121  81 123 107 131 106  69 100  64  78  83\n",
            "  58  66  87  14 105  22 134  23 111 128  50   9  96  92  89  88 130  26\n",
            "  77  65  12  95  19   7   6  97   2 112  10  51  13  75  70  93  34  62\n",
            "  21  29  45 118   4 108  37 109  91  24  67 132  25 129  46  16  52  17\n",
            "  73 122  42  59 126  33   1   8  82 114 124 117  72 110  85  44  80 101\n",
            "  84  30  27  90  48 133  53  28  68  43 125  57  15  55  36  54 102  60\n",
            "  99  18  39  71 113  86  32  76]\n",
            "[19 13  7  1 11 16 17 18 12  9  8 14 15  4 21  6 20  5  3  2 10]\n"
          ]
        }
      ],
      "source": [
        "for col in products:\n",
        "  print(products[col].unique())"
      ]
    },
    {
      "cell_type": "markdown",
      "metadata": {
        "id": "woPYVO8qLJrn"
      },
      "source": [
        "## <h2><b><div><font face=\"Playfair\" color=\"#33302e\">How Many Rows and Columns Are In Each DataFrame Table?\n",
        "<h3><font face=\"Playfair\" color=\"#33302e\">\n",
        "Now let's take a look at how large each of the DataFrame tables are so we know how many aisles, orders, departments, and products there are in the dataset. "
      ]
    },
    {
      "cell_type": "code",
      "execution_count": null,
      "metadata": {
        "colab": {
          "base_uri": "https://localhost:8080/"
        },
        "id": "ZhtcLdwOy6Q_",
        "outputId": "811c121c-11e1-46c7-ed7c-235f61b71681"
      },
      "outputs": [
        {
          "data": {
            "text/plain": [
              "(134, 2)"
            ]
          },
          "execution_count": 31,
          "metadata": {},
          "output_type": "execute_result"
        }
      ],
      "source": [
        "#8. Dimensions\n",
        "aisles.shape"
      ]
    },
    {
      "cell_type": "code",
      "execution_count": null,
      "metadata": {
        "colab": {
          "base_uri": "https://localhost:8080/"
        },
        "id": "MoPcWbU2zjxj",
        "outputId": "20526f98-5eb1-47e3-9b40-2c15a74ebbc0"
      },
      "outputs": [
        {
          "data": {
            "text/plain": [
              "(3421083, 7)"
            ]
          },
          "execution_count": 32,
          "metadata": {},
          "output_type": "execute_result"
        }
      ],
      "source": [
        "orders.shape"
      ]
    },
    {
      "cell_type": "code",
      "execution_count": null,
      "metadata": {
        "colab": {
          "base_uri": "https://localhost:8080/"
        },
        "id": "WnYj04L-RAb1",
        "outputId": "3c0acef4-c699-48eb-e52b-9a735661f262"
      },
      "outputs": [
        {
          "data": {
            "text/plain": [
              "(21, 2)"
            ]
          },
          "execution_count": 33,
          "metadata": {},
          "output_type": "execute_result"
        }
      ],
      "source": [
        "departments.shape"
      ]
    },
    {
      "cell_type": "code",
      "execution_count": null,
      "metadata": {
        "colab": {
          "base_uri": "https://localhost:8080/"
        },
        "id": "TJyPzRvNRB19",
        "outputId": "17184f5b-612b-4137-d1f1-8170ab9784e5"
      },
      "outputs": [
        {
          "data": {
            "text/plain": [
              "(49688, 4)"
            ]
          },
          "execution_count": 34,
          "metadata": {},
          "output_type": "execute_result"
        }
      ],
      "source": [
        "products.shape"
      ]
    },
    {
      "cell_type": "markdown",
      "metadata": {
        "id": "mKqmucdSLsbw"
      },
      "source": [
        "## <h2><b><div><font face=\"Playfair\" color=\"#33302e\">Manually Reset the Runtime of Google Colaboratory\n",
        "<h3><font face=\"Playfair\" color=\"#33302e\">\n",
        "We are limited with the amount of RAM and Disk space we have, so to be able to correctly analyze the dataset, we need to reset the runtime for each section in this notebook."
      ]
    },
    {
      "cell_type": "code",
      "execution_count": null,
      "metadata": {
        "id": "sdDs_Im9LEi3"
      },
      "outputs": [],
      "source": [
        "# 9. Reset Runtime to save RAM (it will say \"session crashed\" but this is a purposeful manual crash\n",
        "#-- Move onto and run all cells for next section\n",
        "import os\n",
        "os.kill(os.getpid(), 9)"
      ]
    },
    {
      "cell_type": "markdown",
      "metadata": {
        "id": "bbR88q4b6jb_"
      },
      "source": [
        "# <div><h2><b><font face=\"Playfair\" color=\"#33302e\">Research Questions\n",
        "</font></div>\n",
        "<h3><font face=\"Playfair\" color=\"#33302e\">\n",
        "Now that we've completed the initial exploratory analysis and understand what each table contains, we can come up with some suitable research questions for the dataset. Listed below are the questions that will be answered in each of the following sections. Remember, if you'd like to run the code for each section, just press the play button next to the cell that says <code><i>\"[] cells hidden\"</i></code> after running the first two cells in this notebook. The sections will import the needed libraries and datasets to answer the question, and then will manually reset the runtime.\n",
        "\n",
        "<h3>\n",
        "<font face=\"Playfair\" color=\"#33302e\">\n",
        "<li>Which day of the week sees most orders?\n",
        "<li>What is the least busy day of the week for shopping?\n",
        "<li>What is the busiest time-of-day?\n",
        "<li>What are the most popular snacks?\n",
        "<li>What are the most popular bakery products?\n",
        "<li>What are the most popular products overall?\n",
        "<li>How many unique orders do we have?\n",
        "<li>What is the most popular first item to add to the cart? \n",
        "<li>Does that change by day of the week?\n",
        "<li>What is the average number of orders per customer?\n",
        "<li>How frequently has a customer reordered products?\n",
        "<li>What is the probability certain products will be reordered?\n",
        "\n",
        "</font>\n"
      ]
    },
    {
      "cell_type": "markdown",
      "metadata": {
        "id": "0pINQxCumTbP"
      },
      "source": [
        "# <h2><b><div><font face=\"Playfair\" color=\"#33302e\">Which day of the week sees the most orders?\n",
        "<h3><font face=\"Playfair\" color=\"#33302e\">\n",
        "To answer this question, the <i><code>orders, orders_products_prior, products</code></i> tables were imported as DataFrames and joined twice into a DataFrame titled <code>joined</code>. A simple histogram was created in Pandas, then exported to make more visually striking. This was done because importing the Plotly library kept resetting the Runtime in Google Colaboratory. The <code>joined</code> DataFrame was then exported as a CSV to be imported in later sections and to save on RAM.\n",
        "<br><br>\n",
        "After all this was done, we can see that <b>most orders occur on Sunday, with the least on Thursday.</b> \n",
        "<br><br>This is typically the day that most people go grocery shopping in store as well. It also makes sense since people will typically run out of food as the week ends and will have to go shopping again on Sunday. To have an equal blanket of revenue and orders throughout the week, Instacart can offer specials for days that don't see many orders.\n",
        "<br><br>\n",
        "<img src=\"https://live.staticflickr.com/65535/51374484171_9fc070b985_k.jpg\" width=\"700\" alt=\"Final_Graphics2\">"
      ]
    },
    {
      "cell_type": "markdown",
      "metadata": {
        "id": "1GncIBy-RsCW"
      },
      "source": [
        "## <h2><b><div><font face=\"Playfair\" color=\"#33302e\">Import Only the CSVs Needed for the Section\n",
        "<h3><font face=\"Playfair\" color=\"#33302e\">\n",
        "Below, we import Pandas again, as well as the datasets needed to answer this research question."
      ]
    },
    {
      "cell_type": "code",
      "execution_count": null,
      "metadata": {
        "colab": {
          "background_save": true
        },
        "id": "dlsCtAGiXyMk"
      },
      "outputs": [],
      "source": [
        "#2. Import Pandas\n",
        "import pandas as pd\n",
        "#3. Import CSV files as dataframes\n",
        "orders = pd.read_csv('orders.csv' )\n",
        "order_products_prior = pd.read_csv('order_products__prior.csv')\n",
        "products = pd.read_csv('products.csv')"
      ]
    },
    {
      "cell_type": "code",
      "execution_count": null,
      "metadata": {
        "colab": {
          "background_save": true
        },
        "id": "M3LjtlQPX0Ch"
      },
      "outputs": [],
      "source": [
        "#4. Import Garbage Collector to improve efficiency and performance\n",
        "import gc                         \n",
        "gc.enable()  "
      ]
    },
    {
      "cell_type": "markdown",
      "metadata": {
        "id": "WQPXPRVjSfqd"
      },
      "source": [
        "## <h2><b><div><font face=\"Playfair\" color=\"#33302e\">Join <code>orders</code> with <code>order_products_prior</code>\n",
        "<h3><font face=\"Playfair\" color=\"#33302e\">\n",
        "An outer join returns all unique values from two datasets on a shared joinkey. To get all unique orders from the dataset, an outer join was completed on the DataFrame tables, <code>orders</code> and <code>order_products_prior</code> on the <code>order_id</code> joinkey into a new DataFrame, <code>joined</code>."
      ]
    },
    {
      "cell_type": "code",
      "execution_count": null,
      "metadata": {
        "id": "fDVHrGI8RDWV"
      },
      "outputs": [],
      "source": [
        "#6. Conduct outer join on prior orders with orders on joinkey, \"order_id\" to pull all unique orders from each dataset\n",
        "joined = orders.merge(order_products_prior, on='order_id', how='outer')\n",
        "joined.head()"
      ]
    },
    {
      "cell_type": "markdown",
      "metadata": {
        "id": "1Ru_fh4jTFcU"
      },
      "source": [
        "## <h2><b><div><font face=\"Playfair\" color=\"#33302e\">Delete Unneeded Columnns\n",
        "<h3><font face=\"Playfair\" color=\"#33302e\">\n",
        "We only need the columns, <code>order_id</code>, <code>order_dow</code>, <code>order_hour_of_day</code>, and <code>product_id</code>, to answer the research question, so all others are deleted to save on RAM and Disk space."
      ]
    },
    {
      "cell_type": "code",
      "execution_count": null,
      "metadata": {
        "id": "lZjRd3iGp-vX"
      },
      "outputs": [],
      "source": [
        "#3. Delete columns we don't need to conserve RAM and Disk space\n",
        "del joined['user_id']"
      ]
    },
    {
      "cell_type": "code",
      "execution_count": null,
      "metadata": {
        "id": "U6NI7fepqDzr"
      },
      "outputs": [],
      "source": [
        "del joined['eval_set']"
      ]
    },
    {
      "cell_type": "code",
      "execution_count": null,
      "metadata": {
        "id": "s9I8WUHZqIPl"
      },
      "outputs": [],
      "source": [
        "del joined['order_number']"
      ]
    },
    {
      "cell_type": "code",
      "execution_count": null,
      "metadata": {
        "id": "gKVCCe6DqLNm"
      },
      "outputs": [],
      "source": [
        "del joined['days_since_prior_order']"
      ]
    },
    {
      "cell_type": "code",
      "execution_count": null,
      "metadata": {
        "id": "lW58n9spqOXQ"
      },
      "outputs": [],
      "source": [
        "del joined['add_to_cart_order']"
      ]
    },
    {
      "cell_type": "code",
      "execution_count": null,
      "metadata": {
        "id": "uJzBexIFqRab"
      },
      "outputs": [],
      "source": [
        "del joined['reordered']"
      ]
    },
    {
      "cell_type": "markdown",
      "metadata": {
        "id": "KIPYGocFTp8P"
      },
      "source": [
        "## <h2><b><div><font face=\"Playfair\" color=\"#33302e\">Check for Null and Duplicate Values\n",
        "<h3><font face=\"Playfair\" color=\"#33302e\">\n",
        "It's good practice to always check for null or duplicate values and drop any null or duplicate values after conducting a join."
      ]
    },
    {
      "cell_type": "code",
      "execution_count": null,
      "metadata": {
        "id": "lIn0WnGOq82P"
      },
      "outputs": [],
      "source": [
        "#5. Check for null values\n",
        "joined['order_dow'].isnull().sum()"
      ]
    },
    {
      "cell_type": "code",
      "execution_count": null,
      "metadata": {
        "id": "ORgY8MC5rBUZ"
      },
      "outputs": [],
      "source": [
        "joined['order_hour_of_day'].isnull().sum()"
      ]
    },
    {
      "cell_type": "code",
      "execution_count": null,
      "metadata": {
        "id": "JnNr3SFvrNsO"
      },
      "outputs": [],
      "source": [
        "#6. Drop any null values\n",
        "joined.dropna(axis=0, how=\"any\", thresh=None, subset=None, inplace=False)"
      ]
    },
    {
      "cell_type": "code",
      "execution_count": null,
      "metadata": {
        "id": "nO-tBCmQqUg1"
      },
      "outputs": [],
      "source": [
        "#7. Check the shape of the dataframe pror to removing duplicative values to see how many duplicates there were\n",
        "joined.shape"
      ]
    },
    {
      "cell_type": "code",
      "execution_count": null,
      "metadata": {
        "id": "V-9wrsFsRaCR"
      },
      "outputs": [],
      "source": [
        "#8. Drop all duplicate values\n",
        "joined[joined.duplicated(keep=False)]"
      ]
    },
    {
      "cell_type": "code",
      "execution_count": null,
      "metadata": {
        "id": "3rhRxzvhRg4b"
      },
      "outputs": [],
      "source": [
        "#9. Check the size of the dataframe to see if there's a difference\n",
        "joined.shape"
      ]
    },
    {
      "cell_type": "markdown",
      "metadata": {
        "id": "Cz0ntpXKT9J0"
      },
      "source": [
        "## <h2><b><div><font face=\"Playfair\" color=\"#33302e\">Join <code>joined</code> DataFrame with <code>products</code>\n",
        "<h3><font face=\"Playfair\" color=\"#33302e\">\n",
        "An inner join matches all shared values between datasets. Since we only need the product names in the orders, we use an inner join to merge the  <code>joined</code> DataFrame with <code>products</code> on the shared joinkey, <code>product_id</code>."
      ]
    },
    {
      "cell_type": "code",
      "execution_count": null,
      "metadata": {
        "id": "kt7phsCsmLN1"
      },
      "outputs": [],
      "source": [
        "#10. Conduct inner join on products with the joined dataframe (orders + orders+previous) on joinkey, \n",
        "# \"product_id\" to pull all matching product names and IDs to our orders dataframe\n",
        "joined = joined.merge(products, on='product_id', how='inner')\n",
        "joined.head()"
      ]
    },
    {
      "cell_type": "markdown",
      "metadata": {
        "id": "0kom96YBoKQY"
      },
      "source": [
        "## <h2><b><div><font face=\"Playfair\" color=\"#33302e\">Delete Columns We Won't Need\n",
        "<h3><font face=\"Playfair\" color=\"#33302e\">\n",
        "The cell below deletes the <code>aisle_id</code> column since we won't need that in the <code>joined</code> DataFrame for later use."
      ]
    },
    {
      "cell_type": "code",
      "execution_count": null,
      "metadata": {
        "id": "yIYY1HOZqYiU"
      },
      "outputs": [],
      "source": [
        "#11. Delete unneeded columns from the dataframe to save RAM and Disk space\n",
        "del joined['aisle_id']"
      ]
    },
    {
      "cell_type": "markdown",
      "metadata": {
        "id": "e_kawkl_ojY3"
      },
      "source": [
        "## <h2><b><div><font face=\"Playfair\" color=\"#33302e\">Create a Simple Histogram with Pandas\n",
        "<h3><font face=\"Playfair\" color=\"#33302e\">\n",
        "All the code in this notebook is risking a runtime reset so we create a simple histogram in Pandas to export and refine in Adobe Creative Suite. This allows us to add formatting not typically native in Pandas and import it into Google Photos, then into a <code> < img > </code> HTML tag. "
      ]
    },
    {
      "cell_type": "code",
      "execution_count": null,
      "metadata": {
        "id": "8ifOHnYMmZWc"
      },
      "outputs": [],
      "source": [
        "#12. Histogram of most prominent days with orders\n",
        "joined.hist(column='order_dow',\n",
        "       figsize=[10, 6])"
      ]
    },
    {
      "cell_type": "markdown",
      "metadata": {
        "id": "SoiWJV9spFwL"
      },
      "source": [
        "## <h2><b><div><font face=\"Playfair\" color=\"#33302e\">Join <code>joined</code> DataFrame with <code>departments</code>\n",
        "<h3><font face=\"Playfair\" color=\"#33302e\">\n",
        "To filter, group, and sort data later on based off the department of the product, we now need to conduct the third and last join on the <code>joined</code> DataFrame with <code>departments</code> on the shared joinkey, <code>department_id</code>. We are conducting another inner join in order to only pull shared values with orders."
      ]
    },
    {
      "cell_type": "code",
      "execution_count": null,
      "metadata": {
        "id": "l6MIzgyKw0j-"
      },
      "outputs": [],
      "source": [
        "#13. Conduct inner join on departments with the joined dataframe (orders + orders+previous) on joinkey, \n",
        "# \"department_id\" to pull all matching product names and IDs to our orders dataframe\n",
        "joined = joined.merge(departments, on='department_id', how='inner')\n",
        "joined.head()"
      ]
    },
    {
      "cell_type": "markdown",
      "metadata": {
        "id": "M5UKYR0XphbA"
      },
      "source": [
        "## <h2><b><div><font face=\"Playfair\" color=\"#33302e\">Save <code>joined</code> DataFrame to a CSV File\n",
        "<h3><font face=\"Playfair\" color=\"#33302e\">\n",
        "Now all these joins have created quite a large DataFrame so let's save it as a .CSV file to save on space and so that we can easily use it later without having to complete all the previous steps again."
      ]
    },
    {
      "cell_type": "code",
      "execution_count": null,
      "metadata": {
        "id": "Pc74JlLAYQ_S"
      },
      "outputs": [],
      "source": [
        "# Save dataframe to CSV to save RAM\n",
        "joined.to_csv('/content/drive/MyDrive/Stage_DSA501_2021/4. Week_4/Final_Project/joined.csv',encoding='utf-8')"
      ]
    },
    {
      "cell_type": "markdown",
      "metadata": {
        "id": "w5yAsM5TqTR8"
      },
      "source": [
        "## <h2><b><div><font face=\"Playfair\" color=\"#33302e\">Run Manual Runtime Reset\n",
        "<h3><font face=\"Playfair\" color=\"#33302e\">\n",
        "Reset the runtime to start on a new slate without all the join outputs using up memory."
      ]
    },
    {
      "cell_type": "code",
      "execution_count": null,
      "metadata": {
        "id": "rIvxVH5pY85x"
      },
      "outputs": [],
      "source": [
        "# Reset Runtime to save RAM -- Move onto and run all cells for the next question\n",
        "# This question is finished and we don't need to run any code here for the next sections to run successfully\n",
        "import os\n",
        "os.kill(os.getpid(), 9)"
      ]
    },
    {
      "cell_type": "markdown",
      "metadata": {
        "id": "C5943qmZn23P"
      },
      "source": [
        "# <h2><b><div><font face=\"Playfair\" color=\"#33302e\">Which time-of-day sees the most orders?\n",
        "<h3><font face=\"Playfair\" color=\"#33302e\">\n",
        "To answer this question, the <i><code>joined</code></i> DataFrame was imported from the CSV file we saved in the previous section and a simple histogram was created from the Pandas library, then the runtime was reset once again. From the histogram, we see that most orders occur in the afternoon, around 3:00 P.M. Adding this information to the histogram above, we can conclude that the <b> busiest time for Instacart is on Sundays around 3:00 P.M.</b>\n",
        "<br><Br>Not surprisingly, we see that not many orders occur between the hours of midnight and 6:00 A.M., orders steadily increase after 7:00 A.M., peak at around 3:00 P.M., and drop significantly until midnight.\n",
        "<br><br>\n",
        "<img src=\"https://live.staticflickr.com/65535/51373722757_67f0415045_k.jpg\" width=\"700\" alt=\"Final_Graphics4\">"
      ]
    },
    {
      "cell_type": "code",
      "execution_count": null,
      "metadata": {
        "colab": {
          "base_uri": "https://localhost:8080/",
          "height": 438
        },
        "id": "Wkhkza3NZA-2",
        "outputId": "ee169687-aee7-4529-b7f9-b46e38a6ce42"
      },
      "outputs": [
        {
          "ename": "FileNotFoundError",
          "evalue": "ignored",
          "output_type": "error",
          "traceback": [
            "\u001b[0;31m---------------------------------------------------------------------------\u001b[0m",
            "\u001b[0;31mFileNotFoundError\u001b[0m                         Traceback (most recent call last)",
            "\u001b[0;32m<ipython-input-1-9d31b62d937d>\u001b[0m in \u001b[0;36m<module>\u001b[0;34m()\u001b[0m\n\u001b[1;32m      3\u001b[0m \u001b[0;31m#2. Just import the joined CSV file as a DataFrame\u001b[0m\u001b[0;34m\u001b[0m\u001b[0;34m\u001b[0m\u001b[0;34m\u001b[0m\u001b[0m\n\u001b[1;32m      4\u001b[0m \u001b[0mcsv\u001b[0m \u001b[0;34m=\u001b[0m \u001b[0;34m'/content/drive/MyDrive/Stage_DSA501_2021/4. Week_4/Final_Project/joined.csv'\u001b[0m\u001b[0;34m\u001b[0m\u001b[0;34m\u001b[0m\u001b[0m\n\u001b[0;32m----> 5\u001b[0;31m \u001b[0mjoined\u001b[0m \u001b[0;34m=\u001b[0m \u001b[0mpd\u001b[0m\u001b[0;34m.\u001b[0m\u001b[0mread_csv\u001b[0m\u001b[0;34m(\u001b[0m\u001b[0mcsv\u001b[0m\u001b[0;34m,\u001b[0m\u001b[0mindex_col\u001b[0m\u001b[0;34m=\u001b[0m\u001b[0;36m0\u001b[0m\u001b[0;34m)\u001b[0m\u001b[0;34m\u001b[0m\u001b[0;34m\u001b[0m\u001b[0m\n\u001b[0m\u001b[1;32m      6\u001b[0m \u001b[0mjoined\u001b[0m\u001b[0;34m.\u001b[0m\u001b[0mhead\u001b[0m\u001b[0;34m(\u001b[0m\u001b[0;34m)\u001b[0m\u001b[0;34m\u001b[0m\u001b[0;34m\u001b[0m\u001b[0m\n",
            "\u001b[0;32m/usr/local/lib/python3.7/dist-packages/pandas/io/parsers.py\u001b[0m in \u001b[0;36mread_csv\u001b[0;34m(filepath_or_buffer, sep, delimiter, header, names, index_col, usecols, squeeze, prefix, mangle_dupe_cols, dtype, engine, converters, true_values, false_values, skipinitialspace, skiprows, skipfooter, nrows, na_values, keep_default_na, na_filter, verbose, skip_blank_lines, parse_dates, infer_datetime_format, keep_date_col, date_parser, dayfirst, cache_dates, iterator, chunksize, compression, thousands, decimal, lineterminator, quotechar, quoting, doublequote, escapechar, comment, encoding, dialect, error_bad_lines, warn_bad_lines, delim_whitespace, low_memory, memory_map, float_precision)\u001b[0m\n\u001b[1;32m    686\u001b[0m     )\n\u001b[1;32m    687\u001b[0m \u001b[0;34m\u001b[0m\u001b[0m\n\u001b[0;32m--> 688\u001b[0;31m     \u001b[0;32mreturn\u001b[0m \u001b[0m_read\u001b[0m\u001b[0;34m(\u001b[0m\u001b[0mfilepath_or_buffer\u001b[0m\u001b[0;34m,\u001b[0m \u001b[0mkwds\u001b[0m\u001b[0;34m)\u001b[0m\u001b[0;34m\u001b[0m\u001b[0;34m\u001b[0m\u001b[0m\n\u001b[0m\u001b[1;32m    689\u001b[0m \u001b[0;34m\u001b[0m\u001b[0m\n\u001b[1;32m    690\u001b[0m \u001b[0;34m\u001b[0m\u001b[0m\n",
            "\u001b[0;32m/usr/local/lib/python3.7/dist-packages/pandas/io/parsers.py\u001b[0m in \u001b[0;36m_read\u001b[0;34m(filepath_or_buffer, kwds)\u001b[0m\n\u001b[1;32m    452\u001b[0m \u001b[0;34m\u001b[0m\u001b[0m\n\u001b[1;32m    453\u001b[0m     \u001b[0;31m# Create the parser.\u001b[0m\u001b[0;34m\u001b[0m\u001b[0;34m\u001b[0m\u001b[0;34m\u001b[0m\u001b[0m\n\u001b[0;32m--> 454\u001b[0;31m     \u001b[0mparser\u001b[0m \u001b[0;34m=\u001b[0m \u001b[0mTextFileReader\u001b[0m\u001b[0;34m(\u001b[0m\u001b[0mfp_or_buf\u001b[0m\u001b[0;34m,\u001b[0m \u001b[0;34m**\u001b[0m\u001b[0mkwds\u001b[0m\u001b[0;34m)\u001b[0m\u001b[0;34m\u001b[0m\u001b[0;34m\u001b[0m\u001b[0m\n\u001b[0m\u001b[1;32m    455\u001b[0m \u001b[0;34m\u001b[0m\u001b[0m\n\u001b[1;32m    456\u001b[0m     \u001b[0;32mif\u001b[0m \u001b[0mchunksize\u001b[0m \u001b[0;32mor\u001b[0m \u001b[0miterator\u001b[0m\u001b[0;34m:\u001b[0m\u001b[0;34m\u001b[0m\u001b[0;34m\u001b[0m\u001b[0m\n",
            "\u001b[0;32m/usr/local/lib/python3.7/dist-packages/pandas/io/parsers.py\u001b[0m in \u001b[0;36m__init__\u001b[0;34m(self, f, engine, **kwds)\u001b[0m\n\u001b[1;32m    946\u001b[0m             \u001b[0mself\u001b[0m\u001b[0;34m.\u001b[0m\u001b[0moptions\u001b[0m\u001b[0;34m[\u001b[0m\u001b[0;34m\"has_index_names\"\u001b[0m\u001b[0;34m]\u001b[0m \u001b[0;34m=\u001b[0m \u001b[0mkwds\u001b[0m\u001b[0;34m[\u001b[0m\u001b[0;34m\"has_index_names\"\u001b[0m\u001b[0;34m]\u001b[0m\u001b[0;34m\u001b[0m\u001b[0;34m\u001b[0m\u001b[0m\n\u001b[1;32m    947\u001b[0m \u001b[0;34m\u001b[0m\u001b[0m\n\u001b[0;32m--> 948\u001b[0;31m         \u001b[0mself\u001b[0m\u001b[0;34m.\u001b[0m\u001b[0m_make_engine\u001b[0m\u001b[0;34m(\u001b[0m\u001b[0mself\u001b[0m\u001b[0;34m.\u001b[0m\u001b[0mengine\u001b[0m\u001b[0;34m)\u001b[0m\u001b[0;34m\u001b[0m\u001b[0;34m\u001b[0m\u001b[0m\n\u001b[0m\u001b[1;32m    949\u001b[0m \u001b[0;34m\u001b[0m\u001b[0m\n\u001b[1;32m    950\u001b[0m     \u001b[0;32mdef\u001b[0m \u001b[0mclose\u001b[0m\u001b[0;34m(\u001b[0m\u001b[0mself\u001b[0m\u001b[0;34m)\u001b[0m\u001b[0;34m:\u001b[0m\u001b[0;34m\u001b[0m\u001b[0;34m\u001b[0m\u001b[0m\n",
            "\u001b[0;32m/usr/local/lib/python3.7/dist-packages/pandas/io/parsers.py\u001b[0m in \u001b[0;36m_make_engine\u001b[0;34m(self, engine)\u001b[0m\n\u001b[1;32m   1178\u001b[0m     \u001b[0;32mdef\u001b[0m \u001b[0m_make_engine\u001b[0m\u001b[0;34m(\u001b[0m\u001b[0mself\u001b[0m\u001b[0;34m,\u001b[0m \u001b[0mengine\u001b[0m\u001b[0;34m=\u001b[0m\u001b[0;34m\"c\"\u001b[0m\u001b[0;34m)\u001b[0m\u001b[0;34m:\u001b[0m\u001b[0;34m\u001b[0m\u001b[0;34m\u001b[0m\u001b[0m\n\u001b[1;32m   1179\u001b[0m         \u001b[0;32mif\u001b[0m \u001b[0mengine\u001b[0m \u001b[0;34m==\u001b[0m \u001b[0;34m\"c\"\u001b[0m\u001b[0;34m:\u001b[0m\u001b[0;34m\u001b[0m\u001b[0;34m\u001b[0m\u001b[0m\n\u001b[0;32m-> 1180\u001b[0;31m             \u001b[0mself\u001b[0m\u001b[0;34m.\u001b[0m\u001b[0m_engine\u001b[0m \u001b[0;34m=\u001b[0m \u001b[0mCParserWrapper\u001b[0m\u001b[0;34m(\u001b[0m\u001b[0mself\u001b[0m\u001b[0;34m.\u001b[0m\u001b[0mf\u001b[0m\u001b[0;34m,\u001b[0m \u001b[0;34m**\u001b[0m\u001b[0mself\u001b[0m\u001b[0;34m.\u001b[0m\u001b[0moptions\u001b[0m\u001b[0;34m)\u001b[0m\u001b[0;34m\u001b[0m\u001b[0;34m\u001b[0m\u001b[0m\n\u001b[0m\u001b[1;32m   1181\u001b[0m         \u001b[0;32melse\u001b[0m\u001b[0;34m:\u001b[0m\u001b[0;34m\u001b[0m\u001b[0;34m\u001b[0m\u001b[0m\n\u001b[1;32m   1182\u001b[0m             \u001b[0;32mif\u001b[0m \u001b[0mengine\u001b[0m \u001b[0;34m==\u001b[0m \u001b[0;34m\"python\"\u001b[0m\u001b[0;34m:\u001b[0m\u001b[0;34m\u001b[0m\u001b[0;34m\u001b[0m\u001b[0m\n",
            "\u001b[0;32m/usr/local/lib/python3.7/dist-packages/pandas/io/parsers.py\u001b[0m in \u001b[0;36m__init__\u001b[0;34m(self, src, **kwds)\u001b[0m\n\u001b[1;32m   2008\u001b[0m         \u001b[0mkwds\u001b[0m\u001b[0;34m[\u001b[0m\u001b[0;34m\"usecols\"\u001b[0m\u001b[0;34m]\u001b[0m \u001b[0;34m=\u001b[0m \u001b[0mself\u001b[0m\u001b[0;34m.\u001b[0m\u001b[0musecols\u001b[0m\u001b[0;34m\u001b[0m\u001b[0;34m\u001b[0m\u001b[0m\n\u001b[1;32m   2009\u001b[0m \u001b[0;34m\u001b[0m\u001b[0m\n\u001b[0;32m-> 2010\u001b[0;31m         \u001b[0mself\u001b[0m\u001b[0;34m.\u001b[0m\u001b[0m_reader\u001b[0m \u001b[0;34m=\u001b[0m \u001b[0mparsers\u001b[0m\u001b[0;34m.\u001b[0m\u001b[0mTextReader\u001b[0m\u001b[0;34m(\u001b[0m\u001b[0msrc\u001b[0m\u001b[0;34m,\u001b[0m \u001b[0;34m**\u001b[0m\u001b[0mkwds\u001b[0m\u001b[0;34m)\u001b[0m\u001b[0;34m\u001b[0m\u001b[0;34m\u001b[0m\u001b[0m\n\u001b[0m\u001b[1;32m   2011\u001b[0m         \u001b[0mself\u001b[0m\u001b[0;34m.\u001b[0m\u001b[0munnamed_cols\u001b[0m \u001b[0;34m=\u001b[0m \u001b[0mself\u001b[0m\u001b[0;34m.\u001b[0m\u001b[0m_reader\u001b[0m\u001b[0;34m.\u001b[0m\u001b[0munnamed_cols\u001b[0m\u001b[0;34m\u001b[0m\u001b[0;34m\u001b[0m\u001b[0m\n\u001b[1;32m   2012\u001b[0m \u001b[0;34m\u001b[0m\u001b[0m\n",
            "\u001b[0;32mpandas/_libs/parsers.pyx\u001b[0m in \u001b[0;36mpandas._libs.parsers.TextReader.__cinit__\u001b[0;34m()\u001b[0m\n",
            "\u001b[0;32mpandas/_libs/parsers.pyx\u001b[0m in \u001b[0;36mpandas._libs.parsers.TextReader._setup_parser_source\u001b[0;34m()\u001b[0m\n",
            "\u001b[0;31mFileNotFoundError\u001b[0m: [Errno 2] No such file or directory: '/content/drive/MyDrive/Stage_DSA501_2021/4. Week_4/Final_Project/joined.csv'"
          ]
        }
      ],
      "source": [
        "#1. Import Pandas again since we reset the session in the last cell of the previous section\n",
        "import pandas as pd\n",
        "#2. Just import the joined CSV file as a DataFrame\n",
        "csv = '/content/drive/MyDrive/Stage_DSA501_2021/4. Week_4/Final_Project/joined.csv'\n",
        "joined = pd.read_csv(csv,index_col=0)\n",
        "joined.head()"
      ]
    },
    {
      "cell_type": "code",
      "execution_count": null,
      "metadata": {
        "colab": {
          "base_uri": "https://localhost:8080/",
          "height": 196
        },
        "id": "Ye7xM2K1r-9C",
        "outputId": "cf7ab6be-14c8-417d-fd84-f9ff5045604e"
      },
      "outputs": [
        {
          "ename": "NameError",
          "evalue": "ignored",
          "output_type": "error",
          "traceback": [
            "\u001b[0;31m---------------------------------------------------------------------------\u001b[0m",
            "\u001b[0;31mNameError\u001b[0m                                 Traceback (most recent call last)",
            "\u001b[0;32m<ipython-input-2-115504f71d21>\u001b[0m in \u001b[0;36m<module>\u001b[0;34m()\u001b[0m\n\u001b[1;32m      1\u001b[0m \u001b[0;31m# 3. Histogram of most prominent hours of day for orders\u001b[0m\u001b[0;34m\u001b[0m\u001b[0;34m\u001b[0m\u001b[0;34m\u001b[0m\u001b[0m\n\u001b[0;32m----> 2\u001b[0;31m joined.hist(column='order_hour_of_day',\n\u001b[0m\u001b[1;32m      3\u001b[0m        figsize=[10, 6])\n",
            "\u001b[0;31mNameError\u001b[0m: name 'joined' is not defined"
          ]
        }
      ],
      "source": [
        "# 3. Histogram of most prominent hours of day for orders\n",
        "joined.hist(column='order_hour_of_day',\n",
        "       figsize=[10, 6])"
      ]
    },
    {
      "cell_type": "code",
      "execution_count": null,
      "metadata": {
        "id": "0gv9TQL6ck7e"
      },
      "outputs": [],
      "source": [
        "# 4. Reset Runtime to save RAM -- Move onto and run all cells for next section\n",
        "import os\n",
        "os.kill(os.getpid(), 9)"
      ]
    },
    {
      "cell_type": "markdown",
      "metadata": {
        "id": "d7yVWoYloGtq"
      },
      "source": [
        "# <h2><b><div><font face=\"Playfair\" color=\"#33302e\">What are the most popular snacks?\n",
        "<h3><font face=\"Playfair\" color=\"#33302e\">\n",
        "To answer this question, the <i><code>joined</code></i> DataFrame was imported from the CSV file we saved in the previous section, filtered for <code>snacks</code> in the <code>department</code> column, and saved the result to a new DataFrame, <code>Snacks</code>.\n",
        "<br><Br>\n",
        "From the new <code>Snacks</code> DataFrame, a new column was created with the value counts of each occurance of the Snack product name. It was then filted for the most prevalent snacks and a simple bar chart was created in Pandas.\n",
        "<br><br>\n",
        "From this analyis, it was found that <b>Lightly Salted Baked Snap Pea Crisps</b> is the most popular snack among Instacart users, followed by <b>Original Veggie Straws</b>, <b>Sea Salt Pita Chips</b>, <b>Pretzel Crisps Original Deli Style Pretzel Crackers</b>, and <b>Sea Salt & Vinegar Potato Chips</b>."
      ]
    },
    {
      "cell_type": "code",
      "execution_count": null,
      "metadata": {
        "id": "L9acJvl1cbV0"
      },
      "outputs": [],
      "source": [
        "#1. Import Pandas again since we reset the session in the last cell of the previous section\n",
        "import pandas as pd\n",
        "#2. Just import the joined CSV file as a DataFrame\n",
        "csv = '/content/drive/MyDrive/Stage_DSA501_2021/4. Week_4/Final_Project/joined.csv'\n",
        "joined = pd.read_csv(csv,index_col=0)\n",
        "joined.head()"
      ]
    },
    {
      "cell_type": "markdown",
      "metadata": {
        "id": "2cG9tR4CssTC"
      },
      "source": [
        "## <h2><b><div><font face=\"Playfair\" color=\"#33302e\">Filter for the Snacks Department\n",
        "<h3><font face=\"Playfair\" color=\"#33302e\">\n",
        "A new DataFrame was created that only included products and orders from the Instacart Snacks department.\n",
        "<br><br>"
      ]
    },
    {
      "cell_type": "code",
      "execution_count": null,
      "metadata": {
        "id": "nGLkLwu1yzoo"
      },
      "outputs": [],
      "source": [
        "#3. To find the most popular snacks, filter the joined dataframe for departments that equal to snacks\n",
        "Snacks = joined.loc[joined['department'] == 'snacks']"
      ]
    },
    {
      "cell_type": "code",
      "execution_count": null,
      "metadata": {
        "id": "LFarNLrvy3pA"
      },
      "outputs": [],
      "source": [
        "Snacks"
      ]
    },
    {
      "cell_type": "markdown",
      "metadata": {
        "id": "RnnXr2-CtU3M"
      },
      "source": [
        "## <h2><b><div><font face=\"Playfair\" color=\"#33302e\">Count the Prevalence of Each Snack\n",
        "<h3><font face=\"Playfair\" color=\"#33302e\">\n",
        "To see the prevalence of each snack item, <code>value_counts</code> was applied to the <code>product_name</code> and saved as a new column for use in a bar chart.\n",
        "<br><br>"
      ]
    },
    {
      "cell_type": "code",
      "execution_count": null,
      "metadata": {
        "id": "HlTBZm7M1IB9"
      },
      "outputs": [],
      "source": [
        "#4. Value counts of prevalence of product names\n",
        "Snacks['product_name'].value_counts()"
      ]
    },
    {
      "cell_type": "code",
      "execution_count": null,
      "metadata": {
        "id": "FOkKI_AY2dmd"
      },
      "outputs": [],
      "source": [
        "#5. Save value counts of product names as a column in the DataFrame\n",
        "Snacks = Snacks['product_name'].value_counts().to_frame()"
      ]
    },
    {
      "cell_type": "code",
      "execution_count": null,
      "metadata": {
        "id": "fiLGTzy46mst"
      },
      "outputs": [],
      "source": [
        "Snacks"
      ]
    },
    {
      "cell_type": "markdown",
      "metadata": {
        "id": "lxeu_-BxtpfG"
      },
      "source": [
        "## <h2><b><div><font face=\"Playfair\" color=\"#33302e\">Filter for Most Prevalent Snacks\n",
        "<h3><font face=\"Playfair\" color=\"#33302e\">\n",
        "We can't show the entire <code>Snacks</code> DataFrame in a bar chart, so we need to filter for the products that \n",
        "<br><br>"
      ]
    },
    {
      "cell_type": "code",
      "execution_count": null,
      "metadata": {
        "id": "QFjROdk52p0i"
      },
      "outputs": [],
      "source": [
        "#6. Filter for the most prevelant snacks\n",
        "Snacks = Snacks.loc[Snacks['product_name'] >= 10000]"
      ]
    },
    {
      "cell_type": "code",
      "execution_count": null,
      "metadata": {
        "id": "e_QbszLG7FRK"
      },
      "outputs": [],
      "source": [
        "#7. See how many bars we'll have for the chart\n",
        "Snacks.shape"
      ]
    },
    {
      "cell_type": "code",
      "execution_count": null,
      "metadata": {
        "id": "0VONTT9S1jhh"
      },
      "outputs": [],
      "source": [
        "#8. Bar chart of most popular snacks\n",
        "ax = Snacks.plot.bar(y='product_name', use_index=True)"
      ]
    },
    {
      "cell_type": "code",
      "execution_count": null,
      "metadata": {
        "id": "uetlHGW1cmsB"
      },
      "outputs": [],
      "source": [
        "# 4. Reset Runtime to save RAM -- Move onto and run all cells for next section\n",
        "import os\n",
        "os.kill(os.getpid(), 9)"
      ]
    },
    {
      "cell_type": "markdown",
      "metadata": {
        "id": "HzThF84NoSed"
      },
      "source": [
        "# <h2><b><div><font face=\"Playfair\" color=\"#33302e\">Which Bakery products are purchased the most?\n",
        "<h3><font face=\"Playfair\" color=\"#33302e\">\n",
        "To answer this question, the <i><code>joined</code></i> DataFrame was imported from the CSV file we saved in the previous section, filtered for <code>bakery</code> in the <code>department</code> column, and saved the result to a new DataFrame, <code>Bakery</code>.\n",
        "<br><Br>\n",
        "From the new <code>Bakery</code> DataFrame, a new column was created with the value counts of each occurance of the bakery product name. It was then filted for the most prevalent bakery items and a simple bar chart was created in Pandas.<br><br>\n",
        "From this analysis, it was found that <b>100% whole wheat bread</b> is the product that is purchased significantly more than any other bakery product. It appears that Instacart shoppers are health-conscious eaters since closely following 100% whole wheat bread as the top bakery product purchased is organic bread with 21 whole grains, Ezekiel 4:9 organic sprouted whole grain, and sourdough bread. <br><br>With this information, Instacart can arrange the Bakery landing page on the app to show these items at the top of the page to make for a better user experience.<br><br>\n",
        "<img src=\"https://live.staticflickr.com/65535/51375215454_710ab8db76_k.jpg\" width=\"700\" alt=\"Final_Graphics\">"
      ]
    },
    {
      "cell_type": "code",
      "execution_count": null,
      "metadata": {
        "id": "088TTTydcqgb"
      },
      "outputs": [],
      "source": [
        "#1. Import Pandas again since we reset the session in the last cell of the previous section\n",
        "import pandas as pd\n",
        "#2. Just import the joined CSV file as a DataFrame\n",
        "csv = '/content/drive/MyDrive/Stage_DSA501_2021/4. Week_4/Final_Project/joined.csv'\n",
        "joined = pd.read_csv(csv,index_col=0)\n",
        "joined.head()"
      ]
    },
    {
      "cell_type": "code",
      "execution_count": null,
      "metadata": {
        "id": "u4Ih-Ok81o1w"
      },
      "outputs": [],
      "source": [
        "#3. Filter for Bakery department items\n",
        "bakery = joined.loc[joined['department'] == 'bakery']"
      ]
    },
    {
      "cell_type": "code",
      "execution_count": null,
      "metadata": {
        "id": "faxMKQIn9Ska"
      },
      "outputs": [],
      "source": [
        "bakery"
      ]
    },
    {
      "cell_type": "code",
      "execution_count": null,
      "metadata": {
        "id": "pH02XJ-U9Wgn"
      },
      "outputs": [],
      "source": [
        "#4. Value counts to find most popular bakery items, save it as column in DataFrame\n",
        "bakery = bakery['product_name'].value_counts().to_frame()"
      ]
    },
    {
      "cell_type": "code",
      "execution_count": null,
      "metadata": {
        "id": "pzOQ-9SN9atn"
      },
      "outputs": [],
      "source": [
        "bakery"
      ]
    },
    {
      "cell_type": "code",
      "execution_count": null,
      "metadata": {
        "id": "x0HKZ8V69d_v"
      },
      "outputs": [],
      "source": [
        "#5. Filter for the most popular items\n",
        "bakery = bakery.loc[bakery['product_name'] >= 10000]"
      ]
    },
    {
      "cell_type": "code",
      "execution_count": null,
      "metadata": {
        "id": "FoNKnb4l9i2u"
      },
      "outputs": [],
      "source": [
        "#6. Check to see how many bars will be in the chart\n",
        "bakery.shape"
      ]
    },
    {
      "cell_type": "code",
      "execution_count": null,
      "metadata": {
        "id": "iWnwFizx9let"
      },
      "outputs": [],
      "source": [
        "#7. Bar chart of most popular bakery items\n",
        "ax = bakery.plot.bar(y='product_name', use_index=True)"
      ]
    },
    {
      "cell_type": "code",
      "execution_count": null,
      "metadata": {
        "id": "E0wqC_Q0csYK"
      },
      "outputs": [],
      "source": [
        "# 8. Reset Runtime to save RAM (it will say \"session crashed\" but this is a purposeful manual crash\n",
        "#-- Move onto and run all cells for next section\n",
        "import os\n",
        "os.kill(os.getpid(), 9)"
      ]
    },
    {
      "cell_type": "markdown",
      "metadata": {
        "id": "jOecFO7BNUpF"
      },
      "source": [
        "# <h2><b><div><font face=\"Playfair\" color=\"#33302e\">What is the most popular first item users add to the cart?\n",
        "<h3><font face=\"Playfair\" color=\"#33302e\">\n",
        "To answer this question, the <code>orders</code>, <code>orders_products_prior</code>, and <code>products</code> DataFrames were imported from the CSV files from the Kaggle zip folder. To pull all unique orders into a new DataFrame, <code>most_popular_first_item</code> an outer join was conducted on the <code>orders</code> and <code>order_products_prior</code>tables on the shared joinkey, <code>order_id</code>. An inner join was done on the new <code>most_popular_first_item</code> DataFrame with the <code>products</code> table to match up the shared product values with the unique orders. \n",
        "<br><br>\n",
        "The <code>most_popular_first_item</code> DataFrame was then filtered for only first orders, and a new column with the value counts of each product was created. The top 15 items were saved to a new DataFrame in order to create a simple Pandas bar chart of the top 15 items added to the cart first by a user.\n",
        "<br><br>\n",
        "From this analysis, it was found that <b>bananas</b> are the first item most often added to carts first by Instacart users. Instacart can use this information to create widgets on the app homepage with the bananas product with an \"add to cart\" button, or automatically have bananas in a user's cart when they begin shopping. It may also make sense to make bananas complimentary to every purchase since they are so low in cost and will help mitigate any customer dissatisfaction from having a product already in their cart that they have to pay for."
      ]
    },
    {
      "cell_type": "code",
      "execution_count": null,
      "metadata": {
        "id": "KZ2dsvI2ddur"
      },
      "outputs": [],
      "source": [
        "#1. Import Pandas library again since we reset the last section\n",
        "import pandas as pd\n",
        "#2. Import CSV files as dataframes\n",
        "orders = pd.read_csv('orders.csv' )\n",
        "order_products_prior = pd.read_csv('order_products__prior.csv')\n",
        "products = pd.read_csv('products.csv')"
      ]
    },
    {
      "cell_type": "markdown",
      "metadata": {
        "id": "PWV-8kRVziIR"
      },
      "source": [
        "## <h2><b><div><font face=\"Playfair\" color=\"#33302e\">Join the Orders DataFrames\n",
        "<h3><font face=\"Playfair\" color=\"#33302e\">\n",
        "Complete an outer join to create a DataFrame with all unique orders.\n",
        "<br><br>"
      ]
    },
    {
      "cell_type": "code",
      "execution_count": null,
      "metadata": {
        "id": "fTCGwex-N_Ug"
      },
      "outputs": [],
      "source": [
        "#3. Join orders with order_products_prior on an outer join to retrieve all unique orders togeter in one DataFrame\n",
        "most_popular_first_item = orders.merge(order_products_prior, on='order_id', how='outer')\n",
        "most_popular_first_item.head()"
      ]
    },
    {
      "cell_type": "markdown",
      "metadata": {
        "id": "s1AZwTDmz1hc"
      },
      "source": [
        "## <h2><b><div><font face=\"Playfair\" color=\"#33302e\">Delete Columns\n",
        "<h3><font face=\"Playfair\" color=\"#33302e\">\n",
        "Delete any columns we won't need for this research question."
      ]
    },
    {
      "cell_type": "code",
      "execution_count": null,
      "metadata": {
        "id": "-dmdGxNDP9SH"
      },
      "outputs": [],
      "source": [
        "#4. Delete columns we don't need to save on RAM\n",
        "del most_popular_first_item['user_id']"
      ]
    },
    {
      "cell_type": "code",
      "execution_count": null,
      "metadata": {
        "id": "mgFGmpAWQEVM"
      },
      "outputs": [],
      "source": [
        "del most_popular_first_item['eval_set']"
      ]
    },
    {
      "cell_type": "code",
      "execution_count": null,
      "metadata": {
        "id": "jb5gjCukQG9x"
      },
      "outputs": [],
      "source": [
        "del most_popular_first_item['days_since_prior_order']"
      ]
    },
    {
      "cell_type": "code",
      "execution_count": null,
      "metadata": {
        "id": "cFpZ3vACQMm9"
      },
      "outputs": [],
      "source": [
        "del most_popular_first_item['reordered']"
      ]
    },
    {
      "cell_type": "markdown",
      "metadata": {
        "id": "kxsQ4Emez_o3"
      },
      "source": [
        "## <h2><b><div><font face=\"Playfair\" color=\"#33302e\">Join All Unique Orders with Product Names\n",
        "<h3><font face=\"Playfair\" color=\"#33302e\">\n",
        "Join the DataFrame with all unique orders with its corresponding product names to see which product is most often added to the cart first."
      ]
    },
    {
      "cell_type": "code",
      "execution_count": null,
      "metadata": {
        "id": "8Y3TEafxOls9"
      },
      "outputs": [],
      "source": [
        "#5. Get product name column by conducting an inner join to only return shared values\n",
        "most_popular_first_item = most_popular_first_item.merge(products, on='product_id', how='inner')\n",
        "most_popular_first_item.head()"
      ]
    },
    {
      "cell_type": "markdown",
      "metadata": {
        "id": "zwNUlIhv0RMF"
      },
      "source": [
        "## <h2><b><div><font face=\"Playfair\" color=\"#33302e\">Delete Columns\n",
        "<h3><font face=\"Playfair\" color=\"#33302e\">\n",
        "Delete any columns we won't need for this research question."
      ]
    },
    {
      "cell_type": "code",
      "execution_count": null,
      "metadata": {
        "id": "DG9eeR7vQWNN"
      },
      "outputs": [],
      "source": [
        "#6. Delete columns we don't need to save on RAM\n",
        "del most_popular_first_item['department_id']"
      ]
    },
    {
      "cell_type": "code",
      "execution_count": null,
      "metadata": {
        "id": "YTwT0GoyQZtg"
      },
      "outputs": [],
      "source": [
        "del most_popular_first_item['aisle_id']"
      ]
    },
    {
      "cell_type": "markdown",
      "metadata": {
        "id": "EJXtk82w0mIm"
      },
      "source": [
        "## <h2><b><div><font face=\"Playfair\" color=\"#33302e\">Filter for the First Items Added to Cart\n",
        "<h3><font face=\"Playfair\" color=\"#33302e\">\n",
        "Filter the DataFrame so that we are only looking at data for items added to the cart first by users."
      ]
    },
    {
      "cell_type": "code",
      "execution_count": null,
      "metadata": {
        "id": "hIbPDgGoQdJ0"
      },
      "outputs": [],
      "source": [
        "#7. Filter for first items added to cart\n",
        "most_popular_first_item = most_popular_first_item.loc[most_popular_first_item['add_to_cart_order'] == 1]"
      ]
    },
    {
      "cell_type": "markdown",
      "metadata": {
        "id": "mCAFxOkV0xqO"
      },
      "source": [
        "## <h2><b><div><font face=\"Playfair\" color=\"#33302e\">Save the DataFrame to a CSV for Later Use\n",
        "<h3><font face=\"Playfair\" color=\"#33302e\">\n",
        "We'll use this same DataFrame to answer the research question in the next section so instead of running all the same steps above, save it as a CSV to import to answer that specific question."
      ]
    },
    {
      "cell_type": "code",
      "execution_count": null,
      "metadata": {
        "id": "PRlUPLUZdr7q"
      },
      "outputs": [],
      "source": [
        "#9. Save dataframe to CSV to save RAM and for use in later sections\n",
        "most_popular_first_item.to_csv('/content/drive/MyDrive/Stage_DSA501_2021/4. Week_4/Final_Project/most_popular_first_item.csv',encoding='utf-8')"
      ]
    },
    {
      "cell_type": "markdown",
      "metadata": {
        "id": "iRUCOuFG1F3n"
      },
      "source": [
        "## <h2><b><div><font face=\"Playfair\" color=\"#33302e\">Create DataFrame with Top Products Added to Cart First\n",
        "<h3><font face=\"Playfair\" color=\"#33302e\">\n",
        "Create a new column that counts each occurence of the product, then save the top products to a new DataFrame for use in a bar chart visualization."
      ]
    },
    {
      "cell_type": "code",
      "execution_count": null,
      "metadata": {
        "id": "86eHX1GINvYp"
      },
      "outputs": [],
      "source": [
        "#10. Save value counts column of product name to the DataFrame\n",
        "most_popular_first_item_df = most_popular_first_item['product_name'].value_counts().to_frame()"
      ]
    },
    {
      "cell_type": "code",
      "execution_count": null,
      "metadata": {
        "id": "6O5QM2tIKuwf"
      },
      "outputs": [],
      "source": [
        "most_popular_first_item_df = most_popular_first_item_df.head(15)\n",
        "print (most_popular_first_item_df)"
      ]
    },
    {
      "cell_type": "markdown",
      "metadata": {
        "id": "eNOpzKIu1VK-"
      },
      "source": [
        "## <h2><b><div><font face=\"Playfair\" color=\"#33302e\">Create a Bar Chart\n",
        "<h3><font face=\"Playfair\" color=\"#33302e\">\n",
        "Create a simple bar chart in Pandas of the top products added to cart first by users."
      ]
    },
    {
      "cell_type": "code",
      "execution_count": null,
      "metadata": {
        "id": "jFRyhc9yK4FO"
      },
      "outputs": [],
      "source": [
        "#11. Bar chart of most popular first items added to cart\n",
        "ax = most_popular_first_item_df.plot.bar(y='product_name', use_index=True)"
      ]
    },
    {
      "cell_type": "code",
      "execution_count": null,
      "metadata": {
        "id": "P1lqhmYPPXyO"
      },
      "outputs": [],
      "source": [
        "#12. Count by product_ids to see if there is a difference in results\n",
        "most_popular_first_item['product_id'].value_counts()"
      ]
    },
    {
      "cell_type": "code",
      "execution_count": null,
      "metadata": {
        "id": "Y0CrlUIzeJb0"
      },
      "outputs": [],
      "source": [
        "# 13. Reset Runtime to save RAM (it will say \"session crashed\" but this is a purposeful manual crash\n",
        "#-- Move onto and run all cells for next section\n",
        "import os\n",
        "os.kill(os.getpid(), 9)"
      ]
    },
    {
      "cell_type": "markdown",
      "metadata": {
        "id": "UGDrx9HDpt9L"
      },
      "source": [
        "# <h2><b><div><font face=\"Playfair\" color=\"#33302e\">Does this change by the day of the week?\n",
        "<h3><font face=\"Playfair\" color=\"#33302e\">\n",
        "To answer this question, the <code>most_popular_first_item</code> DataFrame were imported from the CSV file created in the previous section, and new DataFrames filtered for each day of the week were created to see if there was a change. Bar charts were created from each DataFrame and were exported then redesigned in Adobe Creative Suite.\n",
        "<br><br>\n",
        "From this, it was found that <b>bananas</b> are the first products added to a user's cart everyday of the week. From this analysis, it was found that a user's shopping behaviors hardly change throughout the week with the first products added to cart unchanging each day of the week. I would assume that on Fridays, shopping may be for weekend or party products, but it appears that each time a user shops, its to restock their kitchen.\n",
        "<br><br>\n",
        "<img src=\"https://live.staticflickr.com/65535/51373731097_f4fd6e8cac_k.jpg\" width=\"700\" alt=\"banana\">"
      ]
    },
    {
      "cell_type": "code",
      "execution_count": null,
      "metadata": {
        "id": "zNFLEVCdeMnH"
      },
      "outputs": [],
      "source": [
        "#1. Import Pandas Library again since we reset last section\n",
        "import pandas as pd\n",
        "#2. Import DataFrame from previous section that we exported as a CSV\n",
        "csv = '/content/drive/MyDrive/Stage_DSA501_2021/4. Week_4/Final_Project/most_popular_first_item.csv'\n",
        "most_popular_first_item = pd.read_csv(csv,index_col=0)\n",
        "most_popular_first_item.head()"
      ]
    },
    {
      "cell_type": "code",
      "execution_count": null,
      "metadata": {
        "id": "hTv2gLxaOym7"
      },
      "outputs": [],
      "source": [
        "#3. Filter for Sunday\n",
        "dow_zero = most_popular_first_item.loc[most_popular_first_item['order_dow'] == 0]"
      ]
    },
    {
      "cell_type": "code",
      "execution_count": null,
      "metadata": {
        "id": "4UbTAbvgPJ4x"
      },
      "outputs": [],
      "source": [
        "#4. Filter for most popular items added to cart first on Sundays\n",
        "dow_zero = dow_zero['product_name'].value_counts().to_frame()"
      ]
    },
    {
      "cell_type": "code",
      "execution_count": null,
      "metadata": {
        "id": "E871A7qNKTtv"
      },
      "outputs": [],
      "source": [
        "dow_zero = dow_zero.head(5)\n",
        "print (dow_zero)"
      ]
    },
    {
      "cell_type": "code",
      "execution_count": null,
      "metadata": {
        "id": "RRbYxWHuKYUN"
      },
      "outputs": [],
      "source": [
        "#5. Bar chart of most popular first items added to carts on Sundays\n",
        "ax = dow_zero.plot.bar(y='product_name', use_index=True)"
      ]
    },
    {
      "cell_type": "code",
      "execution_count": null,
      "metadata": {
        "id": "aeLb5FxGQooa"
      },
      "outputs": [],
      "source": [
        "#6. Filter for Monday\n",
        "dow_one = most_popular_first_item.loc[most_popular_first_item['order_dow'] == 1]"
      ]
    },
    {
      "cell_type": "code",
      "execution_count": null,
      "metadata": {
        "id": "W6qxPzRZQs-R"
      },
      "outputs": [],
      "source": [
        "#7. Filter for most popular items added to cart first on Mondays\n",
        "dow_one = dow_one['product_name'].value_counts().to_frame()"
      ]
    },
    {
      "cell_type": "code",
      "execution_count": null,
      "metadata": {
        "id": "uYevc75JKGHT"
      },
      "outputs": [],
      "source": [
        "dow_one = dow_one.head(5)\n",
        "print (dow_one)"
      ]
    },
    {
      "cell_type": "code",
      "execution_count": null,
      "metadata": {
        "id": "b7wX_njbKL1D"
      },
      "outputs": [],
      "source": [
        "#8. Bar chart of most popular first items added to carts on Mondays\n",
        "ax = dow_one.plot.bar(y='product_name', use_index=True)"
      ]
    },
    {
      "cell_type": "code",
      "execution_count": null,
      "metadata": {
        "id": "fu-Iyj7AQvCh"
      },
      "outputs": [],
      "source": [
        "#9. Filter out for Tuesday\n",
        "dow_two = most_popular_first_item.loc[most_popular_first_item['order_dow'] == 2]"
      ]
    },
    {
      "cell_type": "code",
      "execution_count": null,
      "metadata": {
        "id": "yOoiuPh4QxlQ"
      },
      "outputs": [],
      "source": [
        "#10. Create new column of products added first to cart on Tuesdays\n",
        "dow_two = dow_two['product_name'].value_counts().to_frame()"
      ]
    },
    {
      "cell_type": "code",
      "execution_count": null,
      "metadata": {
        "id": "vIi1s6lgJ1at"
      },
      "outputs": [],
      "source": [
        "dow_two = dow_two.head(5)\n",
        "print (dow_two)"
      ]
    },
    {
      "cell_type": "code",
      "execution_count": null,
      "metadata": {
        "id": "xxKrcGuJJ5uJ"
      },
      "outputs": [],
      "source": [
        "#11. Bar chart of most popular first orders added to cart on Tuesdays\n",
        "ax = dow_two.plot.bar(y='product_name', use_index=True)"
      ]
    },
    {
      "cell_type": "code",
      "execution_count": null,
      "metadata": {
        "id": "b8MN21b_Qzco"
      },
      "outputs": [],
      "source": [
        "#12. Filter for Wednesdays\n",
        "dow_three = most_popular_first_item.loc[most_popular_first_item['order_dow'] == 3]"
      ]
    },
    {
      "cell_type": "code",
      "execution_count": null,
      "metadata": {
        "id": "x-nmT_n5Q3VA"
      },
      "outputs": [],
      "source": [
        "#13. Create column for counts of products added first to cart on Wednesdays in DataFrame\n",
        "dow_three = dow_three['product_name'].value_counts().to_frame()"
      ]
    },
    {
      "cell_type": "code",
      "execution_count": null,
      "metadata": {
        "id": "QBguatMaJKd2"
      },
      "outputs": [],
      "source": [
        "dow_three = dow_three.head(5)\n",
        "print (dow_three)"
      ]
    },
    {
      "cell_type": "code",
      "execution_count": null,
      "metadata": {
        "id": "rIypMG3VJsCQ"
      },
      "outputs": [],
      "source": [
        "#14. Bar chart of most popular first items added to carts on Wednesdays\n",
        "ax = dow_three.plot.bar(y='product_name', use_index=True)"
      ]
    },
    {
      "cell_type": "code",
      "execution_count": null,
      "metadata": {
        "id": "GMz1St_TQ5Rf"
      },
      "outputs": [],
      "source": [
        "#15. Filter for Thursdays\n",
        "dow_four = most_popular_first_item.loc[most_popular_first_item['order_dow'] == 4]"
      ]
    },
    {
      "cell_type": "code",
      "execution_count": null,
      "metadata": {
        "id": "U0KLdCWAQ8CX"
      },
      "outputs": [],
      "source": [
        "#16. Add value counts of products first added to cart on Thursdays as column to DataFrame\n",
        "dow_four = dow_four['product_name'].value_counts().to_frame()"
      ]
    },
    {
      "cell_type": "code",
      "execution_count": null,
      "metadata": {
        "id": "FuI-H1AkI6vQ"
      },
      "outputs": [],
      "source": [
        "dow_four = dow_four.head(5)\n",
        "print (dow_four)"
      ]
    },
    {
      "cell_type": "code",
      "execution_count": null,
      "metadata": {
        "id": "UibEsFjfI-eV"
      },
      "outputs": [],
      "source": [
        "#17. Bar chart of most popular products first added to cart on Thursdays\n",
        "ax = dow_four.plot.bar(y='product_name', use_index=True)"
      ]
    },
    {
      "cell_type": "code",
      "execution_count": null,
      "metadata": {
        "id": "nQTP9X0DQ_Y2"
      },
      "outputs": [],
      "source": [
        "#18. Filter for Fridays\n",
        "dow_five = most_popular_first_item.loc[most_popular_first_item['order_dow'] == 5]"
      ]
    },
    {
      "cell_type": "code",
      "execution_count": null,
      "metadata": {
        "id": "5EHVGdgVRCu2"
      },
      "outputs": [],
      "source": [
        "#19. Add value counts of products first added to cart on Fridays as column to DataFrame\n",
        "dow_five = dow_five['product_name'].value_counts().to_frame()"
      ]
    },
    {
      "cell_type": "code",
      "execution_count": null,
      "metadata": {
        "id": "c_c9f-VkIk4k"
      },
      "outputs": [],
      "source": [
        "dow_five = dow_five.head(5)\n",
        "print (dow_five)"
      ]
    },
    {
      "cell_type": "code",
      "execution_count": null,
      "metadata": {
        "id": "PaGC6kUgIlhT"
      },
      "outputs": [],
      "source": [
        "#20. Bar chart of most popular products first added to cart on Fridays\n",
        "ax = dow_five.plot.bar(y='product_name', use_index=True)"
      ]
    },
    {
      "cell_type": "code",
      "execution_count": null,
      "metadata": {
        "id": "dq_A3vk9RGvF"
      },
      "outputs": [],
      "source": [
        "#21. Filter for Saturdays\n",
        "dow_six = most_popular_first_item.loc[most_popular_first_item['order_dow'] == 6]"
      ]
    },
    {
      "cell_type": "code",
      "execution_count": null,
      "metadata": {
        "id": "46XhOR45RJD1"
      },
      "outputs": [],
      "source": [
        "#22. Add value counts of products first added to cart on Saturdays as column to DataFrame\n",
        "dow_six = dow_six['product_name'].value_counts().to_frame()"
      ]
    },
    {
      "cell_type": "code",
      "execution_count": null,
      "metadata": {
        "id": "h1JGzhnlG5jM"
      },
      "outputs": [],
      "source": [
        "dow_six"
      ]
    },
    {
      "cell_type": "markdown",
      "metadata": {
        "id": "REmOuudjRca9"
      },
      "source": [
        "2. The most popular first item to add to cart is a banana and it doesn't change throughout the week."
      ]
    },
    {
      "cell_type": "code",
      "execution_count": null,
      "metadata": {
        "id": "RBuTyIE7RLbc"
      },
      "outputs": [],
      "source": [
        "dow_six = dow_six.head(5)\n",
        "print (dow_six)"
      ]
    },
    {
      "cell_type": "code",
      "execution_count": null,
      "metadata": {
        "id": "D0HlqG25Hxa2"
      },
      "outputs": [],
      "source": [
        "#23. Bar chart of most popular products first added to cart on Saturdays\n",
        "ax = dow_six.plot.bar(y='product_name', use_index=True)"
      ]
    },
    {
      "cell_type": "code",
      "execution_count": null,
      "metadata": {
        "id": "vDv6e44aeY9v"
      },
      "outputs": [],
      "source": [
        "#24. Reset Runtime to save RAM (it will say \"session crashed\" but this is a purposeful manual crash\n",
        "#-- Move onto and run all cells for next section\n",
        "import os\n",
        "os.kill(os.getpid(), 9)"
      ]
    },
    {
      "cell_type": "markdown",
      "metadata": {
        "id": "lCoFGe3Np2eH"
      },
      "source": [
        "# <h2><b><div><font face=\"Playfair\" color=\"#33302e\">What is the frequency of reorders among users?\n",
        "<h3><font face=\"Playfair\" color=\"#33302e\">\n",
        "To answer this question, the <code>orders</code> and <code>order_products_prior</code> DataFrames were imported from the Kaggle CSV files. A new DataFrame, <code>all_orders</code> was created by joining <code>orders</code> with <code>order_products_prior</code> on the shared joinkey, <code>order_id</code> through an outer join to pull all unique order ID values and create a dataset that contains all unique orders. This DataFrame was saved as a CSV for later use since it'll be used in the next sections.\n",
        "<br><br>\n",
        "From this DataFrame, a new column was created that counted the max total orders and grouped this result by <code>user_id</code> and was saved in a new DataFrame, <code>user_orders</code>. A simple Pandas histogram was created from from the new column, <code>total_user_orders</code> to see the prevalence of the values of the maximum total orders per unique user. \n",
        "<br><br>\n",
        "From this analysis, it was found that <b>users typically place less than 10 orders through Instacart</b>. From this information, Instacart may want to see what makes a user place less than 10 purchases -- perhaps Instacart offers a promo code for first-time users so each time a user places a purchase, they create a new account to take advantage of the discount. Instacart may also consider creating a loyalty program where each purchase total contributes to a point total with prizes given for each tier of point accumulation.<br><Br>\n",
        "<img src=\"https://live.staticflickr.com/65535/51375483250_492d0a6fd5_k.jpg\" width=\"700\" alt=\"Final_Graphics-2\">"
      ]
    },
    {
      "cell_type": "code",
      "execution_count": null,
      "metadata": {
        "id": "RAOh1yhRefRF"
      },
      "outputs": [],
      "source": [
        "#1. Import Pandas again since last section was reset\n",
        "import pandas as pd\n",
        "#2. Import the tables we need from CSV files as dataframes\n",
        "orders = pd.read_csv('orders.csv' )\n",
        "order_products_prior = pd.read_csv('order_products__prior.csv')"
      ]
    },
    {
      "cell_type": "markdown",
      "metadata": {
        "id": "Yblk_DnP_m0X"
      },
      "source": [
        "## <h2><b><div><font face=\"Playfair\" color=\"#33302e\">Create a DataFrame with All Unique Orders\n",
        "<h3><font face=\"Playfair\" color=\"#33302e\">\n",
        "A new DataFrame, <code>all_orders</code> was created by joining <code>orders</code> with <code>order_products_prior</code> on the shared joinkey, <code>order_id</code> through an outer join to pull all unique order ID values and create a dataset that contains all unique orders."
      ]
    },
    {
      "cell_type": "code",
      "execution_count": null,
      "metadata": {
        "id": "rINRLlWKIiIz"
      },
      "outputs": [],
      "source": [
        "#3. Conduct outer join on prior orders with orders on joinkey, \"order_id\" to pull all unique orders from each dataset\n",
        "all_orders = orders.merge(order_products_prior, on='order_id', how='outer')\n",
        "all_orders.head()"
      ]
    },
    {
      "cell_type": "markdown",
      "metadata": {
        "id": "XKk905L2_z-j"
      },
      "source": [
        "## <h2><b><div><font face=\"Playfair\" color=\"#33302e\">Save the DataFrame for Later Use\n",
        "<h3><font face=\"Playfair\" color=\"#33302e\">\n",
        "This DataFrame was saved as a CSV for later use since it'll be used in the next sections."
      ]
    },
    {
      "cell_type": "code",
      "execution_count": null,
      "metadata": {
        "id": "Bt-iWKWD5JYb"
      },
      "outputs": [],
      "source": [
        "#4. Save dataframe to CSV to save RAM and for use in later sections\n",
        "all_orders.to_csv('/content/drive/MyDrive/Stage_DSA501_2021/4. Week_4/Final_Project/all_orders.csv',encoding='utf-8')"
      ]
    },
    {
      "cell_type": "markdown",
      "metadata": {
        "id": "CpDOz_AsAEzx"
      },
      "source": [
        "## <h2><b><div><font face=\"Playfair\" color=\"#33302e\">Create a New Column with Max Orders Grouped by Unique Users\n",
        "<h3><font face=\"Playfair\" color=\"#33302e\">\n",
        "From the joined DataFrame, a new column was created that counted the max total orders and grouped this result by <code>user_id</code> and was saved in a new DataFrame, <code>user_orders</code>. A simple Pandas histogram was created from from the new column, <code>total_user_orders</code> to see the prevalence of the values of the maximum total orders per unique user. \n",
        "<br><br>"
      ]
    },
    {
      "cell_type": "code",
      "execution_count": null,
      "metadata": {
        "id": "1SfBO1X4LtFj"
      },
      "outputs": [],
      "source": [
        "#5. Group by user ID and order number for total orders per user\n",
        "users_orders = all_orders.groupby('user_id')['order_number'].max().to_frame('users_total_orders')\n",
        "users_orders.head()"
      ]
    },
    {
      "cell_type": "markdown",
      "metadata": {
        "id": "MdObqIzYAUDh"
      },
      "source": [
        "## <h2><b><div><font face=\"Playfair\" color=\"#33302e\">Reset the Index\n",
        "<h3><font face=\"Playfair\" color=\"#33302e\">\n",
        "Reset the Index so that <code>user_id</code> is a column and not the DataFrame index.\n",
        "<br><br>"
      ]
    },
    {
      "cell_type": "code",
      "execution_count": null,
      "metadata": {
        "id": "HUH0I5QqL7kI"
      },
      "outputs": [],
      "source": [
        "#6. Reset the index so that user_id is a column and not an index\n",
        "users_orders = users_orders.reset_index()\n",
        "users_orders.head()"
      ]
    },
    {
      "cell_type": "markdown",
      "metadata": {
        "id": "sLDiKvDaAgz2"
      },
      "source": [
        "## <h2><b><div><font face=\"Playfair\" color=\"#33302e\">Save the DataFrame with User ID and Total User Orders to a CSV for Later Use\n",
        "<h3><font face=\"Playfair\" color=\"#33302e\">\n",
        "This dataset will be need in other sections so we'll save it as a CSV to import later on.\n",
        "<br><br>"
      ]
    },
    {
      "cell_type": "code",
      "execution_count": null,
      "metadata": {
        "id": "MHiO7Z6k7cYB"
      },
      "outputs": [],
      "source": [
        "#4. Save dataframe to CSV to save RAM and for use in later sections\n",
        "users_orders.to_csv('/content/drive/MyDrive/Stage_DSA501_2021/4. Week_4/Final_Project/users_orders.csv',encoding='utf-8')"
      ]
    },
    {
      "cell_type": "markdown",
      "metadata": {
        "id": "z5BKKaKDAyw9"
      },
      "source": [
        "## <h2><b><div><font face=\"Playfair\" color=\"#33302e\">Create a Histogram of Prevalence of Number of Orders Per User\n",
        "<h3><font face=\"Playfair\" color=\"#33302e\">\n",
        "The below histogram was generated through Pandas and then exported to bring into Adobe Creative Suite to make more visually appealing.\n",
        "<br><br>"
      ]
    },
    {
      "cell_type": "code",
      "execution_count": null,
      "metadata": {
        "id": "RTVpz_HONwsN"
      },
      "outputs": [],
      "source": [
        "#7. Histogram of prevalence of how many orders each user makes\n",
        "users_orders.hist(column='users_total_orders',\n",
        "       figsize=[10, 6])"
      ]
    },
    {
      "cell_type": "code",
      "execution_count": null,
      "metadata": {
        "id": "bDnbeEdX6EJC"
      },
      "outputs": [],
      "source": [
        "# 8. Reset Runtime to save RAM (it will say \"session crashed\" but this is a purposeful manual crash\n",
        "#-- Move onto and run all cells for next section\n",
        "import os\n",
        "os.kill(os.getpid(), 9)"
      ]
    },
    {
      "cell_type": "markdown",
      "metadata": {
        "id": "eS-3v_jsqE_1"
      },
      "source": [
        "# <h2><b><div><font face=\"Playfair\" color=\"#33302e\">What's the most prevalent ratio for users reordering?\n",
        "<h3><font face=\"Playfair\" color=\"#33302e\">\n",
        "To answer this question, the <code>all_orders</code> and <code>users_orders</code> DataFrames were imported the saved CSV files from the previous sections. A new DataFrame, <code>user_reorder</code> was created by finding the <code>mean</code> of the <code>maximumn</code> number of orders per unique user to create a ratio of reorders per user. This DataFrame was joined with <code>users_orders</code> to create a new DataFrame that outlines the users behaviors on Instacart called <code>user_behavior</code>.\n",
        "<br><br>\n",
        "A simple histogram of the prevalence of reorder ratios among unique users was created in Pandas and redesigned in Adobe Creative Suite.\n",
        "<br><br>\n",
        "From this analysis, it was found that <b>users reorder from Instacart less than half of the time</b>. This tells us that there aren't many return customers to Instacart.<br><Br>\n",
        "<img src=\"https://lh3.googleusercontent.com/lk59H-fssxl6JlNArwyNSWEM51G2uV_TPTRNa8EojiV86wim2feZaBWd0kKIFzrCdkfZbIFk9KDbwyHu-f5PpUGALCv6fIhig-2W0DrH1yu7AOBTdG7TLVgvmfhWP0kMKfmgZD2KQO4UawcP5bLgxTL1QUcgqY5HB_BVw2jCDCcOPN3pH6MONetMW4epqSUNkcVNE-g88xNiiW2WAOWPTuE1UQ8b00QNWhE9FfVd1PjZzOdIcsF_OinO9PWgozzyk5IPItdo1KY9KnlpwbSfFMR7xq1tJZnSA7ftRjIxcNeWT7r-_miMhSb6q59a6ZU_xXrKekIsPfhihkgXmWksecrRRQ9nUGPp6JksAfp3DO1uEkMI_C72q_1wCg5SlhRfxDpS1TkytjgoWNCQXQLbRRxLIo4t9OLB9fsFwwaENv21ffnT7rBQczzeczpLlcGpZsD7xZqmtDgLQppfQY9Wlcj-Wy2gwbwIFoNttFlJhmlCbhk3rvjux8lJSOnEHBX0OwWKS2ijRjj9TwsnOVlGPgwKjkvId120Frq6bAw9epZM6Yhoa2LJee9A-64pHHWG7hgACSpHOk5ztmkSM6QIvgsW24JpE7x_OIBEjweQabO5a8UffkfMLZ897iOBzfY-KoWaHHzafSabKoLd3e8PZuZYaF2UErPtfke0bfJ-e8NkFCLK0HdDXgLe95Xo4vv3dvBmTlTxVJ15q2sep_KK7XA=w2400-h1800-no?authuser=2\" alt=\"diagram-2\" border=\"1\" width=\"700\">"
      ]
    },
    {
      "cell_type": "code",
      "execution_count": null,
      "metadata": {
        "id": "EwP0ym8c6zg-"
      },
      "outputs": [],
      "source": [
        "#1. Import Pandas again since last section was reset\n",
        "import pandas as pd\n",
        "#2. Import the all_orders CSV file as a DataFrame\n",
        "csv = '/content/drive/MyDrive/Stage_DSA501_2021/4. Week_4/Final_Project/all_orders.csv'\n",
        "all_orders = pd.read_csv(csv,index_col=0)\n",
        "all_orders.head()"
      ]
    },
    {
      "cell_type": "code",
      "execution_count": null,
      "metadata": {
        "id": "-qZvdjsg7hVl"
      },
      "outputs": [],
      "source": [
        "#3. Import the users_orders CSV file as a DaataFrame\n",
        "csv = '/content/drive/MyDrive/Stage_DSA501_2021/4. Week_4/Final_Project/users_orders.csv'\n",
        "users_orders = pd.read_csv(csv,index_col=0)\n",
        "users_orders.head()"
      ]
    },
    {
      "cell_type": "code",
      "execution_count": null,
      "metadata": {
        "id": "S116Un2LN6Mr"
      },
      "outputs": [],
      "source": [
        "#4. Calculate the reordered ratio by calculating the mean of reorders per user and saving it as a column to the dataframe\n",
        "user_reorder = all_orders.groupby('user_id')['reordered'].mean().to_frame('user_reordered_ratio')\n",
        "user_reorder = user_reorder.reset_index()\n",
        "user_reorder.head()"
      ]
    },
    {
      "cell_type": "code",
      "execution_count": null,
      "metadata": {
        "id": "RrfGBdkYOX4N"
      },
      "outputs": [],
      "source": [
        "#5. Merge users_orders with user_reorder to get users_total_orders with user_reordered_ratio\n",
        "user_behavior = users_orders.merge(user_reorder, on='user_id', how='inner')\n",
        "user_behavior.head()"
      ]
    },
    {
      "cell_type": "code",
      "execution_count": null,
      "metadata": {
        "id": "luyazauGOOIf"
      },
      "outputs": [],
      "source": [
        "user_reorder.hist(column='user_reordered_ratio',\n",
        "       figsize=[10, 6])"
      ]
    },
    {
      "cell_type": "code",
      "execution_count": null,
      "metadata": {
        "id": "9FILLquQ68GF"
      },
      "outputs": [],
      "source": [
        "# 8. Reset Runtime to save RAM (it will say \"session crashed\" but this is a purposeful manual crash\n",
        "#-- Move onto and run all cells for next section\n",
        "import os\n",
        "os.kill(os.getpid(), 9)"
      ]
    },
    {
      "cell_type": "markdown",
      "metadata": {
        "id": "r1hfUXQRqUVp"
      },
      "source": [
        "# <h2><b><div><font face=\"Playfair\" color=\"#33302e\">Which products have the most total purchases?\n",
        "<h3><font face=\"Playfair\" color=\"#33302e\">\n",
        "To answer this question, the <code>all_orders</code> DataFrame was imported from the saved CSV files from the previous sections. A new DataFrame, <code>product_popularity</code> was created by finding the <code>counts</code> of the <code>products</code> and grouping it by <code>order_id</code> to create a new column, <code>product_total_purchases</code>. This DataFrame was saved as a CSV for later use in other sections.\n",
        "<br><br>\n",
        "Thr DataFrame was then sorted high to low with the top values saved to a new DataFrame in order to create a bar chart of the products with the most total purchases.\n",
        "<br><br>\n",
        "From this analysis, it was found that <b>bananas, bags of organic bananas, organic strawberries, organic baby spinach, and organic hass avocados are the procuts with the most total purchases</b>. Interestingly, bananas are always the first item added to a user's cart and are also the most purchased out of all products on Instacart. It's the first thing users think of when they come to shop and is most frequently bought.<br><Br>\n",
        "<img src=\"https://live.staticflickr.com/65535/51374477761_e01f2738bd_k.jpg\" width=\"700\" alt=\"Final_Graphics_banana\">\n",
        "</font></div>"
      ]
    },
    {
      "cell_type": "code",
      "execution_count": null,
      "metadata": {
        "id": "rhRy3BXQ74wD"
      },
      "outputs": [],
      "source": [
        "#1. Import Pandas again since last section was reset\n",
        "import pandas as pd\n",
        "#2. Just import the all_orders CSV file as a DataFrame\n",
        "csv = '/content/drive/MyDrive/Stage_DSA501_2021/4. Week_4/Final_Project/all_orders.csv'\n",
        "all_orders = pd.read_csv(csv,index_col=0)\n",
        "all_orders.head()"
      ]
    },
    {
      "cell_type": "code",
      "execution_count": null,
      "metadata": {
        "id": "24GUMiGqPAYP"
      },
      "outputs": [],
      "source": [
        "#3. Group orders by product ID and order ID with value counts saved as column \"product_total_purchases\" to DataFrame\n",
        "product_popularity = all_orders.groupby('product_id')['order_id'].count().to_frame('product_total_purchases')\n",
        "product_popularity.head()"
      ]
    },
    {
      "cell_type": "code",
      "execution_count": null,
      "metadata": {
        "id": "UugxgHx6PP2L"
      },
      "outputs": [],
      "source": [
        "#4. Reset the index to make product_id a column and not the index\n",
        "product_popularity = product_popularity.reset_index()\n",
        "product_popularity.head()"
      ]
    },
    {
      "cell_type": "code",
      "execution_count": null,
      "metadata": {
        "id": "vOwTaMeU-9nE"
      },
      "outputs": [],
      "source": [
        "#5. Save dataframe to CSV to save RAM and for use in later sections\n",
        "product_popularity.to_csv('/content/drive/MyDrive/Stage_DSA501_2021/4. Week_4/Final_Project/product_popularity.csv',encoding='utf-8')"
      ]
    },
    {
      "cell_type": "code",
      "execution_count": null,
      "metadata": {
        "id": "Wn0mS5EfPvxN"
      },
      "outputs": [],
      "source": [
        "#6. Sort by highest to lowerest total product purchases\n",
        "product_popularity = product_popularity.sort_values(by='product_total_purchases', ascending=False)"
      ]
    },
    {
      "cell_type": "code",
      "execution_count": null,
      "metadata": {
        "id": "cOr5r6omYf9_"
      },
      "outputs": [],
      "source": [
        "product_popularity"
      ]
    },
    {
      "cell_type": "code",
      "execution_count": null,
      "metadata": {
        "id": "wzjtulIrYhUN"
      },
      "outputs": [],
      "source": [
        "#7. Pull the top 25 products and save it as a DataFrame\n",
        "product_popularity_25 = product_popularity.head(25)"
      ]
    },
    {
      "cell_type": "code",
      "execution_count": null,
      "metadata": {
        "id": "csm-v3Yu-Z8x"
      },
      "outputs": [],
      "source": [
        "#8. Import products table for join\n",
        "products = pd.read_csv('products.csv')"
      ]
    },
    {
      "cell_type": "code",
      "execution_count": null,
      "metadata": {
        "id": "pmxneEzeZebP"
      },
      "outputs": [],
      "source": [
        "#9. Join products and product_popularity on product_id with an inner join to pull all shared values into one DataFrame\n",
        "product_popularity_25 = product_popularity_25.merge(products, on='product_id', how='inner')\n",
        "product_popularity_25.head()"
      ]
    },
    {
      "cell_type": "code",
      "execution_count": null,
      "metadata": {
        "id": "QyFZLC4iZnil"
      },
      "outputs": [],
      "source": [
        "#10. Bar chart of most popular products\n",
        "ax = product_popularity_25.plot.bar(y='product_total_purchases', x='product_name')"
      ]
    },
    {
      "cell_type": "code",
      "execution_count": null,
      "metadata": {
        "id": "DCHIg1JL77zR"
      },
      "outputs": [],
      "source": [
        "# 11. Reset Runtime to save RAM (it will say \"session crashed\" but this is a purposeful manual crash\n",
        "#-- Move onto and run all cells for next section\n",
        "import os\n",
        "os.kill(os.getpid(), 9)"
      ]
    },
    {
      "cell_type": "markdown",
      "metadata": {
        "id": "e1ioUYU3qh3D"
      },
      "source": [
        "# <h2><b><div><font face=\"Playfair\" color=\"#33302e\">What's the most prevalent ratio for a product to be reordered?\n",
        "<h3><font face=\"Playfair\" color=\"#33302e\">\n",
        "To answer this question, the <code>all_orders</code> and <code>product_popularity</code> DataFrames were imported from the saved CSV files from the previous sections. An inner join was completed to join <code>all_orders</code> with <code>product_popularity</code> in order to merge the <code>reordered</code> column with the dataset that has the total number of times each product was purchased. A new column, <code>p_reorder_ratio</code> was created to see the ratio at which a product is reordered. This was found by finding the <code>mean</code> of reorders and grouping it by the product ID. This was saved as a new DataFrame, <code>product_reorder</code> and was exported as a CSV for later use.\n",
        "<br><br>\n",
        "A histogram of the product reorder ratio was created and redesigned in Adodbe Creative Suite.\n",
        "<br><br>\n",
        "From this analysis, it was found that the <b>likelihood a product will be reordered is less than half of the time</b>. This finding likely correlates with the fact that users will reorder from Instacart less than half the time as well. <br><Br>\n",
        "</font></div>\n",
        "<img src=\"https://live.staticflickr.com/65535/51374477736_0d62596852_b.jpg\" width=\"700\" alt=\"Final_Graphics-\">"
      ]
    },
    {
      "cell_type": "code",
      "execution_count": null,
      "metadata": {
        "id": "LTqWnc6B7-TW"
      },
      "outputs": [],
      "source": [
        "#1. Import Pandas again since last section was reset\n",
        "import pandas as pd\n",
        "#2. Import the all_orders CSV file as a DataFrame\n",
        "csv = '/content/drive/MyDrive/Stage_DSA501_2021/4. Week_4/Final_Project/all_orders.csv'\n",
        "all_orders = pd.read_csv(csv,index_col=0)\n",
        "all_orders.head()"
      ]
    },
    {
      "cell_type": "code",
      "execution_count": null,
      "metadata": {
        "id": "36haTljV_KsE"
      },
      "outputs": [],
      "source": [
        "#3. Import the product_popularity CSV file as a DataFrame\n",
        "csv = '/content/drive/MyDrive/Stage_DSA501_2021/4. Week_4/Final_Project/product_popularity.csv'\n",
        "product_popularity = pd.read_csv(csv,index_col=0)\n",
        "product_popularity.head()"
      ]
    },
    {
      "cell_type": "code",
      "execution_count": null,
      "metadata": {
        "id": "4dr3KcvqbFM3"
      },
      "outputs": [],
      "source": [
        "#4. Inner join on product_popularity and all_orders to pull in shared product name values\n",
        "product_popularity = product_popularity.merge(all_orders, on='product_id', how='inner')\n",
        "product_popularity.head()"
      ]
    },
    {
      "cell_type": "code",
      "execution_count": null,
      "metadata": {
        "id": "VT8Mn2HaZvoL"
      },
      "outputs": [],
      "source": [
        "#5. Group by product_id and reordered and find mean of times product is reordered to create the product reorder ratio\n",
        "product_reorder = product_popularity.groupby('product_id')['reordered'].mean().to_frame('p_reorder_ratio')\n",
        "product_reorder = product_reorder.reset_index()\n",
        "product_reorder.head()"
      ]
    },
    {
      "cell_type": "code",
      "execution_count": null,
      "metadata": {
        "id": "fD4JWgzZ8V8g"
      },
      "outputs": [],
      "source": [
        "#6. Save dataframe to CSV to save RAM and for use in later sections\n",
        "product_reorder.to_csv('/content/drive/MyDrive/Stage_DSA501_2021/4. Week_4/Final_Project/product_reorder.csv',encoding='utf-8')"
      ]
    },
    {
      "cell_type": "code",
      "execution_count": null,
      "metadata": {
        "id": "dWcNXq2Fa4Ni"
      },
      "outputs": [],
      "source": [
        "product_reorder.hist(column='p_reorder_ratio',\n",
        "       figsize=[10, 6])"
      ]
    },
    {
      "cell_type": "code",
      "execution_count": null,
      "metadata": {
        "id": "XmL_Z2Ay8ByI"
      },
      "outputs": [],
      "source": [
        "# 8. Reset Runtime to save RAM (it will say \"session crashed\" but this is a purposeful manual crash\n",
        "#-- Move onto and run all cells for next section\n",
        "import os\n",
        "os.kill(os.getpid(), 9)"
      ]
    },
    {
      "cell_type": "markdown",
      "metadata": {
        "id": "YiK3tQR6qqw2"
      },
      "source": [
        "# <h2><b><div><font face=\"Playfair\" color=\"#33302e\">Which products are reordered the most?\n",
        "<h3><font face=\"Playfair\" color=\"#33302e\">\n",
        "To answer this question, the <code>product_reorder</code> and <code>products</code> DataFrames were imported from the saved CSV files from the previous sections. An inner join was completed to join <code>product_reorder</code> with <code>products</code> in order to see the <code>product_name</code> column alongside the product reorder ratio. The DataFrame was then sorted high to low by the product reorder ratio to see which products are reordered the most on Instacart.\n",
        "<br><br>\n",
        "A simple bar chart of the results was then created in Pandas.\n",
        "<br><br>\n",
        "From this analysis, it was found that <b>Raw Veggie Wrappers</b>,\t<b>Serenity Ultimate Extrema Overnight Pads</b>, <b>Orange Energy Shots</b>, <b>Chocolate Love Bars</b>, and <b>Soy Powder Infant Formula</b> are <b>reordered the most</b>. Soy Powder Infant Formula makes sense as something reordered freqently it is something that is gone through quickly and is a necessity, and it isn't a product that a user would try out and decide it's not for them -- the same with the elderly person's overnight pads. \n",
        "</font></div>"
      ]
    },
    {
      "cell_type": "code",
      "execution_count": null,
      "metadata": {
        "id": "ifcm2cKd8cEQ"
      },
      "outputs": [],
      "source": [
        "#1. Import Pandas again since last section was reset\n",
        "import pandas as pd\n",
        "#2. Just import the all_orders CSV file as a DataFrame\n",
        "csv = '/content/drive/MyDrive/Stage_DSA501_2021/4. Week_4/Final_Project/product_reorder.csv'\n",
        "product_reorder = pd.read_csv(csv,index_col=0)\n",
        "product_reorder.head()"
      ]
    },
    {
      "cell_type": "code",
      "execution_count": null,
      "metadata": {
        "id": "4c1RmReGBCUS"
      },
      "outputs": [],
      "source": [
        "#3. Import the products table csv as a DataFrame\n",
        "products = pd.read_csv('products.csv')"
      ]
    },
    {
      "cell_type": "code",
      "execution_count": null,
      "metadata": {
        "id": "merxqkSzkVlo"
      },
      "outputs": [],
      "source": [
        "#4. Merge the two DataFrames on shared product_ids\n",
        "product_reorder = product_reorder.merge(products, on='product_id', how='inner')\n",
        "product_reorder.head()"
      ]
    },
    {
      "cell_type": "code",
      "execution_count": null,
      "metadata": {
        "id": "0mYhuGYLkL1Z"
      },
      "outputs": [],
      "source": [
        "#5. Sort values by the ratio in which products are reordered and save as new DataFrame\n",
        "product_reorder = product_reorder.sort_values(by='p_reorder_ratio', ascending=False)"
      ]
    },
    {
      "cell_type": "code",
      "execution_count": null,
      "metadata": {
        "id": "gxtaazbXlNVJ"
      },
      "outputs": [],
      "source": [
        "product_reorder"
      ]
    },
    {
      "cell_type": "code",
      "execution_count": null,
      "metadata": {
        "id": "LUka9q9VkdKD"
      },
      "outputs": [],
      "source": [
        "#6. Pull top 25 products that are most often reorded as new DataFrame\n",
        "product_reorder_25 = product_reorder.head(25)"
      ]
    },
    {
      "cell_type": "code",
      "execution_count": null,
      "metadata": {
        "id": "DpOVuvfhlVqz"
      },
      "outputs": [],
      "source": [
        "#7. Bar chart of top 25 products most often reordered\n",
        "ax = product_reorder_25.plot.bar(y='p_reorder_ratio', x='product_name')"
      ]
    },
    {
      "cell_type": "code",
      "execution_count": null,
      "metadata": {
        "id": "Je57VVaN8ib6"
      },
      "outputs": [],
      "source": [
        "# 8. Reset Runtime to save RAM (it will say \"session crashed\" but this is a purposeful manual crash\n",
        "#-- Move onto and run all cells for next section\n",
        "import os\n",
        "os.kill(os.getpid(), 9)"
      ]
    },
    {
      "cell_type": "markdown",
      "metadata": {
        "id": "cnoB4XX9q34p"
      },
      "source": [
        "# <h2><b><div><font face=\"Playfair\" color=\"#33302e\">Which products are ordered in the largest quantities?\n",
        "<h3><font face=\"Playfair\" color=\"#33302e\">\n",
        "To answer this question, the <code>all_orders</code> and <code>products</code> DataFrames were imported from the saved CSV files from the previous sections. A new DataFrame, <code>user_total_bought</code> was created with <code>user_id</code> grouped together with <code>product_id</code> and <code>order_id</code> counts. The DataFrame was then joined with <code>products</code> to see the product names of the products purchased in the highest quanties. It was then sorted high to low by the column, <code>user_total_bought</code> to see the products purchased in the greatest amounts. \n",
        "<br><br>\n",
        "A bar chart of the results was created in Pandas then redesigned in Adobe Creative Suite. \n",
        "<br><br>\n",
        "From this analysis, it was found that the product purchased in the largest quantaties is <b>organic string cheese</b>. Most of the items on this list are historically purchased in bulk by most people, like individual drinks, wine, apples, bananas, eggs, and yogurts as they're typically sold as singles and not packages of 12 or so.<br><Br>\n",
        "</font></div>\n",
        "<img src=\"https://live.staticflickr.com/65535/51374484151_bf8da2684b_k.jpg\" width=\"700\" alt=\"Final_Graphics3\">"
      ]
    },
    {
      "cell_type": "code",
      "execution_count": null,
      "metadata": {
        "id": "DzFT0jqs8lAS"
      },
      "outputs": [],
      "source": [
        "#1. Import Pandas again since last section was reset\n",
        "import pandas as pd\n",
        "#2. Just import the all_orders CSV file as a DataFrame\n",
        "csv = '/content/drive/MyDrive/Stage_DSA501_2021/4. Week_4/Final_Project/all_orders.csv'\n",
        "all_orders = pd.read_csv(csv,index_col=0)\n",
        "all_orders.head()"
      ]
    },
    {
      "cell_type": "code",
      "execution_count": null,
      "metadata": {
        "id": "qhR12rjr83eB"
      },
      "outputs": [],
      "source": [
        "#3. Import products table CSV as DataFrame\n",
        "products = pd.read_csv('products.csv')"
      ]
    },
    {
      "cell_type": "code",
      "execution_count": null,
      "metadata": {
        "id": "eXYBuCvAcfld"
      },
      "outputs": [],
      "source": [
        "#4. Group user IDs, product IDs, and order IDs by counts to a new column, \"user_total_bought\"\n",
        "user_total_bought = all_orders.groupby(['user_id', 'product_id'])['order_id'].count().to_frame('user_total_bought')\n",
        "user_total_bought.head()"
      ]
    },
    {
      "cell_type": "code",
      "execution_count": null,
      "metadata": {
        "id": "r7aNQhEUc7Op"
      },
      "outputs": [],
      "source": [
        "#5. Reset the index so user_id is a column and not the index\n",
        "user_total_bought = user_total_bought.reset_index()\n",
        "user_total_bought.head()"
      ]
    },
    {
      "cell_type": "code",
      "execution_count": null,
      "metadata": {
        "id": "cLBoskW0dJWG"
      },
      "outputs": [],
      "source": [
        "#6. Sort the dataframe by users_total_bought to see the items most often purchased in bulk\n",
        "user_total_bought = user_total_bought.sort_values(by='user_total_bought', ascending=False)"
      ]
    },
    {
      "cell_type": "code",
      "execution_count": null,
      "metadata": {
        "id": "9hBa9DZOdp-q"
      },
      "outputs": [],
      "source": [
        "user_total_bought"
      ]
    },
    {
      "cell_type": "code",
      "execution_count": null,
      "metadata": {
        "id": "7wONjCX8drMK"
      },
      "outputs": [],
      "source": [
        "#7. Merge with products to get product names\n",
        "user_total_bought = user_total_bought.merge(products, on='product_id', how='inner')\n",
        "user_total_bought.head()"
      ]
    },
    {
      "cell_type": "code",
      "execution_count": null,
      "metadata": {
        "id": "ke08bRkkf7YZ"
      },
      "outputs": [],
      "source": [
        "#8. Find number of products usually purchased in bulk\n",
        "len(user_total_bought.product_id.unique())"
      ]
    },
    {
      "cell_type": "code",
      "execution_count": null,
      "metadata": {
        "id": "LvKfrEfed_GR"
      },
      "outputs": [],
      "source": [
        "#9. Sort DataFrame by items purchased in bulk from highest to lowest\n",
        "user_total_bought = user_total_bought.sort_values(by='user_total_bought', ascending=False)"
      ]
    },
    {
      "cell_type": "code",
      "execution_count": null,
      "metadata": {
        "id": "-gUqI7mLgpKt"
      },
      "outputs": [],
      "source": [
        "user_total_bought"
      ]
    },
    {
      "cell_type": "code",
      "execution_count": null,
      "metadata": {
        "id": "9xCpx01ggUNP"
      },
      "outputs": [],
      "source": [
        "#10. Pull top 25 products purhased in bulk\n",
        "user_total_bought_25 = user_total_bought.head(25)"
      ]
    },
    {
      "cell_type": "code",
      "execution_count": null,
      "metadata": {
        "id": "dAexuDxAgXnf"
      },
      "outputs": [],
      "source": [
        "#11. Bar chart of top 25 products purchased in bulk\n",
        "ax = user_total_bought_25.plot.bar(y='user_total_bought', x='product_name')"
      ]
    },
    {
      "cell_type": "code",
      "execution_count": null,
      "metadata": {
        "id": "5ajDcEyVggXW"
      },
      "outputs": [],
      "source": [
        "# 12. Reset Runtime to save RAM (it will say \"session crashed\" but this is a purposeful manual crash\n",
        "#-- Move onto and run all cells for next section\n",
        "import os\n",
        "os.kill(os.getpid(), 9)"
      ]
    },
    {
      "cell_type": "code",
      "execution_count": null,
      "metadata": {
        "id": "FzXdpOwPFVnm"
      },
      "outputs": [],
      "source": []
    }
  ],
  "metadata": {
    "accelerator": "GPU",
    "colab": {
      "provenance": [],
      "include_colab_link": true
    },
    "kernelspec": {
      "display_name": "Python 3",
      "name": "python3"
    },
    "language_info": {
      "name": "python"
    }
  },
  "nbformat": 4,
  "nbformat_minor": 0
}