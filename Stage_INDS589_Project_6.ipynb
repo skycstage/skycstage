{
  "nbformat": 4,
  "nbformat_minor": 0,
  "metadata": {
    "colab": {
      "name": "Stage_INDS589_Project_6.ipynb",
      "provenance": [],
      "collapsed_sections": [],
      "mount_file_id": "1hBrtC8CuwEPNWVoDkZjN2JBJFblYjCp-",
      "authorship_tag": "ABX9TyOnVb4jEhLVF0ktgJaalmpz",
      "include_colab_link": true
    },
    "kernelspec": {
      "name": "python3",
      "display_name": "Python 3"
    },
    "language_info": {
      "name": "python"
    }
  },
  "cells": [
    {
      "cell_type": "markdown",
      "metadata": {
        "id": "view-in-github",
        "colab_type": "text"
      },
      "source": [
        "<a href=\"https://colab.research.google.com/github/skycstage/skycstage/blob/main/Stage_INDS589_Project_6.ipynb\" target=\"_parent\"><img src=\"https://colab.research.google.com/assets/colab-badge.svg\" alt=\"Open In Colab\"/></a>"
      ]
    },
    {
      "cell_type": "markdown",
      "metadata": {
        "id": "MEkrbUZOAEJi"
      },
      "source": [
        "<h3><div><font face=\"Garamond\" color=\"#33302e\">\n",
        "Sky C. Stage<br>\n",
        "INDS589: Artificial Intelligence<br>\n",
        "Project 6\n",
        "\n",
        "\n",
        "---\n",
        "\n",
        "\n",
        "</font></div>\n",
        "---"
      ]
    },
    {
      "cell_type": "markdown",
      "metadata": {
        "id": "JgnhEcw1AQIS"
      },
      "source": [
        "<h1><b><div><font face=\"Garamond\" color=\"#33302e\">\n",
        "Problem\n",
        "</font></div></b>\n",
        "<h3><font face=\"Garamond\" color=\"#33302e\">\n",
        "From a web site of sports download data about the players in a sport like baseball, basketball, volleyball, cricket, soccer, water polo, or similar. <br><Br>The data should contain the names, scores (or other performance measure), salary, and positions in the team (say, goalkeeper, defender, striker, etc.). <br><Br>\n",
        "Assume that you are a manager, have a given budget, say 100 M, and have to hire players for a new team. \n",
        "You have to optimize the total score of the optimal team, while staying within budget.\n",
        "Make sure that the players you hire are for the respective positions.<br><Br>\n",
        "Provide nice interface and output in the form of report. Provide justification in the report. (Outcome: Excel file containing text with explanations and justification.)"
      ]
    },
    {
      "cell_type": "markdown",
      "metadata": {
        "id": "_wZBIm3AAxV4"
      },
      "source": [
        "<h1><b><div><font face=\"Garamond\" color=\"#33302e\">\n",
        "Step 1: Scrape player salary data from HoopsHype\n",
        "</font></div></b>\n",
        "<h3><font face=\"Garamond\" color=\"#33302e\">\n",
        "HoopsHype contains player payroll data up to the 2024/25 season (for contracts already signed). Thus, the first thing you want to do is extract the dataset into a pandas Dataframe."
      ]
    },
    {
      "cell_type": "code",
      "metadata": {
        "id": "dU-zquHB4nq6"
      },
      "source": [
        "import requests\n",
        "from bs4 import BeautifulSoup\n",
        "import pandas as pd\n",
        "import matplotlib.pyplot as plt\n",
        "import numpy as np\n",
        "\n",
        "url=\"https://hoopshype.com/salaries/players/\""
      ],
      "execution_count": null,
      "outputs": []
    },
    {
      "cell_type": "markdown",
      "metadata": {
        "id": "CMDrn7U4A8N-"
      },
      "source": [
        "<h1><b><div><font face=\"Garamond\" color=\"#33302e\">\n",
        "Step 2: Extract the table element from the web-page\n",
        "</font></div></b>\n",
        "<h3><font face=\"Garamond\" color=\"#33302e\">\n",
        "Fetch the relevant url content with the request.get method, then save the response in the r variable and extract its text content only with the .text method.<br><Br>\n",
        "Parse it into a BeautifulSoup object and locate the dataset by pointing to the html table tag via the soup.find method."
      ]
    },
    {
      "cell_type": "code",
      "metadata": {
        "id": "sVy29s9-4pq8"
      },
      "source": [
        "r = requests.get(url,timeout=2.5)\n",
        "r_html = r.text\n",
        "\n",
        "soup = BeautifulSoup(r_html, 'html.parser')\n",
        "\n",
        "salary_table = soup.find('table')"
      ],
      "execution_count": null,
      "outputs": []
    },
    {
      "cell_type": "markdown",
      "metadata": {
        "id": "z-5BbP__BK-r"
      },
      "source": [
        "<h1><b><div><font face=\"Garamond\" color=\"#33302e\">\n",
        "Step 3: Extract table rows from the table element\n",
        "</font></div></b>\n",
        "<h3><font face=\"Garamond\" color=\"#33302e\">\n",
        "The html table element is composed of table data cells identified by the td html tag. Fetch the total number of data cells with the len function over the salary_table.find_all(“td”) list elements, which is a list of all data cells in the table.<br><Br>\n",
        "By exploring the list of all td data cells (salary_table.find_all(“td”), we notice that the data cell starting at index 10 makes up the first data cell of the first column of the table, the one containing the player names. Then all data cells at indexes 11 through 15 contain the all data cells with salary data for 2019/20–2024/25 years. All indexes <10 contain the table headers."
      ]
    },
    {
      "cell_type": "code",
      "metadata": {
        "id": "TVEd5_FV4svj"
      },
      "source": [
        "length=len(salary_table.find_all(\"td\"))\n",
        "\n",
        "player_names=[salary_table.find_all(\"td\")[i].text.strip() for i in range(9,length,8)]"
      ],
      "execution_count": null,
      "outputs": []
    },
    {
      "cell_type": "code",
      "metadata": {
        "id": "3-oXFSpC4tKt"
      },
      "source": [
        "column1=[salary_table.find_all(\"td\")[i].text.strip() for i in range(10,length,8)]\n",
        "column2=[salary_table.find_all(\"td\")[i].text.strip() for i in range(11,length,8)]\n",
        "column3=[salary_table.find_all(\"td\")[i].text.strip() for i in range(12,length,8)]\n",
        "column4=[salary_table.find_all(\"td\")[i].text.strip() for i in range(13,length,8)]\n",
        "column5=[salary_table.find_all(\"td\")[i].text.strip() for i in range(14,length,8)]\n",
        "column6=[salary_table.find_all(\"td\")[i].text.strip() for i in range(15,length,8)]"
      ],
      "execution_count": null,
      "outputs": []
    },
    {
      "cell_type": "markdown",
      "metadata": {
        "id": "l_lt6FBoBbGN"
      },
      "source": [
        "<h1><b><div><font face=\"Garamond\" color=\"#33302e\">\n",
        "Step 4: Store data into pandas DataFrame\n",
        "</font></div></b>\n",
        "<h3><font face=\"Garamond\" color=\"#33302e\">\n",
        "Now that we have all table data store in the relevant list, we can set them as values in a dictionary with the keys set as the desired table headers and convert it to a pandas DataFrame with the pd.DataFrame method."
      ]
    },
    {
      "cell_type": "code",
      "metadata": {
        "id": "TWD9dewM4uRy"
      },
      "source": [
        "df_dict={'player_names':player_names,\n",
        "        '2019/20':column1,\n",
        "        '2020/21':column2,\n",
        "        '2021/22':column3,\n",
        "        '2022/23':column4,\n",
        "        '2023/24':column5,\n",
        "        '20124/25':column6}\n",
        "        \n",
        "salary_df=pd.DataFrame(df_dict)"
      ],
      "execution_count": null,
      "outputs": []
    },
    {
      "cell_type": "markdown",
      "metadata": {
        "id": "oJpOnSVABkx7"
      },
      "source": [
        "<h1><b><div><font face=\"Garamond\" color=\"#33302e\">\n",
        "Step 5: Clean and join datasets\n",
        "</font></div></b>\n",
        "<h3><font face=\"Garamond\" color=\"#33302e\">\n",
        "The first data cleaning step is removing all dollar signs (“$”) and commas (“,”) from the salary columns with the .replace method."
      ]
    },
    {
      "cell_type": "code",
      "metadata": {
        "id": "b2HDXO3z4vKy"
      },
      "source": [
        "salary_df.replace({'\\$':''}, regex = True,inplace=True)\n",
        "salary_df.replace(',','', regex=True, inplace=True)\n",
        "\n",
        "for item in salary_df.columns[1:]:\n",
        "    \n",
        "    salary_df[item]=pd.to_numeric(salary_df[item])"
      ],
      "execution_count": null,
      "outputs": []
    },
    {
      "cell_type": "markdown",
      "metadata": {
        "id": "Kaib4WwZBuBQ"
      },
      "source": [
        "<h1><b><div><font face=\"Garamond\" color=\"#33302e\">\n",
        "Step 6: Importing and cleaning the 2019/20 stats dataset\n",
        "</font></div></b>\n",
        "<h3><font face=\"Garamond\" color=\"#33302e\">\n",
        "Import the per-player total statistics from the relevant season. "
      ]
    },
    {
      "cell_type": "code",
      "metadata": {
        "id": "UJ2XFb4l4xeq"
      },
      "source": [
        "stats_df=pd.read_csv(r\"/content/drive/MyDrive/sportsref_download.csv\",encoding=\"latin-1\")"
      ],
      "execution_count": null,
      "outputs": []
    },
    {
      "cell_type": "markdown",
      "metadata": {
        "id": "W2HCiS2lB7B9"
      },
      "source": [
        "<h1><b><div><font face=\"Garamond\" color=\"#33302e\">\n",
        "Step 7: Clean the player name column\n",
        "</font></div></b>"
      ]
    },
    {
      "cell_type": "code",
      "metadata": {
        "id": "ed0bBaec5V_a"
      },
      "source": [
        "for i in range(len(stats_df[\"Player\"])):\n",
        "    \n",
        "    try:\n",
        "\n",
        "        index=stats_df[\"Player\"][i].index(\"\\\\\")\n",
        "        stats_df[\"Player\"][i]=stats_df[\"Player\"][i][0:index]\n",
        "    except:\n",
        "        pass"
      ],
      "execution_count": null,
      "outputs": []
    },
    {
      "cell_type": "markdown",
      "metadata": {
        "id": "Qh1kwwG5CF2Y"
      },
      "source": [
        "<h1><b><div><font face=\"Garamond\" color=\"#33302e\">\n",
        "Step 8: Merge the datasets\n",
        "</font></div></b>"
      ]
    },
    {
      "cell_type": "code",
      "metadata": {
        "id": "JmnndwZ55bnd"
      },
      "source": [
        "complete_df=stats_df.merge(salary_df,how=\"left\", left_on=\"Player\", right_on=\"player_names\")\n"
      ],
      "execution_count": null,
      "outputs": []
    },
    {
      "cell_type": "markdown",
      "metadata": {
        "id": "UKcRYFxDCMsd"
      },
      "source": [
        "<h1><b><div><font face=\"Garamond\" color=\"#33302e\">\n",
        "Step 9: Find above-average performers with below-average pay\n",
        "</font></div></b>\n",
        "<h3><font face=\"Garamond\" color=\"#33302e\">\n",
        "This is found with the Approximate Value metric, $Credits Formula = (Points)+(Rebounds)+(Assists)+(Steal)+(Blocks)-(Field Goals Missed)-(Free Throws Missed)-(Turnovers)$ <Br>$AV Formula = (Credits(3/4) )/21$."
      ]
    },
    {
      "cell_type": "code",
      "metadata": {
        "id": "o1sjnUS05dP0"
      },
      "source": [
        "#Credits Formula\n",
        "complete_df[\"Credits\"]=complete_df[\"PTS\"]+complete_df[\"TRB\"]+complete_df[\"AST\"]+complete_df[\"STL\"]+\\\n",
        "                       complete_df[\"BLK\"]-(complete_df[\"FGA\"]-complete_df[\"FG\"])-(complete_df[\"FTA\"]-\\\n",
        "                       complete_df[\"FT\"])-complete_df[\"TOV\"]\n",
        "\n",
        "complete_df[\"AV\"]=(complete_df[\"Credits\"]**(0.75))/21\n",
        "\n",
        "\n",
        "\n",
        "complete_df[\"MP\"]=pd.to_numeric(complete_df[\"MP\"])\n",
        "complete_df[\"$/minute-19/20\"]=complete_df[\"2019/20\"]/complete_df[\"MP\"]"
      ],
      "execution_count": null,
      "outputs": []
    },
    {
      "cell_type": "code",
      "metadata": {
        "colab": {
          "base_uri": "https://localhost:8080/",
          "height": 298
        },
        "id": "kXRTsQ905fMc",
        "outputId": "bb59dac0-fb6b-4ed0-b233-e796d863b1d1"
      },
      "source": [
        "complete_df.plot(kind=\"scatter\",x=\"$/minute-19/20\",y=\"AV\")"
      ],
      "execution_count": null,
      "outputs": [
        {
          "output_type": "execute_result",
          "data": {
            "text/plain": [
              "<matplotlib.axes._subplots.AxesSubplot at 0x7f7bbd486610>"
            ]
          },
          "metadata": {},
          "execution_count": 11
        },
        {
          "output_type": "display_data",
          "data": {
            "image/png": "[encoded data removed]",
            "text/plain": [
              "<Figure size 432x288 with 1 Axes>"
            ]
          },
          "metadata": {
            "needs_background": "light"
          }
        }
      ]
    },
    {
      "cell_type": "markdown",
      "metadata": {
        "id": "O7yhuk9EC1DQ"
      },
      "source": [
        "<h1><b><div><font face=\"Garamond\" color=\"#33302e\">\n",
        "Step 10: Look at Approximate Values (AV) with outliers removed\n",
        "</font></div></b>\n",
        "<h3><font face=\"Garamond\" color=\"#33302e\">\n",
        "75th percentile ($14k/minute)"
      ]
    },
    {
      "cell_type": "code",
      "metadata": {
        "colab": {
          "base_uri": "https://localhost:8080/",
          "height": 296
        },
        "id": "2jJ8J2lu5g_T",
        "outputId": "e041e7c9-e19c-49ac-c6d8-fbdcea0253ee"
      },
      "source": [
        "complete_df[complete_df[\"$/minute-19/20\"]<=14000].plot(kind=\"scatter\",x=\"$/minute-19/20\",y=\"AV\")"
      ],
      "execution_count": null,
      "outputs": [
        {
          "output_type": "execute_result",
          "data": {
            "text/plain": [
              "<matplotlib.axes._subplots.AxesSubplot at 0x7f7bbd35ed90>"
            ]
          },
          "metadata": {},
          "execution_count": 12
        },
        {
          "output_type": "display_data",
          "data": {
            "image/png": "[encoded data removed]",
            "text/plain": [
              "<Figure size 432x288 with 1 Axes>"
            ]
          },
          "metadata": {
            "needs_background": "light"
          }
        }
      ]
    },
    {
      "cell_type": "markdown",
      "metadata": {
        "id": "83KUDEa-DEKD"
      },
      "source": [
        "<h1><b><div><font face=\"Garamond\" color=\"#33302e\">\n",
        "Step 11: High-level player clustering\n",
        "</font></div></b>\n",
        "<h3><font face=\"Garamond\" color=\"#33302e\">\n",
        "Players with above-average AV and below-average $/minute are in the upper left quadrant of the graph below."
      ]
    },
    {
      "cell_type": "code",
      "metadata": {
        "colab": {
          "base_uri": "https://localhost:8080/",
          "height": 296
        },
        "id": "2gUVmZs45jDK",
        "outputId": "cf1b0d20-77bc-4f72-c1e1-c2d6ff762a48"
      },
      "source": [
        "complete_df[complete_df[\"$/minute-19/20\"]<=14000].plot(kind=\"scatter\",x=\"$/minute-19/20\",y=\"AV\")\n",
        "plt.axvline(x=complete_df[complete_df[\"$/minute-19/20\"]<=14000][\"$/minute-19/20\"].mean(),c=\"red\")\n",
        "plt.axhline(y=complete_df[complete_df[\"$/minute-19/20\"]<=14000][\"AV\"].mean(),c=\"red\")"
      ],
      "execution_count": null,
      "outputs": [
        {
          "output_type": "execute_result",
          "data": {
            "text/plain": [
              "<matplotlib.lines.Line2D at 0x7f7bbcef45d0>"
            ]
          },
          "metadata": {},
          "execution_count": 14
        },
        {
          "output_type": "display_data",
          "data": {
            "image/png": "[encoded data removed]",
            "text/plain": [
              "<Figure size 432x288 with 1 Axes>"
            ]
          },
          "metadata": {
            "needs_background": "light"
          }
        }
      ]
    },
    {
      "cell_type": "markdown",
      "metadata": {
        "id": "iFjklTnxDWOm"
      },
      "source": [
        "<h1><b><div><font face=\"Garamond\" color=\"#33302e\">\n",
        "Step 12: Create list of potential high ROI players\n",
        "</font></div></b>\n",
        "<h3><font face=\"Garamond\" color=\"#33302e\">\n",
        "Store average values for both performance and salary metrics, and subsequently filter the data to only keep above-average performers with below-average pay in per-minute terms in new dataset called good_performers."
      ]
    },
    {
      "cell_type": "code",
      "metadata": {
        "id": "vV1TKS_I5mTK"
      },
      "source": [
        "relevant_dataset=complete_df[complete_df[\"$/minute-19/20\"]<=14000]\n",
        "\n",
        "dollar_minute_mean=relevant_dataset[\"$/minute-19/20\"].mean()\n",
        "AV_mean=relevant_dataset[\"AV\"].mean()\n",
        "\n",
        "good_performers=relevant_dataset[(relevant_dataset[\"$/minute-19/20\"]<dollar_minute_mean) & (relevant_dataset[\"AV\"]>AV_mean)]\n",
        "good_performers.reset_index(inplace=True)"
      ],
      "execution_count": null,
      "outputs": []
    },
    {
      "cell_type": "markdown",
      "metadata": {
        "id": "9yVk8ZEmHlsv"
      },
      "source": [
        "<h1><b><div><font face=\"Garamond\" color=\"#33302e\">\n",
        "Step 14: Sort High ROI Players by highest AV scores\n",
        "</font></div></b>\n",
        "<h3><font face=\"Garamond\" color=\"#33302e\">\n",
        "Save it as a dataframe and export the dataframe to Excel."
      ]
    },
    {
      "cell_type": "code",
      "metadata": {
        "id": "65yDE5B75t_I"
      },
      "source": [
        "good_performers = good_performers[good_performers[\"2020/21\"]==0].sort_values(by=\"AV\",ascending=False)"
      ],
      "execution_count": null,
      "outputs": []
    },
    {
      "cell_type": "code",
      "metadata": {
        "id": "slYMCU5tFj64"
      },
      "source": [
        "good_performers.to_excel('/content/drive/MyDrive/stage_project_6.xlsx')  "
      ],
      "execution_count": null,
      "outputs": []
    },
    {
      "cell_type": "markdown",
      "metadata": {
        "id": "OMqp524sH9db"
      },
      "source": [
        "<h1><b><div><font face=\"Garamond\" color=\"#33302e\">\n",
        "Step 15: Find the highest AV score for each position\n",
        "</font></div></b>\n",
        "<h3><font face=\"Garamond\" color=\"#33302e\">\n",
        "Select the player for the team."
      ]
    },
    {
      "cell_type": "code",
      "metadata": {
        "id": "gnadARV0FY8R"
      },
      "source": [
        "Centers = good_performers[(good_performers[\"Pos\"] == 'C')]"
      ],
      "execution_count": null,
      "outputs": []
    },
    {
      "cell_type": "code",
      "metadata": {
        "colab": {
          "base_uri": "https://localhost:8080/",
          "height": 134
        },
        "id": "WteJZLb5FrHm",
        "outputId": "4de58f1f-77bf-42eb-bea9-eb9f658ad1ec"
      },
      "source": [
        "Centers.head(1)"
      ],
      "execution_count": null,
      "outputs": [
        {
          "output_type": "execute_result",
          "data": {
            "text/html": [
              "<div>\n",
              "<style scoped>\n",
              "    .dataframe tbody tr th:only-of-type {\n",
              "        vertical-align: middle;\n",
              "    }\n",
              "\n",
              "    .dataframe tbody tr th {\n",
              "        vertical-align: top;\n",
              "    }\n",
              "\n",
              "    .dataframe thead th {\n",
              "        text-align: right;\n",
              "    }\n",
              "</style>\n",
              "<table border=\"1\" class=\"dataframe\">\n",
              "  <thead>\n",
              "    <tr style=\"text-align: right;\">\n",
              "      <th></th>\n",
              "      <th>index</th>\n",
              "      <th>ï»¿Rk</th>\n",
              "      <th>Player</th>\n",
              "      <th>Pos</th>\n",
              "      <th>Age</th>\n",
              "      <th>Tm</th>\n",
              "      <th>G</th>\n",
              "      <th>GS</th>\n",
              "      <th>MP</th>\n",
              "      <th>FG</th>\n",
              "      <th>FGA</th>\n",
              "      <th>FG%</th>\n",
              "      <th>3P</th>\n",
              "      <th>3PA</th>\n",
              "      <th>3P%</th>\n",
              "      <th>2P</th>\n",
              "      <th>2PA</th>\n",
              "      <th>2P%</th>\n",
              "      <th>eFG%</th>\n",
              "      <th>FT</th>\n",
              "      <th>FTA</th>\n",
              "      <th>FT%</th>\n",
              "      <th>ORB</th>\n",
              "      <th>DRB</th>\n",
              "      <th>TRB</th>\n",
              "      <th>AST</th>\n",
              "      <th>STL</th>\n",
              "      <th>BLK</th>\n",
              "      <th>TOV</th>\n",
              "      <th>PF</th>\n",
              "      <th>PTS</th>\n",
              "      <th>player_names</th>\n",
              "      <th>2019/20</th>\n",
              "      <th>2020/21</th>\n",
              "      <th>2021/22</th>\n",
              "      <th>2022/23</th>\n",
              "      <th>2023/24</th>\n",
              "      <th>20124/25</th>\n",
              "      <th>Credits</th>\n",
              "      <th>AV</th>\n",
              "      <th>$/minute-19/20</th>\n",
              "    </tr>\n",
              "  </thead>\n",
              "  <tbody>\n",
              "    <tr>\n",
              "      <th>20</th>\n",
              "      <td>183</td>\n",
              "      <td>140</td>\n",
              "      <td>Andre Drummond</td>\n",
              "      <td>C</td>\n",
              "      <td>26</td>\n",
              "      <td>TOT</td>\n",
              "      <td>57</td>\n",
              "      <td>56</td>\n",
              "      <td>1879</td>\n",
              "      <td>418</td>\n",
              "      <td>784</td>\n",
              "      <td>0.533</td>\n",
              "      <td>5</td>\n",
              "      <td>35</td>\n",
              "      <td>0.143</td>\n",
              "      <td>413</td>\n",
              "      <td>749</td>\n",
              "      <td>0.551</td>\n",
              "      <td>0.536</td>\n",
              "      <td>169</td>\n",
              "      <td>294</td>\n",
              "      <td>0.575</td>\n",
              "      <td>250</td>\n",
              "      <td>614</td>\n",
              "      <td>864</td>\n",
              "      <td>152</td>\n",
              "      <td>109</td>\n",
              "      <td>93</td>\n",
              "      <td>203</td>\n",
              "      <td>201</td>\n",
              "      <td>1010</td>\n",
              "      <td>Andre Drummond</td>\n",
              "      <td>2401537.0</td>\n",
              "      <td>0.0</td>\n",
              "      <td>0.0</td>\n",
              "      <td>0.0</td>\n",
              "      <td>0.0</td>\n",
              "      <td>0.0</td>\n",
              "      <td>1534</td>\n",
              "      <td>11.672119</td>\n",
              "      <td>1278.093135</td>\n",
              "    </tr>\n",
              "  </tbody>\n",
              "</table>\n",
              "</div>"
            ],
            "text/plain": [
              "    index  ï»¿Rk          Player  ... Credits         AV $/minute-19/20\n",
              "20    183    140  Andre Drummond  ...    1534  11.672119    1278.093135\n",
              "\n",
              "[1 rows x 41 columns]"
            ]
          },
          "metadata": {},
          "execution_count": 32
        }
      ]
    },
    {
      "cell_type": "code",
      "metadata": {
        "colab": {
          "base_uri": "https://localhost:8080/",
          "height": 134
        },
        "id": "FahxjGyeGA-P",
        "outputId": "8dc33c93-cbeb-420d-b03b-db99410f753a"
      },
      "source": [
        "Power_Forward = good_performers[(good_performers[\"Pos\"] == 'PF')]\n",
        "Power_Forward.head(1)"
      ],
      "execution_count": null,
      "outputs": [
        {
          "output_type": "execute_result",
          "data": {
            "text/html": [
              "<div>\n",
              "<style scoped>\n",
              "    .dataframe tbody tr th:only-of-type {\n",
              "        vertical-align: middle;\n",
              "    }\n",
              "\n",
              "    .dataframe tbody tr th {\n",
              "        vertical-align: top;\n",
              "    }\n",
              "\n",
              "    .dataframe thead th {\n",
              "        text-align: right;\n",
              "    }\n",
              "</style>\n",
              "<table border=\"1\" class=\"dataframe\">\n",
              "  <thead>\n",
              "    <tr style=\"text-align: right;\">\n",
              "      <th></th>\n",
              "      <th>index</th>\n",
              "      <th>ï»¿Rk</th>\n",
              "      <th>Player</th>\n",
              "      <th>Pos</th>\n",
              "      <th>Age</th>\n",
              "      <th>Tm</th>\n",
              "      <th>G</th>\n",
              "      <th>GS</th>\n",
              "      <th>MP</th>\n",
              "      <th>FG</th>\n",
              "      <th>FGA</th>\n",
              "      <th>FG%</th>\n",
              "      <th>3P</th>\n",
              "      <th>3PA</th>\n",
              "      <th>3P%</th>\n",
              "      <th>2P</th>\n",
              "      <th>2PA</th>\n",
              "      <th>2P%</th>\n",
              "      <th>eFG%</th>\n",
              "      <th>FT</th>\n",
              "      <th>FTA</th>\n",
              "      <th>FT%</th>\n",
              "      <th>ORB</th>\n",
              "      <th>DRB</th>\n",
              "      <th>TRB</th>\n",
              "      <th>AST</th>\n",
              "      <th>STL</th>\n",
              "      <th>BLK</th>\n",
              "      <th>TOV</th>\n",
              "      <th>PF</th>\n",
              "      <th>PTS</th>\n",
              "      <th>player_names</th>\n",
              "      <th>2019/20</th>\n",
              "      <th>2020/21</th>\n",
              "      <th>2021/22</th>\n",
              "      <th>2022/23</th>\n",
              "      <th>2023/24</th>\n",
              "      <th>20124/25</th>\n",
              "      <th>Credits</th>\n",
              "      <th>AV</th>\n",
              "      <th>$/minute-19/20</th>\n",
              "    </tr>\n",
              "  </thead>\n",
              "  <tbody>\n",
              "    <tr>\n",
              "      <th>5</th>\n",
              "      <td>57</td>\n",
              "      <td>46</td>\n",
              "      <td>Nemanja Bjelica</td>\n",
              "      <td>PF</td>\n",
              "      <td>31</td>\n",
              "      <td>SAC</td>\n",
              "      <td>72</td>\n",
              "      <td>67</td>\n",
              "      <td>2011</td>\n",
              "      <td>314</td>\n",
              "      <td>653</td>\n",
              "      <td>0.481</td>\n",
              "      <td>134</td>\n",
              "      <td>320</td>\n",
              "      <td>0.419</td>\n",
              "      <td>180</td>\n",
              "      <td>333</td>\n",
              "      <td>0.541</td>\n",
              "      <td>0.583</td>\n",
              "      <td>69</td>\n",
              "      <td>84</td>\n",
              "      <td>0.821</td>\n",
              "      <td>111</td>\n",
              "      <td>347</td>\n",
              "      <td>458</td>\n",
              "      <td>203</td>\n",
              "      <td>62</td>\n",
              "      <td>40</td>\n",
              "      <td>99</td>\n",
              "      <td>216</td>\n",
              "      <td>831</td>\n",
              "      <td>Nemanja Bjelica</td>\n",
              "      <td>2089448.0</td>\n",
              "      <td>0.0</td>\n",
              "      <td>0.0</td>\n",
              "      <td>0.0</td>\n",
              "      <td>0.0</td>\n",
              "      <td>0.0</td>\n",
              "      <td>1141</td>\n",
              "      <td>9.348565</td>\n",
              "      <td>1039.009448</td>\n",
              "    </tr>\n",
              "  </tbody>\n",
              "</table>\n",
              "</div>"
            ],
            "text/plain": [
              "   index  ï»¿Rk           Player  ... Credits        AV $/minute-19/20\n",
              "5     57     46  Nemanja Bjelica  ...    1141  9.348565    1039.009448\n",
              "\n",
              "[1 rows x 41 columns]"
            ]
          },
          "metadata": {},
          "execution_count": 33
        }
      ]
    },
    {
      "cell_type": "code",
      "metadata": {
        "colab": {
          "base_uri": "https://localhost:8080/",
          "height": 134
        },
        "id": "iUf5Pr8vGfL3",
        "outputId": "6dee8a31-1450-4ec5-cade-b75067c19cda"
      },
      "source": [
        "Small_Forward = good_performers[(good_performers[\"Pos\"] == 'SF')]\n",
        "Small_Forward.head(1)"
      ],
      "execution_count": null,
      "outputs": [
        {
          "output_type": "execute_result",
          "data": {
            "text/html": [
              "<div>\n",
              "<style scoped>\n",
              "    .dataframe tbody tr th:only-of-type {\n",
              "        vertical-align: middle;\n",
              "    }\n",
              "\n",
              "    .dataframe tbody tr th {\n",
              "        vertical-align: top;\n",
              "    }\n",
              "\n",
              "    .dataframe thead th {\n",
              "        text-align: right;\n",
              "    }\n",
              "</style>\n",
              "<table border=\"1\" class=\"dataframe\">\n",
              "  <thead>\n",
              "    <tr style=\"text-align: right;\">\n",
              "      <th></th>\n",
              "      <th>index</th>\n",
              "      <th>ï»¿Rk</th>\n",
              "      <th>Player</th>\n",
              "      <th>Pos</th>\n",
              "      <th>Age</th>\n",
              "      <th>Tm</th>\n",
              "      <th>G</th>\n",
              "      <th>GS</th>\n",
              "      <th>MP</th>\n",
              "      <th>FG</th>\n",
              "      <th>FGA</th>\n",
              "      <th>FG%</th>\n",
              "      <th>3P</th>\n",
              "      <th>3PA</th>\n",
              "      <th>3P%</th>\n",
              "      <th>2P</th>\n",
              "      <th>2PA</th>\n",
              "      <th>2P%</th>\n",
              "      <th>eFG%</th>\n",
              "      <th>FT</th>\n",
              "      <th>FTA</th>\n",
              "      <th>FT%</th>\n",
              "      <th>ORB</th>\n",
              "      <th>DRB</th>\n",
              "      <th>TRB</th>\n",
              "      <th>AST</th>\n",
              "      <th>STL</th>\n",
              "      <th>BLK</th>\n",
              "      <th>TOV</th>\n",
              "      <th>PF</th>\n",
              "      <th>PTS</th>\n",
              "      <th>player_names</th>\n",
              "      <th>2019/20</th>\n",
              "      <th>2020/21</th>\n",
              "      <th>2021/22</th>\n",
              "      <th>2022/23</th>\n",
              "      <th>2023/24</th>\n",
              "      <th>20124/25</th>\n",
              "      <th>Credits</th>\n",
              "      <th>AV</th>\n",
              "      <th>$/minute-19/20</th>\n",
              "    </tr>\n",
              "  </thead>\n",
              "  <tbody>\n",
              "    <tr>\n",
              "      <th>37</th>\n",
              "      <td>297</td>\n",
              "      <td>230</td>\n",
              "      <td>Danuel House</td>\n",
              "      <td>SF</td>\n",
              "      <td>26</td>\n",
              "      <td>HOU</td>\n",
              "      <td>63</td>\n",
              "      <td>52</td>\n",
              "      <td>1913</td>\n",
              "      <td>230</td>\n",
              "      <td>539</td>\n",
              "      <td>0.427</td>\n",
              "      <td>129</td>\n",
              "      <td>355</td>\n",
              "      <td>0.363</td>\n",
              "      <td>101</td>\n",
              "      <td>184</td>\n",
              "      <td>0.549</td>\n",
              "      <td>0.546</td>\n",
              "      <td>73</td>\n",
              "      <td>90</td>\n",
              "      <td>0.811</td>\n",
              "      <td>57</td>\n",
              "      <td>210</td>\n",
              "      <td>267</td>\n",
              "      <td>85</td>\n",
              "      <td>67</td>\n",
              "      <td>34</td>\n",
              "      <td>54</td>\n",
              "      <td>132</td>\n",
              "      <td>662</td>\n",
              "      <td>Danuel House</td>\n",
              "      <td>3894000.0</td>\n",
              "      <td>0.0</td>\n",
              "      <td>0.0</td>\n",
              "      <td>0.0</td>\n",
              "      <td>0.0</td>\n",
              "      <td>0.0</td>\n",
              "      <td>735</td>\n",
              "      <td>6.721964</td>\n",
              "      <td>2035.546262</td>\n",
              "    </tr>\n",
              "  </tbody>\n",
              "</table>\n",
              "</div>"
            ],
            "text/plain": [
              "    index  ï»¿Rk        Player Pos  ...  20124/25 Credits        AV  $/minute-19/20\n",
              "37    297    230  Danuel House  SF  ...       0.0     735  6.721964     2035.546262\n",
              "\n",
              "[1 rows x 41 columns]"
            ]
          },
          "metadata": {},
          "execution_count": 34
        }
      ]
    },
    {
      "cell_type": "code",
      "metadata": {
        "colab": {
          "base_uri": "https://localhost:8080/",
          "height": 134
        },
        "id": "tZ9NEF4IGq4r",
        "outputId": "1a9c6b00-639d-4ddf-df9b-70c65e0fece0"
      },
      "source": [
        "Point_Guard = good_performers[(good_performers[\"Pos\"] == 'PG')]\n",
        "Point_Guard.head(1)"
      ],
      "execution_count": null,
      "outputs": [
        {
          "output_type": "execute_result",
          "data": {
            "text/html": [
              "<div>\n",
              "<style scoped>\n",
              "    .dataframe tbody tr th:only-of-type {\n",
              "        vertical-align: middle;\n",
              "    }\n",
              "\n",
              "    .dataframe tbody tr th {\n",
              "        vertical-align: top;\n",
              "    }\n",
              "\n",
              "    .dataframe thead th {\n",
              "        text-align: right;\n",
              "    }\n",
              "</style>\n",
              "<table border=\"1\" class=\"dataframe\">\n",
              "  <thead>\n",
              "    <tr style=\"text-align: right;\">\n",
              "      <th></th>\n",
              "      <th>index</th>\n",
              "      <th>ï»¿Rk</th>\n",
              "      <th>Player</th>\n",
              "      <th>Pos</th>\n",
              "      <th>Age</th>\n",
              "      <th>Tm</th>\n",
              "      <th>G</th>\n",
              "      <th>GS</th>\n",
              "      <th>MP</th>\n",
              "      <th>FG</th>\n",
              "      <th>FGA</th>\n",
              "      <th>FG%</th>\n",
              "      <th>3P</th>\n",
              "      <th>3PA</th>\n",
              "      <th>3P%</th>\n",
              "      <th>2P</th>\n",
              "      <th>2PA</th>\n",
              "      <th>2P%</th>\n",
              "      <th>eFG%</th>\n",
              "      <th>FT</th>\n",
              "      <th>FTA</th>\n",
              "      <th>FT%</th>\n",
              "      <th>ORB</th>\n",
              "      <th>DRB</th>\n",
              "      <th>TRB</th>\n",
              "      <th>AST</th>\n",
              "      <th>STL</th>\n",
              "      <th>BLK</th>\n",
              "      <th>TOV</th>\n",
              "      <th>PF</th>\n",
              "      <th>PTS</th>\n",
              "      <th>player_names</th>\n",
              "      <th>2019/20</th>\n",
              "      <th>2020/21</th>\n",
              "      <th>2021/22</th>\n",
              "      <th>2022/23</th>\n",
              "      <th>2023/24</th>\n",
              "      <th>20124/25</th>\n",
              "      <th>Credits</th>\n",
              "      <th>AV</th>\n",
              "      <th>$/minute-19/20</th>\n",
              "    </tr>\n",
              "  </thead>\n",
              "  <tbody>\n",
              "    <tr>\n",
              "      <th>9</th>\n",
              "      <td>83</td>\n",
              "      <td>70</td>\n",
              "      <td>Bruce Brown</td>\n",
              "      <td>PG</td>\n",
              "      <td>23</td>\n",
              "      <td>DET</td>\n",
              "      <td>58</td>\n",
              "      <td>43</td>\n",
              "      <td>1634</td>\n",
              "      <td>198</td>\n",
              "      <td>447</td>\n",
              "      <td>0.443</td>\n",
              "      <td>33</td>\n",
              "      <td>96</td>\n",
              "      <td>0.344</td>\n",
              "      <td>165</td>\n",
              "      <td>351</td>\n",
              "      <td>0.47</td>\n",
              "      <td>0.48</td>\n",
              "      <td>88</td>\n",
              "      <td>119</td>\n",
              "      <td>0.739</td>\n",
              "      <td>61</td>\n",
              "      <td>213</td>\n",
              "      <td>274</td>\n",
              "      <td>230</td>\n",
              "      <td>63</td>\n",
              "      <td>29</td>\n",
              "      <td>100</td>\n",
              "      <td>162</td>\n",
              "      <td>517</td>\n",
              "      <td>Bruce Brown</td>\n",
              "      <td>4736102.0</td>\n",
              "      <td>0.0</td>\n",
              "      <td>0.0</td>\n",
              "      <td>0.0</td>\n",
              "      <td>0.0</td>\n",
              "      <td>0.0</td>\n",
              "      <td>733</td>\n",
              "      <td>6.708241</td>\n",
              "      <td>2898.471236</td>\n",
              "    </tr>\n",
              "  </tbody>\n",
              "</table>\n",
              "</div>"
            ],
            "text/plain": [
              "   index  ï»¿Rk       Player Pos  ...  20124/25 Credits        AV  $/minute-19/20\n",
              "9     83     70  Bruce Brown  PG  ...       0.0     733  6.708241     2898.471236\n",
              "\n",
              "[1 rows x 41 columns]"
            ]
          },
          "metadata": {},
          "execution_count": 35
        }
      ]
    },
    {
      "cell_type": "code",
      "metadata": {
        "colab": {
          "base_uri": "https://localhost:8080/",
          "height": 134
        },
        "id": "7GCOFVk8G3AE",
        "outputId": "5fe78ea7-179f-410b-d1c9-ac15aea90015"
      },
      "source": [
        "Shooting_Guard = good_performers[(good_performers[\"Pos\"] == 'SG')]\n",
        "Shooting_Guard.head(1)"
      ],
      "execution_count": null,
      "outputs": [
        {
          "output_type": "execute_result",
          "data": {
            "text/html": [
              "<div>\n",
              "<style scoped>\n",
              "    .dataframe tbody tr th:only-of-type {\n",
              "        vertical-align: middle;\n",
              "    }\n",
              "\n",
              "    .dataframe tbody tr th {\n",
              "        vertical-align: top;\n",
              "    }\n",
              "\n",
              "    .dataframe thead th {\n",
              "        text-align: right;\n",
              "    }\n",
              "</style>\n",
              "<table border=\"1\" class=\"dataframe\">\n",
              "  <thead>\n",
              "    <tr style=\"text-align: right;\">\n",
              "      <th></th>\n",
              "      <th>index</th>\n",
              "      <th>ï»¿Rk</th>\n",
              "      <th>Player</th>\n",
              "      <th>Pos</th>\n",
              "      <th>Age</th>\n",
              "      <th>Tm</th>\n",
              "      <th>G</th>\n",
              "      <th>GS</th>\n",
              "      <th>MP</th>\n",
              "      <th>FG</th>\n",
              "      <th>FGA</th>\n",
              "      <th>FG%</th>\n",
              "      <th>3P</th>\n",
              "      <th>3PA</th>\n",
              "      <th>3P%</th>\n",
              "      <th>2P</th>\n",
              "      <th>2PA</th>\n",
              "      <th>2P%</th>\n",
              "      <th>eFG%</th>\n",
              "      <th>FT</th>\n",
              "      <th>FTA</th>\n",
              "      <th>FT%</th>\n",
              "      <th>ORB</th>\n",
              "      <th>DRB</th>\n",
              "      <th>TRB</th>\n",
              "      <th>AST</th>\n",
              "      <th>STL</th>\n",
              "      <th>BLK</th>\n",
              "      <th>TOV</th>\n",
              "      <th>PF</th>\n",
              "      <th>PTS</th>\n",
              "      <th>player_names</th>\n",
              "      <th>2019/20</th>\n",
              "      <th>2020/21</th>\n",
              "      <th>2021/22</th>\n",
              "      <th>2022/23</th>\n",
              "      <th>2023/24</th>\n",
              "      <th>20124/25</th>\n",
              "      <th>Credits</th>\n",
              "      <th>AV</th>\n",
              "      <th>$/minute-19/20</th>\n",
              "    </tr>\n",
              "  </thead>\n",
              "  <tbody>\n",
              "    <tr>\n",
              "      <th>45</th>\n",
              "      <td>369</td>\n",
              "      <td>292</td>\n",
              "      <td>Damion Lee</td>\n",
              "      <td>SG</td>\n",
              "      <td>27</td>\n",
              "      <td>GSW</td>\n",
              "      <td>49</td>\n",
              "      <td>36</td>\n",
              "      <td>1423</td>\n",
              "      <td>213</td>\n",
              "      <td>511</td>\n",
              "      <td>0.417</td>\n",
              "      <td>85</td>\n",
              "      <td>239</td>\n",
              "      <td>0.356</td>\n",
              "      <td>128</td>\n",
              "      <td>272</td>\n",
              "      <td>0.471</td>\n",
              "      <td>0.5</td>\n",
              "      <td>110</td>\n",
              "      <td>126</td>\n",
              "      <td>0.873</td>\n",
              "      <td>32</td>\n",
              "      <td>207</td>\n",
              "      <td>239</td>\n",
              "      <td>133</td>\n",
              "      <td>50</td>\n",
              "      <td>6</td>\n",
              "      <td>67</td>\n",
              "      <td>116</td>\n",
              "      <td>621</td>\n",
              "      <td>Damion Lee</td>\n",
              "      <td>1910860.0</td>\n",
              "      <td>0.0</td>\n",
              "      <td>0.0</td>\n",
              "      <td>0.0</td>\n",
              "      <td>0.0</td>\n",
              "      <td>0.0</td>\n",
              "      <td>668</td>\n",
              "      <td>6.256955</td>\n",
              "      <td>1342.839072</td>\n",
              "    </tr>\n",
              "  </tbody>\n",
              "</table>\n",
              "</div>"
            ],
            "text/plain": [
              "    index  ï»¿Rk      Player Pos  ...  20124/25 Credits        AV  $/minute-19/20\n",
              "45    369    292  Damion Lee  SG  ...       0.0     668  6.256955     1342.839072\n",
              "\n",
              "[1 rows x 41 columns]"
            ]
          },
          "metadata": {},
          "execution_count": 36
        }
      ]
    },
    {
      "cell_type": "code",
      "metadata": {
        "colab": {
          "base_uri": "https://localhost:8080/"
        },
        "id": "vfolVG3RHEZA",
        "outputId": "3d0b98fd-6ea8-4e25-c7bb-5a166e6120f1"
      },
      "source": [
        "total_cost = [2401537 + 2089448 + 3894000 + 4736102 + 1910860]\n",
        "total_cost"
      ],
      "execution_count": null,
      "outputs": [
        {
          "output_type": "execute_result",
          "data": {
            "text/plain": [
              "[15031947]"
            ]
          },
          "metadata": {},
          "execution_count": 40
        }
      ]
    },
    {
      "cell_type": "markdown",
      "metadata": {
        "id": "zvVipSrzElgP"
      },
      "source": [
        "<h1><b><div><font face=\"Garamond\" color=\"#33302e\">\n",
        "Conclusion\n",
        "</font></div></b>\n",
        "<h3><font face=\"Garamond\" color=\"#33302e\">\n",
        "My team would be comprised as:\n",
        "\n",
        "\n",
        "*   Center: Andre Drummond $2,401,537.00\n",
        "\n",
        "*   Power Forward: Nemanja Bjelica $2,089,448.00\n",
        "\n",
        "*   Small Forward: Danuel House $3,894,000.00\n",
        "\n",
        "*   Point Guard: Bruce Brown $4,736,102.00\t\n",
        "\n",
        "*   Shooting Guard: Damion Lee $1,910,860.00\n",
        "\n",
        "Total cost: $15,031,947\n",
        "\n"
      ]
    },
    {
      "cell_type": "code",
      "metadata": {
        "id": "4651wcBh_9M9"
      },
      "source": [
        ""
      ],
      "execution_count": null,
      "outputs": []
    }
  ]
}